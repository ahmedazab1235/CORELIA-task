{
 "cells": [
  {
   "cell_type": "markdown",
   "id": "5dfc20ae",
   "metadata": {},
   "source": [
    "## 1st Challenge, Arabic Handwrittern Recognition"
   ]
  },
  {
   "cell_type": "markdown",
   "id": "33161179",
   "metadata": {},
   "source": [
    "### [Dataset Source](https://www.kaggle.com/mloey1/ahcd1)"
   ]
  },
  {
   "cell_type": "markdown",
   "id": "220bcc68",
   "metadata": {},
   "source": [
    "### `Import the Libraries`"
   ]
  },
  {
   "cell_type": "code",
   "execution_count": 7,
   "id": "74377363",
   "metadata": {},
   "outputs": [],
   "source": [
    "## Most Important\n",
    "import numpy as np\n",
    "import pandas as pd\n",
    "import matplotlib.pyplot as plt\n",
    "%matplotlib inline\n",
    "import seaborn as sns\n",
    "from pathlib import Path\n",
    "from PIL import Image\n",
    "import os\n",
    "\n",
    "## Sklearn\n",
    "from sklearn.model_selection import train_test_split\n",
    "\n",
    "## tensorflow & Keras\n",
    "import tensorflow as tf    ## i will use tf for every thing and for keras using tf.keras\n",
    "\n",
    "import warnings\n",
    "warnings.filterwarnings(\"ignore\")\n",
    "\n",
    "np.random.seed(42)\n",
    "tf.random.set_seed(42)"
   ]
  },
  {
   "cell_type": "markdown",
   "id": "112b9e99",
   "metadata": {},
   "source": [
    "### `Loading the Dataset and Look at the big Picture`\n",
    "\n",
    "`For training Data`"
   ]
  },
  {
   "cell_type": "code",
   "execution_count": 8,
   "id": "0920a792",
   "metadata": {},
   "outputs": [
    {
     "data": {
      "text/plain": [
       "0    /Users/ahmed/Downloads/Azab/files/train/00000.png\n",
       "1    /Users/ahmed/Downloads/Azab/files/train/00001.png\n",
       "2    /Users/ahmed/Downloads/Azab/files/train/00002.png\n",
       "3    /Users/ahmed/Downloads/Azab/files/train/00003.png\n",
       "4    /Users/ahmed/Downloads/Azab/files/train/00004.png\n",
       "Name: Filepath, dtype: object"
      ]
     },
     "execution_count": 8,
     "metadata": {},
     "output_type": "execute_result"
    }
   ],
   "source": [
    "## loading the Dataset\n",
    "path_train = os.path.join(os.getcwd(), 'files')\n",
    "train_labels = pd.read_csv(os.path.join(path_train, 'train.csv'))\n",
    "train_images = Path(os.path.join(path_train, 'train'))\n",
    "## read these all training images paths as Series\n",
    "train_images_paths = pd.Series(sorted(list(train_images.glob(r'*.png'))), name='Filepath').astype(str)\n",
    "\n",
    "train_images_paths.head()"
   ]
  },
  {
   "cell_type": "code",
   "execution_count": null,
   "id": "b71517ed",
   "metadata": {},
   "outputs": [],
   "source": [
    "## for Images\n",
    "train_full_set = np.empty((13440, 32, 32, 3), dtype=np.float32)  # take only the first 3 channels\n",
    "\n",
    "for idx, path in enumerate(train_images_paths):\n",
    "    img = plt.imread(path)\n",
    "    img = img[:,:,:3]\n",
    "    train_full_set[idx] = img\n",
    "    \n",
    "print('train_full_set.shape =>', train_full_set.shape)"
   ]
  },
  {
   "cell_type": "markdown",
   "id": "454a7ef7",
   "metadata": {},
   "source": [
    "### `Explore the Dataset`"
   ]
  },
  {
   "cell_type": "code",
   "execution_count": null,
   "id": "8142ac39",
   "metadata": {},
   "outputs": [],
   "source": [
    "train_labels['label'].value_counts()"
   ]
  },
  {
   "cell_type": "code",
   "execution_count": 15,
   "id": "125a22ea",
   "metadata": {},
   "outputs": [
    {
     "data": {
      "text/plain": [
       "array([24,  2, 17, 14, 19, 10, 23, 28, 18, 21, 11, 13, 15,  8, 16, 26,  4,\n",
       "       12, 25,  1,  9,  5,  7,  6,  3, 20, 22, 27])"
      ]
     },
     "execution_count": 15,
     "metadata": {},
     "output_type": "execute_result"
    }
   ],
   "source": [
    "train_labels['label'].unique()"
   ]
  },
  {
   "cell_type": "code",
   "execution_count": 23,
   "id": "e68b3645",
   "metadata": {},
   "outputs": [],
   "source": [
    "class_names = [\"أ\", \"ب\", \"ت\", \"ث\", \"ج\", \"ح\", \"خ\", \"د\", \"ذ\", \"ر\", \"ز\", \"س\", \"ش\", \"ص\", \"ض\", \"ط\", \"ظ\", \"ع\", \"غ\", \"ف\", \"ق\", \"ك\", \"ل\", \"م\", \"ن\", \"ه\", \"و\", \"ي\"]"
   ]
  },
  {
   "cell_type": "code",
   "execution_count": 28,
   "id": "63206c49",
   "metadata": {},
   "outputs": [
    {
     "data": {
      "text/plain": [
       "28"
      ]
     },
     "execution_count": 28,
     "metadata": {},
     "output_type": "execute_result"
    }
   ],
   "source": [
    "len(class_names)"
   ]
  },
  {
   "cell_type": "code",
   "execution_count": 40,
   "id": "f0397bc1",
   "metadata": {},
   "outputs": [
    {
     "data": {
      "text/plain": [
       "'غ'"
      ]
     },
     "execution_count": 40,
     "metadata": {},
     "output_type": "execute_result"
    }
   ],
   "source": [
    "class_names[train_labels['label'][4] - 1 ]  # becaause the lables starts from 1 in the data"
   ]
  },
  {
   "cell_type": "code",
   "execution_count": 38,
   "id": "6e7a7b27",
   "metadata": {},
   "outputs": [
    {
     "data": {
      "text/html": [
       "<div>\n",
       "<style scoped>\n",
       "    .dataframe tbody tr th:only-of-type {\n",
       "        vertical-align: middle;\n",
       "    }\n",
       "\n",
       "    .dataframe tbody tr th {\n",
       "        vertical-align: top;\n",
       "    }\n",
       "\n",
       "    .dataframe thead th {\n",
       "        text-align: right;\n",
       "    }\n",
       "</style>\n",
       "<table border=\"1\" class=\"dataframe\">\n",
       "  <thead>\n",
       "    <tr style=\"text-align: right;\">\n",
       "      <th></th>\n",
       "      <th>id</th>\n",
       "      <th>label</th>\n",
       "    </tr>\n",
       "  </thead>\n",
       "  <tbody>\n",
       "    <tr>\n",
       "      <th>0</th>\n",
       "      <td>0</td>\n",
       "      <td>24</td>\n",
       "    </tr>\n",
       "    <tr>\n",
       "      <th>1</th>\n",
       "      <td>1</td>\n",
       "      <td>2</td>\n",
       "    </tr>\n",
       "    <tr>\n",
       "      <th>2</th>\n",
       "      <td>2</td>\n",
       "      <td>17</td>\n",
       "    </tr>\n",
       "    <tr>\n",
       "      <th>3</th>\n",
       "      <td>3</td>\n",
       "      <td>14</td>\n",
       "    </tr>\n",
       "    <tr>\n",
       "      <th>4</th>\n",
       "      <td>4</td>\n",
       "      <td>19</td>\n",
       "    </tr>\n",
       "    <tr>\n",
       "      <th>...</th>\n",
       "      <td>...</td>\n",
       "      <td>...</td>\n",
       "    </tr>\n",
       "    <tr>\n",
       "      <th>13435</th>\n",
       "      <td>13435</td>\n",
       "      <td>5</td>\n",
       "    </tr>\n",
       "    <tr>\n",
       "      <th>13436</th>\n",
       "      <td>13436</td>\n",
       "      <td>26</td>\n",
       "    </tr>\n",
       "    <tr>\n",
       "      <th>13437</th>\n",
       "      <td>13437</td>\n",
       "      <td>2</td>\n",
       "    </tr>\n",
       "    <tr>\n",
       "      <th>13438</th>\n",
       "      <td>13438</td>\n",
       "      <td>24</td>\n",
       "    </tr>\n",
       "    <tr>\n",
       "      <th>13439</th>\n",
       "      <td>13439</td>\n",
       "      <td>13</td>\n",
       "    </tr>\n",
       "  </tbody>\n",
       "</table>\n",
       "<p>13440 rows × 2 columns</p>\n",
       "</div>"
      ],
      "text/plain": [
       "          id  label\n",
       "0          0     24\n",
       "1          1      2\n",
       "2          2     17\n",
       "3          3     14\n",
       "4          4     19\n",
       "...      ...    ...\n",
       "13435  13435      5\n",
       "13436  13436     26\n",
       "13437  13437      2\n",
       "13438  13438     24\n",
       "13439  13439     13\n",
       "\n",
       "[13440 rows x 2 columns]"
      ]
     },
     "execution_count": 38,
     "metadata": {},
     "output_type": "execute_result"
    }
   ],
   "source": [
    "train_labels"
   ]
  },
  {
   "cell_type": "code",
   "execution_count": 59,
   "id": "69b18309",
   "metadata": {},
   "outputs": [
    {
     "data": {
      "image/png": "[encoded data removed]",
      "text/plain": [
       "<Figure size 864x345.6 with 40 Axes>"
      ]
     },
     "metadata": {
      "needs_background": "light"
     },
     "output_type": "display_data"
    }
   ],
   "source": [
    "n_rows = 4\n",
    "n_cols = 10\n",
    "plt.figure(figsize=(n_cols * 1.2, n_rows * 1.2))\n",
    "for row in range(n_rows):\n",
    "    for col in range(n_cols):\n",
    "        index = n_cols * row + col\n",
    "        plt.subplot(n_rows, n_cols, index + 1)\n",
    "        plt.imshow(train_full_set[index], cmap=\"binary\", interpolation=\"nearest\")\n",
    "        plt.axis('off')\n",
    "        label = train_labels['label'][index] - 1 \n",
    "        plt.title(f\"{train_labels['label'][index]} {class_names[label]}\", fontsize=12)\n",
    "plt.subplots_adjust(wspace=0.2, hspace=0.5)\n",
    "plt.show()"
   ]
  },
  {
   "cell_type": "code",
   "execution_count": 10,
   "id": "205a483e",
   "metadata": {},
   "outputs": [
    {
     "name": "stdout",
     "output_type": "stream",
     "text": [
      "Number of Instances in train_set => 13440\n",
      "Number of Instances in train_labels => 13440\n",
      "\n",
      "shape of each Image is => (32, 32, 4)\n"
     ]
    }
   ],
   "source": [
    "print('Number of Instances in train_set =>', len(train_images_paths))\n",
    "print('Number of Instances in train_labels =>', len(train_labels))\n",
    "\n",
    "print()\n",
    "\n",
    "img = plt.imread(train_images_paths.iloc[img_index[0]])\n",
    "print('shape of each Image is =>', img.shape)"
   ]
  },
  {
   "cell_type": "markdown",
   "id": "bad9c101",
   "metadata": {},
   "source": [
    "### `Data Processing`"
   ]
  },
  {
   "cell_type": "code",
   "execution_count": 52,
   "id": "bfa7a5df",
   "metadata": {},
   "outputs": [
    {
     "name": "stdout",
     "output_type": "stream",
     "text": [
      "train_full_labels.shape => (13440, 28)\n",
      "\n"
     ]
    },
    {
     "data": {
      "text/plain": [
       "array([[0., 0., 0., ..., 0., 0., 0.],\n",
       "       [0., 1., 0., ..., 0., 0., 0.],\n",
       "       [0., 0., 0., ..., 0., 0., 0.],\n",
       "       ...,\n",
       "       [0., 1., 0., ..., 0., 0., 0.],\n",
       "       [0., 0., 0., ..., 0., 0., 0.],\n",
       "       [0., 0., 0., ..., 0., 0., 0.]], dtype=float32)"
      ]
     },
     "execution_count": 52,
     "metadata": {},
     "output_type": "execute_result"
    }
   ],
   "source": [
    "## for labels\n",
    "train_full_labels = (train_labels['label'] - 1).values  ## to start from 0\n",
    "train_full_labels = tf.keras.utils.to_categorical(train_full_labels)\n",
    "\n",
    "print('train_full_labels.shape =>', train_full_labels.shape)\n",
    "\n",
    "print()\n",
    "\n",
    "train_full_labels"
   ]
  },
  {
   "cell_type": "markdown",
   "id": "c7131596",
   "metadata": {},
   "source": [
    "### `Checking what we did above`"
   ]
  },
  {
   "cell_type": "code",
   "execution_count": 64,
   "id": "74c9a122",
   "metadata": {},
   "outputs": [
    {
     "data": {
      "image/png": "[encoded data removed]",
      "text/plain": [
       "<Figure size 432x288 with 1 Axes>"
      ]
     },
     "metadata": {
      "needs_background": "light"
     },
     "output_type": "display_data"
    }
   ],
   "source": [
    "## take the first batch in (train_full_set)\n",
    "plt.imshow(train_full_set[0]);  ## this letter is labeled as 24, but we reduce 1 => so it should be 23 => let us see"
   ]
  },
  {
   "cell_type": "code",
   "execution_count": 65,
   "id": "2c78f1c7",
   "metadata": {},
   "outputs": [
    {
     "name": "stdout",
     "output_type": "stream",
     "text": [
      "23\n",
      "م\n"
     ]
    }
   ],
   "source": [
    "## take the first row in (train_full_labels)\n",
    "print(np.argmax(pd.DataFrame(train_full_labels).iloc[0,:] ) )\n",
    "print(class_names[np.argmax(pd.DataFrame(train_full_labels).iloc[0,:] ) ] ) ### Great !"
   ]
  },
  {
   "cell_type": "markdown",
   "id": "629a9586",
   "metadata": {},
   "source": [
    "### `Split the Dataset`"
   ]
  },
  {
   "cell_type": "code",
   "execution_count": 66,
   "id": "ad3b79f6",
   "metadata": {},
   "outputs": [
    {
     "name": "stdout",
     "output_type": "stream",
     "text": [
      "X_train.shape => (10752, 32, 32, 3)\n",
      "X_valid.shape => (2688, 32, 32, 3)\n",
      "y_train.shape => (10752, 28)\n",
      "y_valid.shape => (2688, 28)\n"
     ]
    }
   ],
   "source": [
    "X_train, X_valid, y_train, y_valid = train_test_split(train_full_set, train_full_labels, \n",
    "                                                      test_size=0.2, shuffle=True, random_state=42)\n",
    "\n",
    "print('X_train.shape =>', X_train.shape)\n",
    "print('X_valid.shape =>', X_valid.shape)\n",
    "print('y_train.shape =>', y_train.shape)\n",
    "print('y_valid.shape =>', y_valid.shape)"
   ]
  },
  {
   "cell_type": "markdown",
   "id": "0a5147c3",
   "metadata": {},
   "source": [
    "### `Model Training`"
   ]
  },
  {
   "cell_type": "code",
   "execution_count": 70,
   "id": "1d64932c",
   "metadata": {},
   "outputs": [],
   "source": [
    "\n",
    "## Build the Model\n",
    "\n",
    "model = tf.keras.models.Sequential([\n",
    "    \n",
    "## block 1\n",
    "tf.keras.layers.Conv2D(filters=16, kernel_size=3, activation='relu', \n",
    "                        kernel_initializer='he_normal', padding='same', input_shape=(32, 32, 3)),\n",
    "tf.keras.layers.BatchNormalization(),\n",
    "tf.keras.layers.MaxPooling2D(pool_size=2),\n",
    "tf.keras.layers.Dropout(0.2),\n",
    "\n",
    "## block 2\n",
    "tf.keras.layers.Conv2D(filters=32, kernel_size=3, activation='relu', \n",
    "                        kernel_initializer='he_normal', padding='same'),\n",
    "tf.keras.layers.BatchNormalization(),\n",
    "tf.keras.layers.MaxPooling2D(pool_size=2),\n",
    "tf.keras.layers.Dropout(0.2),\n",
    "\n",
    "## block 3\n",
    "tf.keras.layers.Conv2D(filters=64, kernel_size=3, activation='relu', \n",
    "                        kernel_initializer='he_normal', padding='same'),\n",
    "tf.keras.layers.BatchNormalization(),\n",
    "tf.keras.layers.MaxPooling2D(pool_size=2),\n",
    "tf.keras.layers.Dropout(0.2),\n",
    "    \n",
    "## block 4\n",
    "tf.keras.layers.Conv2D(filters=128, kernel_size=3, activation='relu', \n",
    "                        kernel_initializer='he_normal', padding='same'),\n",
    "tf.keras.layers.BatchNormalization(),\n",
    "tf.keras.layers.MaxPooling2D(pool_size=2),\n",
    "tf.keras.layers.Dropout(0.2),\n",
    "\n",
    "\n",
    "## top classifier\n",
    "tf.keras.layers.GlobalAveragePooling2D(),\n",
    "tf.keras.layers.Dense(28, activation='softmax')   ## here 28 not 29, so we decrease 1 from labels\n",
    "\n",
    "])\n"
   ]
  },
  {
   "cell_type": "code",
   "execution_count": 71,
   "id": "d4af9234",
   "metadata": {},
   "outputs": [
    {
     "name": "stdout",
     "output_type": "stream",
     "text": [
      "Model: \"sequential_2\"\n",
      "_________________________________________________________________\n",
      "Layer (type)                 Output Shape              Param #   \n",
      "=================================================================\n",
      "conv2d_8 (Conv2D)            (None, 32, 32, 16)        448       \n",
      "_________________________________________________________________\n",
      "batch_normalization_8 (Batch (None, 32, 32, 16)        64        \n",
      "_________________________________________________________________\n",
      "max_pooling2d_8 (MaxPooling2 (None, 16, 16, 16)        0         \n",
      "_________________________________________________________________\n",
      "dropout_8 (Dropout)          (None, 16, 16, 16)        0         \n",
      "_________________________________________________________________\n",
      "conv2d_9 (Conv2D)            (None, 16, 16, 32)        4640      \n",
      "_________________________________________________________________\n",
      "batch_normalization_9 (Batch (None, 16, 16, 32)        128       \n",
      "_________________________________________________________________\n",
      "max_pooling2d_9 (MaxPooling2 (None, 8, 8, 32)          0         \n",
      "_________________________________________________________________\n",
      "dropout_9 (Dropout)          (None, 8, 8, 32)          0         \n",
      "_________________________________________________________________\n",
      "conv2d_10 (Conv2D)           (None, 8, 8, 64)          18496     \n",
      "_________________________________________________________________\n",
      "batch_normalization_10 (Batc (None, 8, 8, 64)          256       \n",
      "_________________________________________________________________\n",
      "max_pooling2d_10 (MaxPooling (None, 4, 4, 64)          0         \n",
      "_________________________________________________________________\n",
      "dropout_10 (Dropout)         (None, 4, 4, 64)          0         \n",
      "_________________________________________________________________\n",
      "conv2d_11 (Conv2D)           (None, 4, 4, 128)         73856     \n",
      "_________________________________________________________________\n",
      "batch_normalization_11 (Batc (None, 4, 4, 128)         512       \n",
      "_________________________________________________________________\n",
      "max_pooling2d_11 (MaxPooling (None, 2, 2, 128)         0         \n",
      "_________________________________________________________________\n",
      "dropout_11 (Dropout)         (None, 2, 2, 128)         0         \n",
      "_________________________________________________________________\n",
      "global_average_pooling2d_2 ( (None, 128)               0         \n",
      "_________________________________________________________________\n",
      "dense_2 (Dense)              (None, 28)                3612      \n",
      "=================================================================\n",
      "Total params: 102,012\n",
      "Trainable params: 101,532\n",
      "Non-trainable params: 480\n",
      "_________________________________________________________________\n"
     ]
    }
   ],
   "source": [
    "## Check the Summary\n",
    "model.summary()"
   ]
  },
  {
   "cell_type": "markdown",
   "id": "bad03652",
   "metadata": {},
   "source": [
    "### `Scheduling learning_rate using (Performance wise scheduling)`"
   ]
  },
  {
   "cell_type": "code",
   "execution_count": 72,
   "id": "661b6932",
   "metadata": {},
   "outputs": [
    {
     "name": "stdout",
     "output_type": "stream",
     "text": [
      "Train on 10752 samples, validate on 2688 samples\n",
      "Epoch 1/100\n",
      "10752/10752 [==============================] - 41s 4ms/sample - loss: 1.2370 - accuracy: 0.5998 - val_loss: 3.8633 - val_accuracy: 0.2381\n",
      "Epoch 2/100\n",
      "10752/10752 [==============================] - 41s 4ms/sample - loss: 0.5335 - accuracy: 0.8178 - val_loss: 3.6067 - val_accuracy: 0.3899\n",
      "Epoch 3/100\n",
      "10752/10752 [==============================] - 39s 4ms/sample - loss: 0.4120 - accuracy: 0.8632 - val_loss: 0.3367 - val_accuracy: 0.8973\n",
      "Epoch 4/100\n",
      "10752/10752 [==============================] - 46s 4ms/sample - loss: 0.3606 - accuracy: 0.8774 - val_loss: 1.5257 - val_accuracy: 0.5506\n",
      "Epoch 5/100\n",
      "10752/10752 [==============================] - 38s 4ms/sample - loss: 0.3229 - accuracy: 0.8934 - val_loss: 0.7485 - val_accuracy: 0.7753\n",
      "Epoch 6/100\n",
      "10752/10752 [==============================] - 42s 4ms/sample - loss: 0.2781 - accuracy: 0.9080 - val_loss: 1.3685 - val_accuracy: 0.6313\n",
      "Epoch 7/100\n",
      "10752/10752 [==============================] - 38s 4ms/sample - loss: 0.2749 - accuracy: 0.9094 - val_loss: 0.7072 - val_accuracy: 0.7850\n",
      "Epoch 8/100\n",
      "10752/10752 [==============================] - 38s 4ms/sample - loss: 0.2544 - accuracy: 0.9181 - val_loss: 0.4347 - val_accuracy: 0.8627\n",
      "Epoch 9/100\n",
      "10752/10752 [==============================] - 39s 4ms/sample - loss: 0.1908 - accuracy: 0.9342 - val_loss: 0.4616 - val_accuracy: 0.8553\n",
      "Epoch 10/100\n",
      "10752/10752 [==============================] - 38s 4ms/sample - loss: 0.1744 - accuracy: 0.9401 - val_loss: 0.1732 - val_accuracy: 0.9435\n",
      "Epoch 11/100\n",
      "10752/10752 [==============================] - 38s 4ms/sample - loss: 0.1637 - accuracy: 0.9460 - val_loss: 0.7843 - val_accuracy: 0.7734\n",
      "Epoch 12/100\n",
      "10752/10752 [==============================] - 38s 4ms/sample - loss: 0.1566 - accuracy: 0.9480 - val_loss: 0.2483 - val_accuracy: 0.9208\n",
      "Epoch 13/100\n",
      "10752/10752 [==============================] - 38s 4ms/sample - loss: 0.1573 - accuracy: 0.9484 - val_loss: 0.2106 - val_accuracy: 0.9297\n",
      "Epoch 14/100\n",
      "10752/10752 [==============================] - 39s 4ms/sample - loss: 0.1486 - accuracy: 0.9511 - val_loss: 0.8787 - val_accuracy: 0.7786\n",
      "Epoch 15/100\n",
      "10752/10752 [==============================] - 38s 4ms/sample - loss: 0.1429 - accuracy: 0.9516 - val_loss: 0.1769 - val_accuracy: 0.9453\n",
      "Epoch 16/100\n",
      "10752/10752 [==============================] - 38s 4ms/sample - loss: 0.1214 - accuracy: 0.9579 - val_loss: 0.2673 - val_accuracy: 0.9211\n",
      "Epoch 17/100\n",
      "10752/10752 [==============================] - 38s 4ms/sample - loss: 0.1140 - accuracy: 0.9598 - val_loss: 0.1866 - val_accuracy: 0.9468\n",
      "Epoch 18/100\n",
      "10752/10752 [==============================] - 38s 4ms/sample - loss: 0.1029 - accuracy: 0.9652 - val_loss: 0.1976 - val_accuracy: 0.9472\n",
      "Epoch 19/100\n",
      "10752/10752 [==============================] - 38s 4ms/sample - loss: 0.0980 - accuracy: 0.9676 - val_loss: 0.3148 - val_accuracy: 0.9100\n",
      "Epoch 20/100\n",
      "10752/10752 [==============================] - 38s 4ms/sample - loss: 0.0987 - accuracy: 0.9652 - val_loss: 0.1541 - val_accuracy: 0.9624\n",
      "Epoch 21/100\n",
      "10752/10752 [==============================] - 39s 4ms/sample - loss: 0.1006 - accuracy: 0.9649 - val_loss: 0.1047 - val_accuracy: 0.9699\n",
      "Epoch 22/100\n",
      "10752/10752 [==============================] - 38s 4ms/sample - loss: 0.0873 - accuracy: 0.9706 - val_loss: 0.1323 - val_accuracy: 0.9617\n",
      "Epoch 23/100\n",
      "10752/10752 [==============================] - 38s 4ms/sample - loss: 0.0927 - accuracy: 0.9696 - val_loss: 0.2976 - val_accuracy: 0.9092\n",
      "Epoch 24/100\n",
      "10752/10752 [==============================] - 38s 4ms/sample - loss: 0.0962 - accuracy: 0.9689 - val_loss: 0.2151 - val_accuracy: 0.9386\n",
      "Epoch 25/100\n",
      "10752/10752 [==============================] - 38s 4ms/sample - loss: 0.0899 - accuracy: 0.9680 - val_loss: 0.1484 - val_accuracy: 0.9602\n",
      "Epoch 26/100\n",
      "10752/10752 [==============================] - 39s 4ms/sample - loss: 0.0968 - accuracy: 0.9658 - val_loss: 0.1410 - val_accuracy: 0.9587\n",
      "Epoch 27/100\n",
      "10752/10752 [==============================] - 39s 4ms/sample - loss: 0.0827 - accuracy: 0.9711 - val_loss: 0.1133 - val_accuracy: 0.9732\n",
      "Epoch 28/100\n",
      "10752/10752 [==============================] - 39s 4ms/sample - loss: 0.0718 - accuracy: 0.9754 - val_loss: 0.1212 - val_accuracy: 0.9654\n",
      "Epoch 29/100\n",
      "10752/10752 [==============================] - 38s 4ms/sample - loss: 0.0748 - accuracy: 0.9754 - val_loss: 0.1301 - val_accuracy: 0.9665\n",
      "Epoch 30/100\n",
      "10752/10752 [==============================] - 38s 4ms/sample - loss: 0.0762 - accuracy: 0.9739 - val_loss: 0.1091 - val_accuracy: 0.9706\n",
      "Epoch 31/100\n",
      "10752/10752 [==============================] - 38s 4ms/sample - loss: 0.0580 - accuracy: 0.9794 - val_loss: 0.1024 - val_accuracy: 0.9721\n",
      "Epoch 32/100\n",
      "10752/10752 [==============================] - 38s 4ms/sample - loss: 0.0649 - accuracy: 0.9786 - val_loss: 0.0974 - val_accuracy: 0.9743\n",
      "Epoch 33/100\n",
      "10752/10752 [==============================] - 38s 4ms/sample - loss: 0.0625 - accuracy: 0.9781 - val_loss: 0.1140 - val_accuracy: 0.9695\n",
      "Epoch 34/100\n",
      "10752/10752 [==============================] - 38s 4ms/sample - loss: 0.0565 - accuracy: 0.9804 - val_loss: 0.1209 - val_accuracy: 0.9669\n",
      "Epoch 35/100\n",
      "10752/10752 [==============================] - 38s 4ms/sample - loss: 0.0654 - accuracy: 0.9763 - val_loss: 0.1372 - val_accuracy: 0.9684\n",
      "Epoch 36/100\n",
      "10752/10752 [==============================] - 38s 4ms/sample - loss: 0.0597 - accuracy: 0.9800 - val_loss: 0.1356 - val_accuracy: 0.9587\n",
      "Epoch 37/100\n",
      "10752/10752 [==============================] - 39s 4ms/sample - loss: 0.0648 - accuracy: 0.9780 - val_loss: 0.1078 - val_accuracy: 0.9721\n",
      "Epoch 38/100\n",
      "10752/10752 [==============================] - 38s 4ms/sample - loss: 0.0563 - accuracy: 0.9819 - val_loss: 0.1089 - val_accuracy: 0.9736\n",
      "Epoch 39/100\n",
      "10752/10752 [==============================] - 39s 4ms/sample - loss: 0.0554 - accuracy: 0.9816 - val_loss: 0.0973 - val_accuracy: 0.9747\n",
      "Epoch 40/100\n",
      "10752/10752 [==============================] - 38s 4ms/sample - loss: 0.0498 - accuracy: 0.9827 - val_loss: 0.0992 - val_accuracy: 0.9740\n",
      "Epoch 41/100\n",
      "10752/10752 [==============================] - 38s 4ms/sample - loss: 0.0541 - accuracy: 0.9817 - val_loss: 0.1092 - val_accuracy: 0.9721\n",
      "Epoch 42/100\n",
      "10752/10752 [==============================] - 38s 4ms/sample - loss: 0.0522 - accuracy: 0.9816 - val_loss: 0.1091 - val_accuracy: 0.9688\n",
      "Epoch 43/100\n",
      "10752/10752 [==============================] - 39s 4ms/sample - loss: 0.0536 - accuracy: 0.9825 - val_loss: 0.1099 - val_accuracy: 0.9702\n",
      "Epoch 44/100\n",
      "10752/10752 [==============================] - 41s 4ms/sample - loss: 0.0501 - accuracy: 0.9822 - val_loss: 0.0960 - val_accuracy: 0.9747\n",
      "Epoch 45/100\n",
      "10752/10752 [==============================] - 43s 4ms/sample - loss: 0.0535 - accuracy: 0.9805 - val_loss: 0.1062 - val_accuracy: 0.9684\n",
      "Epoch 46/100\n",
      "10752/10752 [==============================] - 40s 4ms/sample - loss: 0.0512 - accuracy: 0.9815 - val_loss: 0.0964 - val_accuracy: 0.9754\n",
      "Epoch 47/100\n",
      "10752/10752 [==============================] - 38s 4ms/sample - loss: 0.0515 - accuracy: 0.9819 - val_loss: 0.1132 - val_accuracy: 0.9699\n",
      "Epoch 48/100\n",
      "10752/10752 [==============================] - 39s 4ms/sample - loss: 0.0468 - accuracy: 0.9834 - val_loss: 0.0995 - val_accuracy: 0.9728\n",
      "Epoch 49/100\n",
      "10752/10752 [==============================] - 39s 4ms/sample - loss: 0.0494 - accuracy: 0.9825 - val_loss: 0.0974 - val_accuracy: 0.9740\n",
      "Epoch 50/100\n",
      "10752/10752 [==============================] - 39s 4ms/sample - loss: 0.0441 - accuracy: 0.9843 - val_loss: 0.0948 - val_accuracy: 0.9736\n",
      "Epoch 51/100\n",
      "10752/10752 [==============================] - 39s 4ms/sample - loss: 0.0435 - accuracy: 0.9850 - val_loss: 0.0995 - val_accuracy: 0.9747\n",
      "Epoch 52/100\n",
      "10752/10752 [==============================] - 38s 4ms/sample - loss: 0.0426 - accuracy: 0.9854 - val_loss: 0.1043 - val_accuracy: 0.9714\n",
      "Epoch 53/100\n",
      "10752/10752 [==============================] - 38s 4ms/sample - loss: 0.0453 - accuracy: 0.9834 - val_loss: 0.1003 - val_accuracy: 0.9732\n",
      "Epoch 54/100\n",
      "10752/10752 [==============================] - 39s 4ms/sample - loss: 0.0397 - accuracy: 0.9865 - val_loss: 0.0961 - val_accuracy: 0.9736\n",
      "Epoch 55/100\n",
      "10752/10752 [==============================] - 38s 4ms/sample - loss: 0.0483 - accuracy: 0.9843 - val_loss: 0.0942 - val_accuracy: 0.9751\n",
      "Epoch 56/100\n",
      "10752/10752 [==============================] - 38s 4ms/sample - loss: 0.0428 - accuracy: 0.9848 - val_loss: 0.0946 - val_accuracy: 0.9758\n",
      "Epoch 57/100\n",
      "10752/10752 [==============================] - 38s 4ms/sample - loss: 0.0443 - accuracy: 0.9837 - val_loss: 0.1009 - val_accuracy: 0.9740\n",
      "Epoch 58/100\n",
      "10752/10752 [==============================] - 38s 4ms/sample - loss: 0.0437 - accuracy: 0.9855 - val_loss: 0.0953 - val_accuracy: 0.9754\n",
      "Epoch 59/100\n",
      "10752/10752 [==============================] - 39s 4ms/sample - loss: 0.0447 - accuracy: 0.9845 - val_loss: 0.1010 - val_accuracy: 0.9743\n",
      "Epoch 60/100\n",
      "10752/10752 [==============================] - 40s 4ms/sample - loss: 0.0419 - accuracy: 0.9850 - val_loss: 0.1121 - val_accuracy: 0.9725\n",
      "Epoch 61/100\n",
      "10752/10752 [==============================] - 39s 4ms/sample - loss: 0.0399 - accuracy: 0.9860 - val_loss: 0.0994 - val_accuracy: 0.9743\n",
      "Epoch 62/100\n",
      "10752/10752 [==============================] - 40s 4ms/sample - loss: 0.0408 - accuracy: 0.9860 - val_loss: 0.0956 - val_accuracy: 0.9758\n",
      "Epoch 63/100\n",
      "10752/10752 [==============================] - 42s 4ms/sample - loss: 0.0408 - accuracy: 0.9861 - val_loss: 0.1000 - val_accuracy: 0.9728\n",
      "Epoch 64/100\n",
      "10752/10752 [==============================] - 41s 4ms/sample - loss: 0.0398 - accuracy: 0.9868 - val_loss: 0.0967 - val_accuracy: 0.9743\n",
      "Epoch 65/100\n",
      "10752/10752 [==============================] - 39s 4ms/sample - loss: 0.0458 - accuracy: 0.9848 - val_loss: 0.0971 - val_accuracy: 0.9754\n",
      "Epoch 66/100\n",
      "10752/10752 [==============================] - 40s 4ms/sample - loss: 0.0416 - accuracy: 0.9869 - val_loss: 0.0951 - val_accuracy: 0.9762\n",
      "Epoch 67/100\n",
      "10752/10752 [==============================] - 39s 4ms/sample - loss: 0.0381 - accuracy: 0.9880 - val_loss: 0.0987 - val_accuracy: 0.9754\n",
      "Epoch 68/100\n",
      "10752/10752 [==============================] - 40s 4ms/sample - loss: 0.0385 - accuracy: 0.9864 - val_loss: 0.0971 - val_accuracy: 0.9736\n",
      "Epoch 69/100\n",
      "10752/10752 [==============================] - 39s 4ms/sample - loss: 0.0390 - accuracy: 0.9857 - val_loss: 0.0980 - val_accuracy: 0.9736\n",
      "Epoch 70/100\n",
      "10752/10752 [==============================] - 40s 4ms/sample - loss: 0.0387 - accuracy: 0.9866 - val_loss: 0.0944 - val_accuracy: 0.9754\n",
      "Epoch 71/100\n",
      "10752/10752 [==============================] - 40s 4ms/sample - loss: 0.0423 - accuracy: 0.9861 - val_loss: 0.0974 - val_accuracy: 0.9736\n",
      "Epoch 72/100\n",
      "10752/10752 [==============================] - 40s 4ms/sample - loss: 0.0383 - accuracy: 0.9863 - val_loss: 0.0969 - val_accuracy: 0.9740\n",
      "Epoch 73/100\n",
      "10752/10752 [==============================] - 40s 4ms/sample - loss: 0.0425 - accuracy: 0.9853 - val_loss: 0.0976 - val_accuracy: 0.9740\n",
      "Epoch 74/100\n",
      "10752/10752 [==============================] - 39s 4ms/sample - loss: 0.0391 - accuracy: 0.9871 - val_loss: 0.0971 - val_accuracy: 0.9743\n",
      "Epoch 75/100\n",
      "10752/10752 [==============================] - 39s 4ms/sample - loss: 0.0409 - accuracy: 0.9862 - val_loss: 0.0979 - val_accuracy: 0.9747\n",
      "Epoch 76/100\n",
      "10752/10752 [==============================] - 38s 4ms/sample - loss: 0.0392 - accuracy: 0.9862 - val_loss: 0.0969 - val_accuracy: 0.9743\n",
      "Epoch 77/100\n",
      "10752/10752 [==============================] - 38s 4ms/sample - loss: 0.0408 - accuracy: 0.9855 - val_loss: 0.0966 - val_accuracy: 0.9743\n",
      "Epoch 78/100\n",
      "10752/10752 [==============================] - 39s 4ms/sample - loss: 0.0397 - accuracy: 0.9860 - val_loss: 0.0969 - val_accuracy: 0.9743\n",
      "Epoch 79/100\n",
      "10752/10752 [==============================] - 39s 4ms/sample - loss: 0.0369 - accuracy: 0.9885 - val_loss: 0.0965 - val_accuracy: 0.9751\n",
      "Epoch 80/100\n",
      "10752/10752 [==============================] - 38s 4ms/sample - loss: 0.0417 - accuracy: 0.9851 - val_loss: 0.0971 - val_accuracy: 0.9743\n",
      "Epoch 81/100\n",
      "10752/10752 [==============================] - 39s 4ms/sample - loss: 0.0400 - accuracy: 0.9857 - val_loss: 0.0966 - val_accuracy: 0.9747\n",
      "Epoch 82/100\n",
      "10752/10752 [==============================] - 43s 4ms/sample - loss: 0.0350 - accuracy: 0.9885 - val_loss: 0.0964 - val_accuracy: 0.9754\n",
      "Epoch 83/100\n",
      "10752/10752 [==============================] - 39s 4ms/sample - loss: 0.0381 - accuracy: 0.9862 - val_loss: 0.0960 - val_accuracy: 0.9751\n",
      "Epoch 84/100\n",
      "10752/10752 [==============================] - 39s 4ms/sample - loss: 0.0378 - accuracy: 0.9871 - val_loss: 0.0969 - val_accuracy: 0.9747\n",
      "Epoch 85/100\n",
      "10752/10752 [==============================] - 39s 4ms/sample - loss: 0.0390 - accuracy: 0.9866 - val_loss: 0.0966 - val_accuracy: 0.9751\n",
      "Epoch 86/100\n",
      "10752/10752 [==============================] - 38s 4ms/sample - loss: 0.0360 - accuracy: 0.9868 - val_loss: 0.0969 - val_accuracy: 0.9743\n",
      "Epoch 87/100\n",
      "10752/10752 [==============================] - 38s 4ms/sample - loss: 0.0362 - accuracy: 0.9870 - val_loss: 0.0960 - val_accuracy: 0.9754\n",
      "Epoch 88/100\n",
      "10752/10752 [==============================] - 39s 4ms/sample - loss: 0.0397 - accuracy: 0.9863 - val_loss: 0.0965 - val_accuracy: 0.9751\n",
      "Epoch 89/100\n",
      "10752/10752 [==============================] - 38s 4ms/sample - loss: 0.0364 - accuracy: 0.9869 - val_loss: 0.0971 - val_accuracy: 0.9743\n",
      "Epoch 90/100\n",
      "10752/10752 [==============================] - 39s 4ms/sample - loss: 0.0420 - accuracy: 0.9865 - val_loss: 0.0964 - val_accuracy: 0.9754\n",
      "Epoch 91/100\n",
      "10752/10752 [==============================] - 38s 4ms/sample - loss: 0.0382 - accuracy: 0.9874 - val_loss: 0.0965 - val_accuracy: 0.9743\n",
      "Epoch 92/100\n",
      "10752/10752 [==============================] - 39s 4ms/sample - loss: 0.0390 - accuracy: 0.9861 - val_loss: 0.0969 - val_accuracy: 0.9743\n",
      "Epoch 93/100\n",
      "10752/10752 [==============================] - 39s 4ms/sample - loss: 0.0364 - accuracy: 0.9876 - val_loss: 0.0966 - val_accuracy: 0.9747\n",
      "Epoch 94/100\n",
      "10752/10752 [==============================] - 38s 4ms/sample - loss: 0.0352 - accuracy: 0.9886 - val_loss: 0.0964 - val_accuracy: 0.9758\n",
      "Epoch 95/100\n",
      "10752/10752 [==============================] - 38s 4ms/sample - loss: 0.0365 - accuracy: 0.9882 - val_loss: 0.0969 - val_accuracy: 0.9751\n",
      "Epoch 96/100\n",
      "10752/10752 [==============================] - 40s 4ms/sample - loss: 0.0383 - accuracy: 0.9858 - val_loss: 0.0969 - val_accuracy: 0.9747\n",
      "Epoch 97/100\n",
      "10752/10752 [==============================] - 40s 4ms/sample - loss: 0.0365 - accuracy: 0.9881 - val_loss: 0.0968 - val_accuracy: 0.9751\n",
      "Epoch 98/100\n",
      "10752/10752 [==============================] - 39s 4ms/sample - loss: 0.0398 - accuracy: 0.9867 - val_loss: 0.0967 - val_accuracy: 0.9747\n",
      "Epoch 99/100\n",
      "10752/10752 [==============================] - 38s 4ms/sample - loss: 0.0352 - accuracy: 0.9881 - val_loss: 0.0966 - val_accuracy: 0.9754\n",
      "Epoch 100/100\n",
      "10752/10752 [==============================] - 40s 4ms/sample - loss: 0.0388 - accuracy: 0.9858 - val_loss: 0.0959 - val_accuracy: 0.9754\n"
     ]
    }
   ],
   "source": [
    "## \n",
    "n_epochs = 100\n",
    "n_batch = 32\n",
    "\n",
    "## for performance scheduling\n",
    "lr_scheduler = tf.keras.callbacks.ReduceLROnPlateau(factor=0.5, patience=5)\n",
    "\n",
    "## COMPILE model again after changing criteria\n",
    "model.compile(loss='categorical_crossentropy', \n",
    "                      metrics=['accuracy'], \n",
    "                      optimizer=tf.keras.optimizers.Nadam(learning_rate=0.01))\n",
    "\n",
    "\n",
    "## Fitting\n",
    "history = model.fit(X_train, y_train, \n",
    "                    validation_data=(X_valid, y_valid), \n",
    "                    epochs=n_epochs,\n",
    "                    batch_size=n_batch, \n",
    "                    callbacks=[lr_scheduler])"
   ]
  },
  {
   "cell_type": "markdown",
   "id": "28ad86b0",
   "metadata": {},
   "source": [
    "### `Extract results from history`"
   ]
  },
  {
   "cell_type": "code",
   "execution_count": 73,
   "id": "21bef3b5",
   "metadata": {},
   "outputs": [
    {
     "data": {
      "image/png": "[encoded data removed]",
      "text/plain": [
       "<Figure size 1440x576 with 2 Axes>"
      ]
     },
     "metadata": {
      "needs_background": "light"
     },
     "output_type": "display_data"
    }
   ],
   "source": [
    "### extract results from history\n",
    "\n",
    "train_loss = history.history['loss']\n",
    "train_acc = history.history['accuracy']\n",
    "\n",
    "val_loss = history.history['val_loss']\n",
    "val_acc = history.history['val_accuracy']\n",
    "epochs = range(1, len(train_loss)+1)\n",
    "\n",
    "### get some results and Visualization from history\n",
    "fig, ax = plt.subplots(1, 2, figsize=(20, 8))\n",
    "fig.tight_layout(pad=4)  ## to avoid overlaping of titles in subplots (try comment it you will know)\n",
    "\n",
    "plt.sca(ax[0])\n",
    "plt.plot(epochs, train_loss, 'bo-', label='training')\n",
    "plt.plot(epochs, val_loss, 'go--', label='validating')\n",
    "plt.xlabel('epochs')\n",
    "plt.ylabel('losses')\n",
    "plt.title('Training& ValidatingLoss')\n",
    "plt.legend()\n",
    "\n",
    "plt.sca(ax[1])\n",
    "plt.plot(epochs, train_acc, 'bo-', label='training')\n",
    "plt.plot(epochs, val_acc, 'go--', label='validating')\n",
    "plt.xlabel('epochs')\n",
    "plt.ylabel('accuracy')\n",
    "plt.title('Training & Validating Accuracy')\n",
    "\n",
    "plt.legend(loc='lower right')\n",
    "plt.show()"
   ]
  },
  {
   "cell_type": "markdown",
   "id": "96b956ce",
   "metadata": {},
   "source": [
    "### `For learning_rate`"
   ]
  },
  {
   "cell_type": "code",
   "execution_count": 74,
   "id": "ed07aaa1",
   "metadata": {},
   "outputs": [
    {
     "data": {
      "image/png": "[encoded data removed]",
      "text/plain": [
       "<Figure size 864x432 with 2 Axes>"
      ]
     },
     "metadata": {
      "needs_background": "light"
     },
     "output_type": "display_data"
    }
   ],
   "source": [
    "## checking for learning_rate\n",
    "plt.figure(figsize=(12, 6))\n",
    "\n",
    "lr_history = history.history['lr']\n",
    "val_loss_hist = history.history['val_loss']\n",
    "n_epochs = history.epoch\n",
    "plt.xlabel(\"Epoch\", fontsize=14)\n",
    "plt.ylabel(\"Learning Rate\", color='b', fontsize=14)\n",
    "plt.plot(n_epochs, lr_history, 'bo-')\n",
    "\n",
    "ax2 = plt.gca().twinx()\n",
    "ax2.plot(n_epochs, val_loss_hist, 'r*-')\n",
    "ax2.set_ylabel(\"Val_loss\", color='r', fontsize=14)\n",
    "plt.title(\"Reduce LR on Plateau Performance\", fontsize=14)\n",
    "plt.show()"
   ]
  },
  {
   "cell_type": "code",
   "execution_count": 75,
   "id": "f32953d6",
   "metadata": {},
   "outputs": [
    {
     "name": "stdout",
     "output_type": "stream",
     "text": [
      "loss_all_data => 0.021111070917686447\n",
      "acc_all_data => 0.99471724\n",
      "\n",
      "loss_train_data => 0.002405234082137516\n",
      "acc_train_data => 0.99953496\n",
      "\n",
      "loss_valid_data => 0.09593442104232963\n",
      "acc_valid_data => 0.9754464\n"
     ]
    }
   ],
   "source": [
    "loss_all_data, acc_all_data = model.evaluate(train_full_set, train_full_labels, verbose=0)\n",
    "print('loss_all_data =>', loss_all_data)\n",
    "print('acc_all_data =>', acc_all_data)\n",
    "print('')\n",
    "loss_train_data, acc_train_data = model.evaluate(X_train, y_train, verbose=0)\n",
    "print('loss_train_data =>', loss_train_data)\n",
    "print('acc_train_data =>', acc_train_data)\n",
    "print('')\n",
    "loss_valid_data, acc_valid_data = model.evaluate(X_valid, y_valid, verbose=0)\n",
    "print('loss_valid_data =>', loss_valid_data)\n",
    "print('acc_valid_data =>', acc_valid_data)"
   ]
  },
  {
   "cell_type": "markdown",
   "id": "2040552b",
   "metadata": {},
   "source": [
    "### `Evaluation on test Dataset`"
   ]
  },
  {
   "cell_type": "code",
   "execution_count": 76,
   "id": "af696d28",
   "metadata": {},
   "outputs": [
    {
     "data": {
      "text/plain": [
       "0    /Users/ahmed/Downloads/Azab/files/test/00000.png\n",
       "1    /Users/ahmed/Downloads/Azab/files/test/00001.png\n",
       "2    /Users/ahmed/Downloads/Azab/files/test/00002.png\n",
       "3    /Users/ahmed/Downloads/Azab/files/test/00003.png\n",
       "4    /Users/ahmed/Downloads/Azab/files/test/00004.png\n",
       "Name: Filepath, dtype: object"
      ]
     },
     "execution_count": 76,
     "metadata": {},
     "output_type": "execute_result"
    }
   ],
   "source": [
    "## for testing \n",
    "path_test = os.path.join(os.getcwd(), 'files')\n",
    "test_labels = pd.read_csv(os.path.join(path_train, 'test.csv'))\n",
    "test_images = Path(os.path.join(path_train, 'test'))\n",
    "\n",
    "## read these all training images paths as Series\n",
    "test_images_paths = pd.Series(sorted(list(test_images.glob(r'*.png'))), name='Filepath').astype(str)\n",
    "\n",
    "test_images_paths.head()"
   ]
  },
  {
   "cell_type": "code",
   "execution_count": 77,
   "id": "a14142c6",
   "metadata": {},
   "outputs": [
    {
     "name": "stdout",
     "output_type": "stream",
     "text": [
      "Number of Instances in test_set is 3360\n"
     ]
    }
   ],
   "source": [
    "## checking the shape\n",
    "print('Number of Instances in test_set is', len(test_images_paths))"
   ]
  },
  {
   "cell_type": "code",
   "execution_count": 78,
   "id": "76b22628",
   "metadata": {},
   "outputs": [
    {
     "name": "stdout",
     "output_type": "stream",
     "text": [
      "test_full_set.shape => (3360, 32, 32, 3)\n"
     ]
    }
   ],
   "source": [
    "## Processing the test Dataset\n",
    "test_full_set = np.empty((3360, 32, 32, 3), dtype=np.float32)  #take only the first 3 channels\n",
    "\n",
    "for idx, path in enumerate(test_images_paths):\n",
    "    img = plt.imread(path)\n",
    "    img = img[:,:,:3]\n",
    "    test_full_set[idx] = img\n",
    "    \n",
    "print('test_full_set.shape =>', test_full_set.shape)"
   ]
  },
  {
   "cell_type": "markdown",
   "id": "cd64bd34",
   "metadata": {},
   "source": [
    "### `Inference`"
   ]
  },
  {
   "cell_type": "code",
   "execution_count": 79,
   "id": "a364b67e",
   "metadata": {},
   "outputs": [
    {
     "data": {
      "text/plain": [
       "array([26, 10,  1, ...,  4, 11, 20])"
      ]
     },
     "execution_count": 79,
     "metadata": {},
     "output_type": "execute_result"
    }
   ],
   "source": [
    "## Inference --> taking the max probability\n",
    "y_preds_classes = np.argmax(model.predict(test_full_set), axis=-1) + 1 \n",
    "y_preds_classes"
   ]
  },
  {
   "cell_type": "code",
   "execution_count": 80,
   "id": "57e7739b",
   "metadata": {},
   "outputs": [
    {
     "data": {
      "text/html": [
       "<div>\n",
       "<style scoped>\n",
       "    .dataframe tbody tr th:only-of-type {\n",
       "        vertical-align: middle;\n",
       "    }\n",
       "\n",
       "    .dataframe tbody tr th {\n",
       "        vertical-align: top;\n",
       "    }\n",
       "\n",
       "    .dataframe thead th {\n",
       "        text-align: right;\n",
       "    }\n",
       "</style>\n",
       "<table border=\"1\" class=\"dataframe\">\n",
       "  <thead>\n",
       "    <tr style=\"text-align: right;\">\n",
       "      <th></th>\n",
       "      <th>id</th>\n",
       "      <th>label</th>\n",
       "    </tr>\n",
       "  </thead>\n",
       "  <tbody>\n",
       "    <tr>\n",
       "      <th>0</th>\n",
       "      <td>0</td>\n",
       "      <td>26</td>\n",
       "    </tr>\n",
       "    <tr>\n",
       "      <th>1</th>\n",
       "      <td>1</td>\n",
       "      <td>10</td>\n",
       "    </tr>\n",
       "    <tr>\n",
       "      <th>2</th>\n",
       "      <td>2</td>\n",
       "      <td>1</td>\n",
       "    </tr>\n",
       "    <tr>\n",
       "      <th>3</th>\n",
       "      <td>3</td>\n",
       "      <td>10</td>\n",
       "    </tr>\n",
       "    <tr>\n",
       "      <th>4</th>\n",
       "      <td>4</td>\n",
       "      <td>15</td>\n",
       "    </tr>\n",
       "    <tr>\n",
       "      <th>...</th>\n",
       "      <td>...</td>\n",
       "      <td>...</td>\n",
       "    </tr>\n",
       "    <tr>\n",
       "      <th>3355</th>\n",
       "      <td>3355</td>\n",
       "      <td>16</td>\n",
       "    </tr>\n",
       "    <tr>\n",
       "      <th>3356</th>\n",
       "      <td>3356</td>\n",
       "      <td>6</td>\n",
       "    </tr>\n",
       "    <tr>\n",
       "      <th>3357</th>\n",
       "      <td>3357</td>\n",
       "      <td>4</td>\n",
       "    </tr>\n",
       "    <tr>\n",
       "      <th>3358</th>\n",
       "      <td>3358</td>\n",
       "      <td>11</td>\n",
       "    </tr>\n",
       "    <tr>\n",
       "      <th>3359</th>\n",
       "      <td>3359</td>\n",
       "      <td>20</td>\n",
       "    </tr>\n",
       "  </tbody>\n",
       "</table>\n",
       "<p>3360 rows × 2 columns</p>\n",
       "</div>"
      ],
      "text/plain": [
       "        id  label\n",
       "0        0     26\n",
       "1        1     10\n",
       "2        2      1\n",
       "3        3     10\n",
       "4        4     15\n",
       "...    ...    ...\n",
       "3355  3355     16\n",
       "3356  3356      6\n",
       "3357  3357      4\n",
       "3358  3358     11\n",
       "3359  3359     20\n",
       "\n",
       "[3360 rows x 2 columns]"
      ]
     },
     "execution_count": 80,
     "metadata": {},
     "output_type": "execute_result"
    }
   ],
   "source": [
    "## finally\n",
    "test_labels['label'] = y_preds_classes\n",
    "test_labels"
   ]
  },
  {
   "cell_type": "code",
   "execution_count": 81,
   "id": "f83f5ecb",
   "metadata": {},
   "outputs": [
    {
     "data": {
      "text/plain": [
       "'ه'"
      ]
     },
     "execution_count": 81,
     "metadata": {},
     "output_type": "execute_result"
    }
   ],
   "source": [
    "class_names[test_labels['label'][0]-1]"
   ]
  },
  {
   "cell_type": "code",
   "execution_count": null,
   "id": "d669d203",
   "metadata": {},
   "outputs": [],
   "source": []
  }
 ],
 "metadata": {
  "kernelspec": {
   "display_name": "Python 3 (ipykernel)",
   "language": "python",
   "name": "python3"
  },
  "language_info": {
   "codemirror_mode": {
    "name": "ipython",
    "version": 3
   },
   "file_extension": ".py",
   "mimetype": "text/x-python",
   "name": "python",
   "nbconvert_exporter": "python",
   "pygments_lexer": "ipython3",
   "version": "3.7.11"
  }
 },
 "nbformat": 4,
 "nbformat_minor": 5
}
