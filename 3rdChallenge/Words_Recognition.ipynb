{
 "cells": [
  {
   "cell_type": "code",
   "execution_count": 1,
   "id": "72ec3504",
   "metadata": {},
   "outputs": [],
   "source": [
    "## import numpy library\n",
    "import numpy as np\n",
    "\n",
    "## import pandas library\n",
    "import pandas as pd\n",
    "## set an option for pandas to show max colwidth and better see the data\n",
    "pd.set_option('display.max_colwidth', None)\n",
    "\n",
    "## import matplotlib library for visualization\n",
    "import matplotlib.pyplot as plt\n",
    "%matplotlib inline\n",
    "\n",
    "## import to get path\n",
    "from pathlib import Path\n",
    "\n",
    "#import os library\n",
    "import os\n",
    "\n",
    "#import cv2 library\n",
    "import cv2\n",
    "\n",
    "#import imutils library\n",
    "import imutils\n",
    "\n",
    "# import LabelEncoder to encode catigorical data \n",
    "from sklearn.preprocessing import LabelEncoder\n",
    "\n",
    "# import utils to shuffel the data\n",
    "from sklearn import utils\n",
    "\n",
    "# import train_test_split to split the data\n",
    "from sklearn.model_selection import train_test_split\n",
    "\n",
    "\n",
    "## tensorflow & Keras\n",
    "## tensorflow as tf \n",
    "## keras as tf.keras\n",
    "import tensorflow as tf    "
   ]
  },
  {
   "cell_type": "markdown",
   "id": "dbd554da",
   "metadata": {},
   "source": [
    "### Prepare the Dataset"
   ]
  },
  {
   "cell_type": "code",
   "execution_count": 2,
   "id": "1b6a124b",
   "metadata": {
    "scrolled": true
   },
   "outputs": [],
   "source": [
    "## Get the paths of subfolders\n",
    "# main_paths will have the main paths of folders \n",
    "\n",
    "folder_path = os.path.join(os.getcwd(), 'Hijja2')\n",
    "main_paths = []\n",
    "for (dirpath, dirnames, filenames) in os.walk(folder_path):\n",
    "    main_paths.append(dirpath)\n",
    "    \n",
    "## remove the outer folders and only keep the inner sub folders\n",
    "# sub_paths will have the pathes of sub folders \n",
    "# labels will have the label of the images\n",
    "sub_paths = []\n",
    "labels = []\n",
    "for sub_folder in main_paths:\n",
    "    if len(sub_folder.split('\\\\')) > 6:\n",
    "        sub_paths.append(sub_folder)\n",
    "        labels.append(sub_folder.split('\\\\')[-1])"
   ]
  },
  {
   "cell_type": "code",
   "execution_count": 3,
   "id": "93d7fc4a",
   "metadata": {},
   "outputs": [],
   "source": [
    "## Gettinل the Paths and labels for all the Dataset\n",
    "df_final = pd.DataFrame()\n",
    "\n",
    "for i in range(len(sub_paths)):\n",
    "    each_dir = Path(sub_paths[i])\n",
    "    each_df = pd.DataFrame({'Paths': sorted(each_dir.glob(r'*.png')), 'Labels': labels[i]})\n",
    "    df_final = pd.concat((df_final, each_df))"
   ]
  },
  {
   "cell_type": "code",
   "execution_count": 4,
   "id": "9afd01e1",
   "metadata": {},
   "outputs": [
    {
     "data": {
      "text/html": [
       "<div>\n",
       "<style scoped>\n",
       "    .dataframe tbody tr th:only-of-type {\n",
       "        vertical-align: middle;\n",
       "    }\n",
       "\n",
       "    .dataframe tbody tr th {\n",
       "        vertical-align: top;\n",
       "    }\n",
       "\n",
       "    .dataframe thead th {\n",
       "        text-align: right;\n",
       "    }\n",
       "</style>\n",
       "<table border=\"1\" class=\"dataframe\">\n",
       "  <thead>\n",
       "    <tr style=\"text-align: right;\">\n",
       "      <th></th>\n",
       "      <th>Paths</th>\n",
       "      <th>Labels</th>\n",
       "    </tr>\n",
       "  </thead>\n",
       "  <tbody>\n",
       "    <tr>\n",
       "      <th>1720</th>\n",
       "      <td>C:\\Users\\moham\\Desktop\\Hijja2\\1 alif\\1.4\\45701.png</td>\n",
       "      <td>1.4</td>\n",
       "    </tr>\n",
       "    <tr>\n",
       "      <th>16148</th>\n",
       "      <td>C:\\Users\\moham\\Desktop\\Hijja2\\18 ayn\\18.4\\18098.png</td>\n",
       "      <td>18.4</td>\n",
       "    </tr>\n",
       "    <tr>\n",
       "      <th>31335</th>\n",
       "      <td>C:\\Users\\moham\\Desktop\\Hijja2\\26 ha\\26.2\\9272.png</td>\n",
       "      <td>26.2</td>\n",
       "    </tr>\n",
       "    <tr>\n",
       "      <th>35406</th>\n",
       "      <td>C:\\Users\\moham\\Desktop\\Hijja2\\29 hamza\\29.2\\26565.png</td>\n",
       "      <td>29.2</td>\n",
       "    </tr>\n",
       "    <tr>\n",
       "      <th>19825</th>\n",
       "      <td>C:\\Users\\moham\\Desktop\\Hijja2\\2 ba\\2.4\\35103.png</td>\n",
       "      <td>2.4</td>\n",
       "    </tr>\n",
       "    <tr>\n",
       "      <th>...</th>\n",
       "      <td>...</td>\n",
       "      <td>...</td>\n",
       "    </tr>\n",
       "    <tr>\n",
       "      <th>7763</th>\n",
       "      <td>C:\\Users\\moham\\Desktop\\Hijja2\\13 shin\\13.4\\43192.png</td>\n",
       "      <td>13.4</td>\n",
       "    </tr>\n",
       "    <tr>\n",
       "      <th>15377</th>\n",
       "      <td>C:\\Users\\moham\\Desktop\\Hijja2\\18 ayn\\18.2\\28464.png</td>\n",
       "      <td>18.2</td>\n",
       "    </tr>\n",
       "    <tr>\n",
       "      <th>17730</th>\n",
       "      <td>C:\\Users\\moham\\Desktop\\Hijja2\\19 gayn\\19.3\\5681.png</td>\n",
       "      <td>19.3</td>\n",
       "    </tr>\n",
       "    <tr>\n",
       "      <th>28030</th>\n",
       "      <td>C:\\Users\\moham\\Desktop\\Hijja2\\24 mim\\24.3\\28705.png</td>\n",
       "      <td>24.3</td>\n",
       "    </tr>\n",
       "    <tr>\n",
       "      <th>15725</th>\n",
       "      <td>C:\\Users\\moham\\Desktop\\Hijja2\\18 ayn\\18.3\\2004.png</td>\n",
       "      <td>18.3</td>\n",
       "    </tr>\n",
       "  </tbody>\n",
       "</table>\n",
       "<p>47434 rows × 2 columns</p>\n",
       "</div>"
      ],
      "text/plain": [
       "                                                       Paths Labels\n",
       "1720      C:\\Users\\moham\\Desktop\\Hijja2\\1 alif\\1.4\\45701.png    1.4\n",
       "16148    C:\\Users\\moham\\Desktop\\Hijja2\\18 ayn\\18.4\\18098.png   18.4\n",
       "31335      C:\\Users\\moham\\Desktop\\Hijja2\\26 ha\\26.2\\9272.png   26.2\n",
       "35406  C:\\Users\\moham\\Desktop\\Hijja2\\29 hamza\\29.2\\26565.png   29.2\n",
       "19825       C:\\Users\\moham\\Desktop\\Hijja2\\2 ba\\2.4\\35103.png    2.4\n",
       "...                                                      ...    ...\n",
       "7763    C:\\Users\\moham\\Desktop\\Hijja2\\13 shin\\13.4\\43192.png   13.4\n",
       "15377    C:\\Users\\moham\\Desktop\\Hijja2\\18 ayn\\18.2\\28464.png   18.2\n",
       "17730    C:\\Users\\moham\\Desktop\\Hijja2\\19 gayn\\19.3\\5681.png   19.3\n",
       "28030    C:\\Users\\moham\\Desktop\\Hijja2\\24 mim\\24.3\\28705.png   24.3\n",
       "15725     C:\\Users\\moham\\Desktop\\Hijja2\\18 ayn\\18.3\\2004.png   18.3\n",
       "\n",
       "[47434 rows x 2 columns]"
      ]
     },
     "execution_count": 4,
     "metadata": {},
     "output_type": "execute_result"
    }
   ],
   "source": [
    "## reset index after concatinating the data\n",
    "df_final = df_final.reset_index().drop(columns=['index'], axis=1)\n",
    "\n",
    "## shuffle the data set\n",
    "df_final = utils.shuffle(df_final, random_state=123)\n",
    "df_final"
   ]
  },
  {
   "cell_type": "code",
   "execution_count": 5,
   "id": "aecac0cb",
   "metadata": {
    "scrolled": true
   },
   "outputs": [
    {
     "data": {
      "image/png": "[encoded data removed]",
      "text/plain": [
       "<Figure size 1440x1080 with 30 Axes>"
      ]
     },
     "metadata": {
      "needs_background": "light"
     },
     "output_type": "display_data"
    }
   ],
   "source": [
    "## preparing for plotting random number of images\n",
    "# choosing the first 30 images \n",
    "labels_to_plot = df_final['Labels'].iloc[:30].values \n",
    "paths_to_plot = df_final['Paths'].iloc[:30].values\n",
    "\n",
    "## ploating a sample to the data with label to visualize the data \n",
    "fig, ax = plt.subplots(5, 6, figsize=(20, 15))\n",
    "fig.tight_layout(pad=2)\n",
    "\n",
    "i = 0\n",
    "for row in range(5):\n",
    "    for col in range(6):\n",
    "        plt.sca(ax[row, col])\n",
    "        plt.title(f'Label = {labels_to_plot[i]}', fontsize=14)\n",
    "        img = plt.imread(paths_to_plot[i])\n",
    "        plt.imshow(img, cmap='gray')\n",
    "        plt.axis('off')\n",
    "        i+=1"
   ]
  },
  {
   "cell_type": "markdown",
   "id": "dffd2fff",
   "metadata": {},
   "source": [
    "### Preparing the Dataset before building the Model"
   ]
  },
  {
   "cell_type": "code",
   "execution_count": 6,
   "id": "aa9d0698",
   "metadata": {},
   "outputs": [],
   "source": [
    "## drop more than one channel (non graty images)\n",
    "to_dropped = []\n",
    "for idx in range(len(df_final)):\n",
    "    shapes = plt.imread(df_final['Paths'][idx]).shape\n",
    "    if shapes != (32, 32):\n",
    "        to_dropped.append(idx)"
   ]
  },
  {
   "cell_type": "code",
   "execution_count": 7,
   "id": "48e2bfde",
   "metadata": {},
   "outputs": [
    {
     "name": "stdout",
     "output_type": "stream",
     "text": [
      "to_dropped length -->  41\n"
     ]
    }
   ],
   "source": [
    "## length of images that have more than one channel\n",
    "print('to_dropped length --> ', len(to_dropped))"
   ]
  },
  {
   "cell_type": "code",
   "execution_count": 8,
   "id": "2b4a21ba",
   "metadata": {},
   "outputs": [],
   "source": [
    "## drop the images that have more than one channel from the main df\n",
    "df_final = df_final.drop(to_dropped)"
   ]
  },
  {
   "cell_type": "code",
   "execution_count": 9,
   "id": "1d356f4f",
   "metadata": {},
   "outputs": [
    {
     "name": "stdout",
     "output_type": "stream",
     "text": [
      "data_images.shape => (47393, 32, 32, 1)\n",
      "data_labels.shape => (47393,)\n"
     ]
    }
   ],
   "source": [
    "## read the images\n",
    "data_labels = df_final['Labels'].values\n",
    "data_images = np.empty((47393, 32, 32), dtype=np.float32)  \n",
    "\n",
    "for idx, path in enumerate(df_final['Paths']):\n",
    "    img = plt.imread(path)\n",
    "    data_images[idx] = img\n",
    "    \n",
    "data_images = data_images[..., np.newaxis]  ## add channel of 1\n",
    "print('data_images.shape =>', data_images.shape)\n",
    "print('data_labels.shape =>', data_labels.shape)"
   ]
  },
  {
   "cell_type": "code",
   "execution_count": 10,
   "id": "4489a6cb",
   "metadata": {},
   "outputs": [],
   "source": [
    "## Label encoding for the target\n",
    "# encoding the labels of the images \n",
    "\n",
    "encoder = LabelEncoder()\n",
    "data_labels_encoded = encoder.fit_transform(data_labels)"
   ]
  },
  {
   "cell_type": "markdown",
   "id": "af2b9306",
   "metadata": {},
   "source": [
    "### Split the Data"
   ]
  },
  {
   "cell_type": "code",
   "execution_count": 15,
   "id": "8afd9881",
   "metadata": {},
   "outputs": [
    {
     "name": "stdout",
     "output_type": "stream",
     "text": [
      "X_train.shape => (37914, 32, 32, 1)\n",
      "y_train.shape => (37914,)\n",
      "X_valid.shape => (9479, 32, 32, 1)\n",
      "y_valid.shape => (9479,)\n"
     ]
    }
   ],
   "source": [
    "# spliting the data with 80%:20% train test\n",
    "X_train, X_valid, y_train, y_valid = train_test_split(data_images, data_labels_encoded, \n",
    "                                                      test_size=0.2, shuffle=True, random_state=42)\n",
    "\n",
    "print('X_train.shape =>', X_train.shape)\n",
    "print('y_train.shape =>', y_train.shape)\n",
    "print('X_valid.shape =>', X_valid.shape)\n",
    "print('y_valid.shape =>', y_valid.shape)"
   ]
  },
  {
   "cell_type": "markdown",
   "id": "209394bc",
   "metadata": {},
   "source": [
    "### Model Training"
   ]
  },
  {
   "cell_type": "code",
   "execution_count": 16,
   "id": "dbb0e529",
   "metadata": {},
   "outputs": [
    {
     "name": "stdout",
     "output_type": "stream",
     "text": [
      "Model: \"sequential_1\"\n",
      "_________________________________________________________________\n",
      "Layer (type)                 Output Shape              Param #   \n",
      "=================================================================\n",
      "conv2d_4 (Conv2D)            (None, 32, 32, 32)        832       \n",
      "_________________________________________________________________\n",
      "conv2d_5 (Conv2D)            (None, 32, 32, 32)        25632     \n",
      "_________________________________________________________________\n",
      "max_pooling2d_2 (MaxPooling2 (None, 16, 16, 32)        0         \n",
      "_________________________________________________________________\n",
      "conv2d_6 (Conv2D)            (None, 16, 16, 64)        18496     \n",
      "_________________________________________________________________\n",
      "conv2d_7 (Conv2D)            (None, 16, 16, 64)        36928     \n",
      "_________________________________________________________________\n",
      "max_pooling2d_3 (MaxPooling2 (None, 8, 8, 64)          0         \n",
      "_________________________________________________________________\n",
      "flatten_1 (Flatten)          (None, 4096)              0         \n",
      "_________________________________________________________________\n",
      "dense_3 (Dense)              (None, 256)               1048832   \n",
      "_________________________________________________________________\n",
      "dense_4 (Dense)              (None, 256)               65792     \n",
      "_________________________________________________________________\n",
      "dense_5 (Dense)              (None, 108)               27756     \n",
      "=================================================================\n",
      "Total params: 1,224,268\n",
      "Trainable params: 1,224,268\n",
      "Non-trainable params: 0\n",
      "_________________________________________________________________\n"
     ]
    }
   ],
   "source": [
    "## build the model\n",
    "model = tf.keras.models.Sequential([\n",
    "    \n",
    "    ## conv base \n",
    "    \n",
    "    ## block_1\n",
    "    tf.keras.layers.Conv2D(filters=32, kernel_size=(5, 5), padding='same', \n",
    "                 activation='elu', input_shape=(32, 32, 1)),\n",
    "    tf.keras.layers.Conv2D(filters=32, kernel_size=(5,5), padding='same', activation='elu'),\n",
    "    tf.keras.layers.MaxPooling2D(pool_size=(2, 2)), \n",
    "    \n",
    "    ## block_2\n",
    "    tf.keras.layers.Conv2D(filters=64, kernel_size=(3, 3), padding='same', activation='elu'),\n",
    "    tf.keras.layers.Conv2D(filters=64, kernel_size=(3, 3), padding='same', activation='elu'),\n",
    "    tf.keras.layers.MaxPooling2D(pool_size=(2, 2), strides=(2, 2)),\n",
    "\n",
    "    \n",
    "    ## classifier\n",
    "    tf.keras.layers.Flatten(),\n",
    "    tf.keras.layers.Dense(256, activation=\"elu\"),\n",
    "    tf.keras.layers.Dense(256, activation='elu'),\n",
    "    tf.keras.layers.Dense(108, activation=\"softmax\")\n",
    "])\n",
    "\n",
    "## check summary\n",
    "model.summary()"
   ]
  },
  {
   "cell_type": "code",
   "execution_count": 17,
   "id": "433fa4dc",
   "metadata": {},
   "outputs": [
    {
     "name": "stdout",
     "output_type": "stream",
     "text": [
      "Epoch 1/30\n",
      "1185/1185 [==============================] - 19s 15ms/step - loss: 9.6595 - accuracy: 0.0087 - val_loss: 5.2233 - val_accuracy: 0.0103\n",
      "Epoch 2/30\n",
      "1185/1185 [==============================] - 17s 14ms/step - loss: 5.3705 - accuracy: 0.0097 - val_loss: 5.4208 - val_accuracy: 0.0095\n",
      "Epoch 3/30\n",
      "1185/1185 [==============================] - 17s 14ms/step - loss: 5.4852 - accuracy: 0.0094 - val_loss: 5.5335 - val_accuracy: 0.0091\n",
      "Epoch 4/30\n",
      "1185/1185 [==============================] - 17s 14ms/step - loss: 5.5932 - accuracy: 0.0089 - val_loss: 5.6163 - val_accuracy: 0.0092\n",
      "Epoch 5/30\n",
      "1185/1185 [==============================] - 17s 14ms/step - loss: 5.6826 - accuracy: 0.0094 - val_loss: 5.6996 - val_accuracy: 0.0084\n",
      "Epoch 6/30\n",
      "1185/1185 [==============================] - 17s 14ms/step - loss: 5.7477 - accuracy: 0.0088 - val_loss: 5.8442 - val_accuracy: 0.0068\n"
     ]
    }
   ],
   "source": [
    "## compile the model\n",
    "model.compile(loss='sparse_categorical_crossentropy', \n",
    "                  metrics=['accuracy'], \n",
    "                  optimizer=tf.keras.optimizers.Adam(learning_rate=0.01))\n",
    "\n",
    "early_stopp = tf.keras.callbacks.EarlyStopping(patience=5, restore_best_weights=True) \n",
    "\n",
    "## train the model\n",
    "history = model.fit(X_train, y_train, validation_data=(X_valid, y_valid), \n",
    "                    epochs=30, batch_size=32, \n",
    "                    callbacks=[early_stopp])"
   ]
  },
  {
   "cell_type": "markdown",
   "id": "a73bd015",
   "metadata": {},
   "source": [
    "### Segmentation"
   ]
  },
  {
   "cell_type": "code",
   "execution_count": 64,
   "id": "298e823e",
   "metadata": {},
   "outputs": [],
   "source": [
    "## sort_contours function : \n",
    "#                           to sort the contours of the images and git the bounding boxs\n",
    "# inputs :\n",
    "# cnts --> take the countors of the image\n",
    "# method ---> left-to-right or right-to-left or bottom-to-top or top-to-bottom\n",
    "# right-to-left or bottom-to-top -----> reverse = True\n",
    "# return a tuple of (cnts, boundingBoxes)\n",
    "def sort_contours(cnts, method=\"left-to-right\"):\n",
    "    reverse = False\n",
    "    i = 0\n",
    "    if method == \"right-to-left\" or method == \"bottom-to-top\":\n",
    "        reverse = True\n",
    "    if method == \"top-to-bottom\" or method == \"bottom-to-top\":\n",
    "        i = 1\n",
    "    boundingBoxes = [cv2.boundingRect(c) for c in cnts]\n",
    "    (cnts, boundingBoxes) = zip(*sorted(zip(cnts, boundingBoxes),\n",
    "    key=lambda b:b[1][i], reverse=reverse))\n",
    "    # return the list of sorted contours and bounding boxes\n",
    "    return (cnts, boundingBoxes)"
   ]
  },
  {
   "cell_type": "code",
   "execution_count": 68,
   "id": "97296f8e",
   "metadata": {},
   "outputs": [],
   "source": [
    "## get_letters function :\n",
    "#                         to return the image with letters with bounding box \n",
    "# input: \n",
    "# img we need to produce the boundingbox in the letters\n",
    "# return letters as a string , image with boungingboxs around the images \n",
    "def get_letters(img):\n",
    "    letters = []\n",
    "    image = cv2.imread(img)\n",
    "    gray = cv2.cvtColor(image, cv2.COLOR_BGR2GRAY)\n",
    "    ret,thresh1 = cv2.threshold(gray ,127, 255, cv2.THRESH_BINARY_INV)\n",
    "    dilated = cv2.dilate(thresh1, None, iterations=2)\n",
    "\n",
    "    cnts = cv2.findContours(dilated.copy(), cv2.RETR_EXTERNAL,cv2.CHAIN_APPROX_SIMPLE)\n",
    "    cnts = imutils.grab_contours(cnts)\n",
    "    cnts = sort_contours(cnts, method=\"right-to-left\")[0]\n",
    "    # loop over the contours\n",
    "    for c in cnts:\n",
    "        if cv2.contourArea(c) > 10:\n",
    "            (x, y, w, h) = cv2.boundingRect(c)\n",
    "            cv2.rectangle(image, (x, y), (x + w, y + h), (0, 255, 0), 2)\n",
    "        roi = gray[y:y + h, x:x + w]\n",
    "        thresh = cv2.threshold(roi, 0, 255,cv2.THRESH_BINARY_INV | cv2.THRESH_OTSU)[1]\n",
    "        thresh = cv2.resize(thresh, (32, 32), interpolation = cv2.INTER_CUBIC)\n",
    "        thresh = thresh.astype(\"float32\") / 255.0\n",
    "        thresh = np.expand_dims(thresh, axis=-1)\n",
    "        thresh = thresh.reshape(1,32,32,1)\n",
    "        ypred = np.argmax(model.predict(thresh), axis=-1)\n",
    "        ypred = encoder.inverse_transform(ypred)\n",
    "        [x] = ypred\n",
    "        letters.append(x)\n",
    "    return letters, image"
   ]
  },
  {
   "cell_type": "code",
   "execution_count": 69,
   "id": "32e5efb1",
   "metadata": {},
   "outputs": [],
   "source": [
    "## get_word function :\n",
    "#                      compine the letters after predicting it \n",
    "def get_word(letter):\n",
    "    word = \"\".join(letter)\n",
    "    return word"
   ]
  },
  {
   "cell_type": "code",
   "execution_count": 70,
   "id": "204abf18",
   "metadata": {},
   "outputs": [
    {
     "name": "stdout",
     "output_type": "stream",
     "text": [
      "6.46.46.4\n"
     ]
    },
    {
     "data": {
      "text/plain": [
       "<matplotlib.image.AxesImage at 0x2ba3fa57160>"
      ]
     },
     "execution_count": 70,
     "metadata": {},
     "output_type": "execute_result"
    },
    {
     "data": {
      "image/png": "[encoded data removed]",
      "text/plain": [
       "<Figure size 432x288 with 1 Axes>"
      ]
     },
     "metadata": {
      "needs_background": "light"
     },
     "output_type": "display_data"
    }
   ],
   "source": [
    "# trying a random image from google \n",
    "letter, image = get_letters(\"e.jpg\")\n",
    "word = get_word(letter)\n",
    "print(word)\n",
    "plt.imshow(image)"
   ]
  }
 ],
 "metadata": {
  "kernelspec": {
   "display_name": "Python 3 (ipykernel)",
   "language": "python",
   "name": "python3"
  },
  "language_info": {
   "codemirror_mode": {
    "name": "ipython",
    "version": 3
   },
   "file_extension": ".py",
   "mimetype": "text/x-python",
   "name": "python",
   "nbconvert_exporter": "python",
   "pygments_lexer": "ipython3",
   "version": "3.7.11"
  }
 },
 "nbformat": 4,
 "nbformat_minor": 5
}
