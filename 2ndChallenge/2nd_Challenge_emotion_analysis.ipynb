{
  "cells": [
    {
      "cell_type": "markdown",
      "metadata": {
        "id": "4opCCfchCqIt"
      },
      "source": [
        "# Import Library used in project"
      ]
    },
    {
      "cell_type": "code",
      "execution_count": 2,
      "metadata": {
        "colab": {
          "base_uri": "https://localhost:8080/"
        },
        "id": "bGZmu1cg8iuC",
        "outputId": "0ef46a7c-3ea3-45b2-97bf-d0352a29d98d"
      },
      "outputs": [
        {
          "output_type": "stream",
          "name": "stdout",
          "text": [
            "[nltk_data] Downloading package punkt to /root/nltk_data...\n",
            "[nltk_data]   Package punkt is already up-to-date!\n",
            "[nltk_data] Downloading package stopwords to /root/nltk_data...\n",
            "[nltk_data]   Package stopwords is already up-to-date!\n",
            "[nltk_data] Downloading package wordnet to /root/nltk_data...\n",
            "[nltk_data]   Package wordnet is already up-to-date!\n"
          ]
        }
      ],
      "source": [
        "import pandas as pd\n",
        "import numpy as np\n",
        "from sklearn.metrics import classification_report, confusion_matrix, accuracy_score, f1_score, precision_score, recall_score\n",
        "import matplotlib.pyplot as plt\n",
        "import seaborn as sns\n",
        "\n",
        "from sklearn.model_selection import train_test_split\n",
        "from tensorflow.keras.utils import to_categorical\n",
        "# tokenize the document\n",
        "from keras.preprocessing.text import text_to_word_sequence\n",
        "# This must be list of strings\n",
        "from keras.preprocessing.text import Tokenizer  \n",
        "from keras.preprocessing.sequence import pad_sequences\n",
        "from tensorflow.keras.models import Model\n",
        "\n",
        "from tensorflow.keras.models import Sequential\n",
        "from tensorflow.keras.callbacks import EarlyStopping,ModelCheckpoint,ReduceLROnPlateau\n",
        "from tensorflow.keras.layers import Input, concatenate, Embedding, LSTM, GRU, Dense, Dropout, Flatten, Conv1D, BatchNormalization, MaxPooling1D\n",
        "from tensorflow.keras.utils import plot_model\n",
        "from keras.models import load_model\n",
        "\n",
        "from gensim.models import Word2Vec\n",
        "from gensim.corpora.dictionary import Dictionary\n",
        "from collections import Counter\n",
        "import re\n",
        "import string\n",
        "import nltk\n",
        "nltk.download('punkt')\n",
        "from nltk.tokenize import word_tokenize\n",
        "from nltk.corpus import stopwords\n",
        "nltk.download('stopwords')\n",
        "from nltk.stem.porter import PorterStemmer\n",
        "from nltk.stem import WordNetLemmatizer\n",
        "nltk.download('wordnet')\n",
        "from nltk.corpus import wordnet\n",
        "import unicodedata\n",
        "import html\n",
        "stop_words = stopwords.words('english')\n",
        "#to fix imbalance in data \n",
        "from imblearn.combine import SMOTEENN\n",
        "from imblearn.over_sampling import SMOTE\n",
        "from imblearn.over_sampling import RandomOverSampler\n",
        "from imblearn.over_sampling import ADASYN"
      ]
    },
    {
      "cell_type": "code",
      "execution_count": 3,
      "metadata": {
        "id": "MCNS4l8F9g14"
      },
      "outputs": [],
      "source": [
        "# the dimension of word vector\n",
        "vocab_dim = 256\n",
        "# sentence length\n",
        "maxlen = 150\n",
        "# batch size\n",
        "batch_size = 512\n",
        "# epoch num\n",
        "n_epoch = 30\n",
        "# input length\n",
        "input_length = 150"
      ]
    },
    {
      "cell_type": "code",
      "execution_count": 6,
      "metadata": {
        "id": "ezKewTRsCqI3"
      },
      "outputs": [],
      "source": [
        "df = pd.read_csv('tweet_emotions.csv', on_bad_lines='skip')"
      ]
    },
    {
      "cell_type": "code",
      "execution_count": 7,
      "metadata": {
        "colab": {
          "base_uri": "https://localhost:8080/",
          "height": 206
        },
        "id": "Nx3XEuUxCqI4",
        "outputId": "3e879905-70d4-4eeb-bbfc-bfe2a973ddf8"
      },
      "outputs": [
        {
          "output_type": "execute_result",
          "data": {
            "text/html": [
              "\n",
              "  <div id=\"df-04a809c9-e38c-4051-beda-06e0a48a2d92\">\n",
              "    <div class=\"colab-df-container\">\n",
              "      <div>\n",
              "<style scoped>\n",
              "    .dataframe tbody tr th:only-of-type {\n",
              "        vertical-align: middle;\n",
              "    }\n",
              "\n",
              "    .dataframe tbody tr th {\n",
              "        vertical-align: top;\n",
              "    }\n",
              "\n",
              "    .dataframe thead th {\n",
              "        text-align: right;\n",
              "    }\n",
              "</style>\n",
              "<table border=\"1\" class=\"dataframe\">\n",
              "  <thead>\n",
              "    <tr style=\"text-align: right;\">\n",
              "      <th></th>\n",
              "      <th>tweet_id</th>\n",
              "      <th>sentiment</th>\n",
              "      <th>content</th>\n",
              "    </tr>\n",
              "  </thead>\n",
              "  <tbody>\n",
              "    <tr>\n",
              "      <th>0</th>\n",
              "      <td>1956967341</td>\n",
              "      <td>empty</td>\n",
              "      <td>@tiffanylue i know  i was listenin to bad habi...</td>\n",
              "    </tr>\n",
              "    <tr>\n",
              "      <th>1</th>\n",
              "      <td>1956967666</td>\n",
              "      <td>sadness</td>\n",
              "      <td>Layin n bed with a headache  ughhhh...waitin o...</td>\n",
              "    </tr>\n",
              "    <tr>\n",
              "      <th>2</th>\n",
              "      <td>1956967696</td>\n",
              "      <td>sadness</td>\n",
              "      <td>Funeral ceremony...gloomy friday...</td>\n",
              "    </tr>\n",
              "    <tr>\n",
              "      <th>3</th>\n",
              "      <td>1956967789</td>\n",
              "      <td>enthusiasm</td>\n",
              "      <td>wants to hang out with friends SOON!</td>\n",
              "    </tr>\n",
              "    <tr>\n",
              "      <th>4</th>\n",
              "      <td>1956968416</td>\n",
              "      <td>neutral</td>\n",
              "      <td>@dannycastillo We want to trade with someone w...</td>\n",
              "    </tr>\n",
              "  </tbody>\n",
              "</table>\n",
              "</div>\n",
              "      <button class=\"colab-df-convert\" onclick=\"convertToInteractive('df-04a809c9-e38c-4051-beda-06e0a48a2d92')\"\n",
              "              title=\"Convert this dataframe to an interactive table.\"\n",
              "              style=\"display:none;\">\n",
              "        \n",
              "  <svg xmlns=\"http://www.w3.org/2000/svg\" height=\"24px\"viewBox=\"0 0 24 24\"\n",
              "       width=\"24px\">\n",
              "    <path d=\"M0 0h24v24H0V0z\" fill=\"none\"/>\n",
              "    <path d=\"M18.56 5.44l.94 2.06.94-2.06 2.06-.94-2.06-.94-.94-2.06-.94 2.06-2.06.94zm-11 1L8.5 8.5l.94-2.06 2.06-.94-2.06-.94L8.5 2.5l-.94 2.06-2.06.94zm10 10l.94 2.06.94-2.06 2.06-.94-2.06-.94-.94-2.06-.94 2.06-2.06.94z\"/><path d=\"M17.41 7.96l-1.37-1.37c-.4-.4-.92-.59-1.43-.59-.52 0-1.04.2-1.43.59L10.3 9.45l-7.72 7.72c-.78.78-.78 2.05 0 2.83L4 21.41c.39.39.9.59 1.41.59.51 0 1.02-.2 1.41-.59l7.78-7.78 2.81-2.81c.8-.78.8-2.07 0-2.86zM5.41 20L4 18.59l7.72-7.72 1.47 1.35L5.41 20z\"/>\n",
              "  </svg>\n",
              "      </button>\n",
              "      \n",
              "  <style>\n",
              "    .colab-df-container {\n",
              "      display:flex;\n",
              "      flex-wrap:wrap;\n",
              "      gap: 12px;\n",
              "    }\n",
              "\n",
              "    .colab-df-convert {\n",
              "      background-color: #E8F0FE;\n",
              "      border: none;\n",
              "      border-radius: 50%;\n",
              "      cursor: pointer;\n",
              "      display: none;\n",
              "      fill: #1967D2;\n",
              "      height: 32px;\n",
              "      padding: 0 0 0 0;\n",
              "      width: 32px;\n",
              "    }\n",
              "\n",
              "    .colab-df-convert:hover {\n",
              "      background-color: #E2EBFA;\n",
              "      box-shadow: 0px 1px 2px rgba(60, 64, 67, 0.3), 0px 1px 3px 1px rgba(60, 64, 67, 0.15);\n",
              "      fill: #174EA6;\n",
              "    }\n",
              "\n",
              "    [theme=dark] .colab-df-convert {\n",
              "      background-color: #3B4455;\n",
              "      fill: #D2E3FC;\n",
              "    }\n",
              "\n",
              "    [theme=dark] .colab-df-convert:hover {\n",
              "      background-color: #434B5C;\n",
              "      box-shadow: 0px 1px 3px 1px rgba(0, 0, 0, 0.15);\n",
              "      filter: drop-shadow(0px 1px 2px rgba(0, 0, 0, 0.3));\n",
              "      fill: #FFFFFF;\n",
              "    }\n",
              "  </style>\n",
              "\n",
              "      <script>\n",
              "        const buttonEl =\n",
              "          document.querySelector('#df-04a809c9-e38c-4051-beda-06e0a48a2d92 button.colab-df-convert');\n",
              "        buttonEl.style.display =\n",
              "          google.colab.kernel.accessAllowed ? 'block' : 'none';\n",
              "\n",
              "        async function convertToInteractive(key) {\n",
              "          const element = document.querySelector('#df-04a809c9-e38c-4051-beda-06e0a48a2d92');\n",
              "          const dataTable =\n",
              "            await google.colab.kernel.invokeFunction('convertToInteractive',\n",
              "                                                     [key], {});\n",
              "          if (!dataTable) return;\n",
              "\n",
              "          const docLinkHtml = 'Like what you see? Visit the ' +\n",
              "            '<a target=\"_blank\" href=https://colab.research.google.com/notebooks/data_table.ipynb>data table notebook</a>'\n",
              "            + ' to learn more about interactive tables.';\n",
              "          element.innerHTML = '';\n",
              "          dataTable['output_type'] = 'display_data';\n",
              "          await google.colab.output.renderOutput(dataTable, element);\n",
              "          const docLink = document.createElement('div');\n",
              "          docLink.innerHTML = docLinkHtml;\n",
              "          element.appendChild(docLink);\n",
              "        }\n",
              "      </script>\n",
              "    </div>\n",
              "  </div>\n",
              "  "
            ],
            "text/plain": [
              "     tweet_id   sentiment                                            content\n",
              "0  1956967341       empty  @tiffanylue i know  i was listenin to bad habi...\n",
              "1  1956967666     sadness  Layin n bed with a headache  ughhhh...waitin o...\n",
              "2  1956967696     sadness                Funeral ceremony...gloomy friday...\n",
              "3  1956967789  enthusiasm               wants to hang out with friends SOON!\n",
              "4  1956968416     neutral  @dannycastillo We want to trade with someone w..."
            ]
          },
          "metadata": {},
          "execution_count": 7
        }
      ],
      "source": [
        "df.head()"
      ]
    },
    {
      "cell_type": "code",
      "execution_count": 8,
      "metadata": {
        "colab": {
          "base_uri": "https://localhost:8080/"
        },
        "id": "gruLaSPVCqI4",
        "outputId": "5a4da754-e531-457b-82db-d5b50d71f8e4"
      },
      "outputs": [
        {
          "output_type": "execute_result",
          "data": {
            "text/plain": [
              "neutral       8638\n",
              "worry         8459\n",
              "happiness     5208\n",
              "sadness       5165\n",
              "love          3842\n",
              "surprise      2186\n",
              "fun           1776\n",
              "relief        1526\n",
              "hate          1323\n",
              "empty          827\n",
              "enthusiasm     759\n",
              "boredom        179\n",
              "anger          110\n",
              "Name: sentiment, dtype: int64"
            ]
          },
          "metadata": {},
          "execution_count": 8
        }
      ],
      "source": [
        "df.sentiment.value_counts()"
      ]
    },
    {
      "cell_type": "code",
      "execution_count": 9,
      "metadata": {
        "id": "tPN51DQZCqI4"
      },
      "outputs": [],
      "source": [
        "df = df[df['sentiment'].isin(['neutral','happiness','sadness','anger'])]"
      ]
    },
    {
      "cell_type": "code",
      "execution_count": 10,
      "metadata": {
        "colab": {
          "base_uri": "https://localhost:8080/"
        },
        "id": "jTJa926oCqI5",
        "outputId": "7e330a50-0b1d-4ab3-c316-89d1975887cb"
      },
      "outputs": [
        {
          "output_type": "execute_result",
          "data": {
            "text/plain": [
              "neutral      8638\n",
              "happiness    5208\n",
              "sadness      5165\n",
              "anger         110\n",
              "Name: sentiment, dtype: int64"
            ]
          },
          "metadata": {},
          "execution_count": 10
        }
      ],
      "source": [
        "df.sentiment.value_counts()"
      ]
    },
    {
      "cell_type": "code",
      "execution_count": 11,
      "metadata": {
        "id": "2-uYxSwICqI5"
      },
      "outputs": [],
      "source": [
        "df.drop('tweet_id',axis=1,inplace=True)"
      ]
    },
    {
      "cell_type": "code",
      "execution_count": 13,
      "metadata": {
        "colab": {
          "base_uri": "https://localhost:8080/",
          "height": 424
        },
        "id": "eXbDEBhrCqI5",
        "outputId": "5a0c1f8b-94b8-40d9-8c54-e4280a80647a"
      },
      "outputs": [
        {
          "output_type": "execute_result",
          "data": {
            "text/html": [
              "\n",
              "  <div id=\"df-b5835dc7-14b0-470f-8c8f-a8aa184e0ec0\">\n",
              "    <div class=\"colab-df-container\">\n",
              "      <div>\n",
              "<style scoped>\n",
              "    .dataframe tbody tr th:only-of-type {\n",
              "        vertical-align: middle;\n",
              "    }\n",
              "\n",
              "    .dataframe tbody tr th {\n",
              "        vertical-align: top;\n",
              "    }\n",
              "\n",
              "    .dataframe thead th {\n",
              "        text-align: right;\n",
              "    }\n",
              "</style>\n",
              "<table border=\"1\" class=\"dataframe\">\n",
              "  <thead>\n",
              "    <tr style=\"text-align: right;\">\n",
              "      <th></th>\n",
              "      <th>sentiment</th>\n",
              "      <th>content</th>\n",
              "    </tr>\n",
              "  </thead>\n",
              "  <tbody>\n",
              "    <tr>\n",
              "      <th>1</th>\n",
              "      <td>sadness</td>\n",
              "      <td>Layin n bed with a headache  ughhhh...waitin o...</td>\n",
              "    </tr>\n",
              "    <tr>\n",
              "      <th>2</th>\n",
              "      <td>sadness</td>\n",
              "      <td>Funeral ceremony...gloomy friday...</td>\n",
              "    </tr>\n",
              "    <tr>\n",
              "      <th>4</th>\n",
              "      <td>neutral</td>\n",
              "      <td>@dannycastillo We want to trade with someone w...</td>\n",
              "    </tr>\n",
              "    <tr>\n",
              "      <th>6</th>\n",
              "      <td>sadness</td>\n",
              "      <td>I should be sleep, but im not! thinking about ...</td>\n",
              "    </tr>\n",
              "    <tr>\n",
              "      <th>8</th>\n",
              "      <td>sadness</td>\n",
              "      <td>@charviray Charlene my love. I miss you</td>\n",
              "    </tr>\n",
              "    <tr>\n",
              "      <th>...</th>\n",
              "      <td>...</td>\n",
              "      <td>...</td>\n",
              "    </tr>\n",
              "    <tr>\n",
              "      <th>39990</th>\n",
              "      <td>neutral</td>\n",
              "      <td>@jasimmo Ooo showing of your French skills!! l...</td>\n",
              "    </tr>\n",
              "    <tr>\n",
              "      <th>39991</th>\n",
              "      <td>neutral</td>\n",
              "      <td>@sendsome2me haha, yeah. Twitter has many uses...</td>\n",
              "    </tr>\n",
              "    <tr>\n",
              "      <th>39992</th>\n",
              "      <td>happiness</td>\n",
              "      <td>Succesfully following Tayla!!</td>\n",
              "    </tr>\n",
              "    <tr>\n",
              "      <th>39993</th>\n",
              "      <td>neutral</td>\n",
              "      <td>@JohnLloydTaylor</td>\n",
              "    </tr>\n",
              "    <tr>\n",
              "      <th>39996</th>\n",
              "      <td>happiness</td>\n",
              "      <td>@niariley WASSUP BEAUTIFUL!!! FOLLOW ME!!  PEE...</td>\n",
              "    </tr>\n",
              "  </tbody>\n",
              "</table>\n",
              "<p>19121 rows × 2 columns</p>\n",
              "</div>\n",
              "      <button class=\"colab-df-convert\" onclick=\"convertToInteractive('df-b5835dc7-14b0-470f-8c8f-a8aa184e0ec0')\"\n",
              "              title=\"Convert this dataframe to an interactive table.\"\n",
              "              style=\"display:none;\">\n",
              "        \n",
              "  <svg xmlns=\"http://www.w3.org/2000/svg\" height=\"24px\"viewBox=\"0 0 24 24\"\n",
              "       width=\"24px\">\n",
              "    <path d=\"M0 0h24v24H0V0z\" fill=\"none\"/>\n",
              "    <path d=\"M18.56 5.44l.94 2.06.94-2.06 2.06-.94-2.06-.94-.94-2.06-.94 2.06-2.06.94zm-11 1L8.5 8.5l.94-2.06 2.06-.94-2.06-.94L8.5 2.5l-.94 2.06-2.06.94zm10 10l.94 2.06.94-2.06 2.06-.94-2.06-.94-.94-2.06-.94 2.06-2.06.94z\"/><path d=\"M17.41 7.96l-1.37-1.37c-.4-.4-.92-.59-1.43-.59-.52 0-1.04.2-1.43.59L10.3 9.45l-7.72 7.72c-.78.78-.78 2.05 0 2.83L4 21.41c.39.39.9.59 1.41.59.51 0 1.02-.2 1.41-.59l7.78-7.78 2.81-2.81c.8-.78.8-2.07 0-2.86zM5.41 20L4 18.59l7.72-7.72 1.47 1.35L5.41 20z\"/>\n",
              "  </svg>\n",
              "      </button>\n",
              "      \n",
              "  <style>\n",
              "    .colab-df-container {\n",
              "      display:flex;\n",
              "      flex-wrap:wrap;\n",
              "      gap: 12px;\n",
              "    }\n",
              "\n",
              "    .colab-df-convert {\n",
              "      background-color: #E8F0FE;\n",
              "      border: none;\n",
              "      border-radius: 50%;\n",
              "      cursor: pointer;\n",
              "      display: none;\n",
              "      fill: #1967D2;\n",
              "      height: 32px;\n",
              "      padding: 0 0 0 0;\n",
              "      width: 32px;\n",
              "    }\n",
              "\n",
              "    .colab-df-convert:hover {\n",
              "      background-color: #E2EBFA;\n",
              "      box-shadow: 0px 1px 2px rgba(60, 64, 67, 0.3), 0px 1px 3px 1px rgba(60, 64, 67, 0.15);\n",
              "      fill: #174EA6;\n",
              "    }\n",
              "\n",
              "    [theme=dark] .colab-df-convert {\n",
              "      background-color: #3B4455;\n",
              "      fill: #D2E3FC;\n",
              "    }\n",
              "\n",
              "    [theme=dark] .colab-df-convert:hover {\n",
              "      background-color: #434B5C;\n",
              "      box-shadow: 0px 1px 3px 1px rgba(0, 0, 0, 0.15);\n",
              "      filter: drop-shadow(0px 1px 2px rgba(0, 0, 0, 0.3));\n",
              "      fill: #FFFFFF;\n",
              "    }\n",
              "  </style>\n",
              "\n",
              "      <script>\n",
              "        const buttonEl =\n",
              "          document.querySelector('#df-b5835dc7-14b0-470f-8c8f-a8aa184e0ec0 button.colab-df-convert');\n",
              "        buttonEl.style.display =\n",
              "          google.colab.kernel.accessAllowed ? 'block' : 'none';\n",
              "\n",
              "        async function convertToInteractive(key) {\n",
              "          const element = document.querySelector('#df-b5835dc7-14b0-470f-8c8f-a8aa184e0ec0');\n",
              "          const dataTable =\n",
              "            await google.colab.kernel.invokeFunction('convertToInteractive',\n",
              "                                                     [key], {});\n",
              "          if (!dataTable) return;\n",
              "\n",
              "          const docLinkHtml = 'Like what you see? Visit the ' +\n",
              "            '<a target=\"_blank\" href=https://colab.research.google.com/notebooks/data_table.ipynb>data table notebook</a>'\n",
              "            + ' to learn more about interactive tables.';\n",
              "          element.innerHTML = '';\n",
              "          dataTable['output_type'] = 'display_data';\n",
              "          await google.colab.output.renderOutput(dataTable, element);\n",
              "          const docLink = document.createElement('div');\n",
              "          docLink.innerHTML = docLinkHtml;\n",
              "          element.appendChild(docLink);\n",
              "        }\n",
              "      </script>\n",
              "    </div>\n",
              "  </div>\n",
              "  "
            ],
            "text/plain": [
              "       sentiment                                            content\n",
              "1        sadness  Layin n bed with a headache  ughhhh...waitin o...\n",
              "2        sadness                Funeral ceremony...gloomy friday...\n",
              "4        neutral  @dannycastillo We want to trade with someone w...\n",
              "6        sadness  I should be sleep, but im not! thinking about ...\n",
              "8        sadness            @charviray Charlene my love. I miss you\n",
              "...          ...                                                ...\n",
              "39990    neutral  @jasimmo Ooo showing of your French skills!! l...\n",
              "39991    neutral  @sendsome2me haha, yeah. Twitter has many uses...\n",
              "39992  happiness                      Succesfully following Tayla!!\n",
              "39993    neutral                                   @JohnLloydTaylor\n",
              "39996  happiness  @niariley WASSUP BEAUTIFUL!!! FOLLOW ME!!  PEE...\n",
              "\n",
              "[19121 rows x 2 columns]"
            ]
          },
          "metadata": {},
          "execution_count": 13
        }
      ],
      "source": [
        "df"
      ]
    },
    {
      "cell_type": "code",
      "execution_count": 15,
      "metadata": {
        "colab": {
          "base_uri": "https://localhost:8080/",
          "height": 282
        },
        "id": "pX-3glEttx6X",
        "outputId": "ca80059e-6084-4370-9957-128174bd4334"
      },
      "outputs": [
        {
          "output_type": "execute_result",
          "data": {
            "text/plain": [
              "<matplotlib.axes._subplots.AxesSubplot at 0x7ff6f24db710>"
            ]
          },
          "metadata": {},
          "execution_count": 15
        },
        {
          "output_type": "display_data",
          "data": {
            "image/png": "[encoded data removed]",
            "text/plain": [
              "<Figure size 432x288 with 1 Axes>"
            ]
          },
          "metadata": {
            "needs_background": "light"
          }
        }
      ],
      "source": [
        "# Create a column containing the length of all words for each row\n",
        "df['lenght'] = df.content.apply(lambda x: len(x.split()))\n",
        "df['lenght'].hist()"
      ]
    },
    {
      "cell_type": "code",
      "execution_count": 16,
      "metadata": {
        "colab": {
          "base_uri": "https://localhost:8080/"
        },
        "id": "pqYAfTUQCqI6",
        "outputId": "e2bf6e3b-dc8e-4c81-f8f3-8ad1d65a5cd3"
      },
      "outputs": [
        {
          "output_type": "execute_result",
          "data": {
            "text/plain": [
              "33"
            ]
          },
          "metadata": {},
          "execution_count": 16
        }
      ],
      "source": [
        "def get_longest_text(texts):\n",
        "    longest_input = 0\n",
        "    for text in texts:\n",
        "        text_len= len(text.split())\n",
        "        longest_input = max(longest_input, text_len)\n",
        "    return longest_input\n",
        "longest_input = get_longest_text(df['content'])\n",
        "longest_input"
      ]
    },
    {
      "cell_type": "markdown",
      "metadata": {
        "id": "rwG8-ct1t1MH"
      },
      "source": [
        "# **Data preprocessing**"
      ]
    },
    {
      "cell_type": "code",
      "execution_count": 17,
      "metadata": {
        "id": "1O81obybtx3o"
      },
      "outputs": [],
      "source": [
        "def remove_special_chars(text):\n",
        "    re1 = re.compile(r'  +')\n",
        "    x1 = text.lower().replace('#39;', \"'\").replace('amp;', '&').replace('#146;', \"'\").replace(\n",
        "        'nbsp;', ' ').replace('#36;', '$').replace('\\\\n', \"\\n\").replace('quot;', \"'\").replace(\n",
        "        '<br />', \"\\n\").replace('\\\\\"', '\"').replace('<unk>', 'u_n').replace(' @.@ ', '.').replace(\n",
        "        ' @-@ ', '-').replace('\\\\', ' \\\\ ')\n",
        "    return re1.sub(' ', html.unescape(x1))\n",
        "\n",
        "#remove_repeating_char\n",
        "def remove_repeating_char(text):\n",
        "    return re.sub(r'(.)\\1+', r'\\1', text)\n",
        "\n",
        "#processPost for applying all functions\n",
        "def processPost(text): \n",
        "    #Replace @username with empty string\n",
        "    text = re.sub('@[^\\s]+', ' ', text)\n",
        "    #Convert www.* or https?://* to \" \"\n",
        "    text = re.sub('((www\\.[^\\s]+)|(https?://[^\\s]+))',' ',text)\n",
        "    #Replace #word with word\n",
        "    text = re.sub(r'#([^\\s]+)', r'\\1', text)    \n",
        "    return text\n",
        "    \n",
        "def remove_non_ascii(text):\n",
        "    \"\"\"Remove non-ASCII characters from list of tokenized words\"\"\"\n",
        "    return unicodedata.normalize('NFKD', text).encode('ascii', 'ignore').decode('utf-8', 'ignore')\n",
        "\n",
        "# convert each word to lower case\n",
        "def to_lowercase(text):\n",
        "    return text.lower()\n",
        "\n",
        "def remove_punctuation(text):\n",
        "    \"\"\"Remove punctuation from list of tokenized words\"\"\"\n",
        "    translator = str.maketrans('', '', string.punctuation)\n",
        "    return text.translate(translator)\n",
        "\n",
        "# replace all numbers with ''\n",
        "def replace_numbers(text):\n",
        "    \"\"\"Replace all interger occurrences in list of tokenized words with textual representation\"\"\"\n",
        "    return re.sub(r'\\d+', '', text)\n",
        "\n",
        "# remove spaces from right and left sentences\n",
        "def remove_whitespaces(text):\n",
        "    return text.strip()\n",
        "\n",
        "# remove stop words like the he she it for \n",
        "def remove_stopwords(words, stop_words):\n",
        "    \"\"\"\n",
        "    :param words:\n",
        "    :type words:\n",
        "    :param stop_words: from sklearn.feature_extraction.stop_words import ENGLISH_STOP_WORDS\n",
        "    or\n",
        "    from spacy.lang.en.stop_words import STOP_WORDS\n",
        "    :type stop_words:\n",
        "    :return:\n",
        "    :rtype:\n",
        "    \"\"\"\n",
        "    return [word for word in words if word not in stop_words]\n",
        "\n",
        "# return root of each word\n",
        "def stem_words(words):\n",
        "    \"\"\"Stem words in text\"\"\"\n",
        "    stemmer = PorterStemmer()\n",
        "    return [stemmer.stem(word) for word in words]\n",
        "\n",
        "# return root of each word if word is Noun\n",
        "def lemmatize_words(words):\n",
        "    \"\"\"Lemmatize words in text\"\"\"\n",
        "\n",
        "    lemmatizer = WordNetLemmatizer()\n",
        "    return [lemmatizer.lemmatize(word) for word in words]\n",
        "\n",
        "# return root of each word if word is Verb\n",
        "def lemmatize_verbs(words):\n",
        "    \"\"\"Lemmatize verbs in text\"\"\"\n",
        "\n",
        "    lemmatizer = WordNetLemmatizer()\n",
        "    return ' '.join([lemmatizer.lemmatize(word, pos='v') for word in words])\n",
        "\n",
        "# split each sentence based on some features\n",
        "def text2words(text):\n",
        "    return word_tokenize(text)\n",
        "\n",
        "def normalize_text( text):\n",
        "    text = remove_special_chars(text)\n",
        "    text = remove_non_ascii(text)\n",
        "    text = remove_punctuation(text)\n",
        "    text = to_lowercase(text)\n",
        "    text = replace_numbers(text)\n",
        "    words = text2words(text)\n",
        "    words = remove_stopwords(words, stop_words)\n",
        "    #words = stem_words(words)# Either stem ovocar lemmatize\n",
        "    words = lemmatize_words(words)\n",
        "    words = lemmatize_verbs(words)\n",
        "\n",
        "    return ''.join(words)"
      ]
    },
    {
      "cell_type": "code",
      "execution_count": 20,
      "metadata": {
        "id": "yPMhSx_Otxz5"
      },
      "outputs": [],
      "source": [
        "# create column contain clean code\n",
        "df['clean_content'] = df.content.apply(lambda x: normalize_text(x))"
      ]
    },
    {
      "cell_type": "code",
      "execution_count": 21,
      "metadata": {
        "colab": {
          "base_uri": "https://localhost:8080/",
          "height": 282
        },
        "id": "1HGfcJ-vuHcG",
        "outputId": "e95ae127-700c-4742-98e1-fe1f9b369a46"
      },
      "outputs": [
        {
          "output_type": "execute_result",
          "data": {
            "text/plain": [
              "<matplotlib.axes._subplots.AxesSubplot at 0x7ff6ed071b50>"
            ]
          },
          "metadata": {},
          "execution_count": 21
        },
        {
          "output_type": "display_data",
          "data": {
            "image/png": "[encoded data removed]",
            "text/plain": [
              "<Figure size 432x288 with 1 Axes>"
            ]
          },
          "metadata": {
            "needs_background": "light"
          }
        }
      ],
      "source": [
        "# Create a column containing the length of all words for each row\n",
        "df['clean_lenght'] = df['clean_content'].apply(lambda x: len(x.split()))\n",
        "df['clean_lenght'].hist()"
      ]
    },
    {
      "cell_type": "code",
      "execution_count": 22,
      "metadata": {
        "colab": {
          "base_uri": "https://localhost:8080/"
        },
        "id": "_wtG-mBVCqI8",
        "outputId": "3a0e7e47-8efc-4157-bf88-d24174e6f0b0"
      },
      "outputs": [
        {
          "output_type": "execute_result",
          "data": {
            "text/plain": [
              "25"
            ]
          },
          "metadata": {},
          "execution_count": 22
        }
      ],
      "source": [
        "def get_longest_text(texts):\n",
        "    longest_input = 0\n",
        "    for text in texts:\n",
        "        text_len= len(text.split())\n",
        "        longest_input = max(longest_input, text_len)\n",
        "    return longest_input\n",
        "longest_input = get_longest_text(df['clean_content'])\n",
        "longest_input"
      ]
    },
    {
      "cell_type": "code",
      "execution_count": 23,
      "metadata": {
        "colab": {
          "base_uri": "https://localhost:8080/",
          "height": 206
        },
        "id": "RHoFrvV3uNSc",
        "outputId": "84fbfcef-4555-469b-c455-1064503c4368"
      },
      "outputs": [
        {
          "output_type": "execute_result",
          "data": {
            "text/html": [
              "\n",
              "  <div id=\"df-452d782d-b7f0-463e-9ade-512d94942b14\">\n",
              "    <div class=\"colab-df-container\">\n",
              "      <div>\n",
              "<style scoped>\n",
              "    .dataframe tbody tr th:only-of-type {\n",
              "        vertical-align: middle;\n",
              "    }\n",
              "\n",
              "    .dataframe tbody tr th {\n",
              "        vertical-align: top;\n",
              "    }\n",
              "\n",
              "    .dataframe thead th {\n",
              "        text-align: right;\n",
              "    }\n",
              "</style>\n",
              "<table border=\"1\" class=\"dataframe\">\n",
              "  <thead>\n",
              "    <tr style=\"text-align: right;\">\n",
              "      <th></th>\n",
              "      <th>sentiment</th>\n",
              "      <th>content</th>\n",
              "      <th>lenght</th>\n",
              "      <th>clean_Review</th>\n",
              "      <th>clean_content</th>\n",
              "      <th>clean_lenght</th>\n",
              "    </tr>\n",
              "  </thead>\n",
              "  <tbody>\n",
              "    <tr>\n",
              "      <th>1</th>\n",
              "      <td>sadness</td>\n",
              "      <td>Layin n bed with a headache  ughhhh...waitin o...</td>\n",
              "      <td>10</td>\n",
              "      <td>layin n bed headache ughhhhwaitin call</td>\n",
              "      <td>layin n bed headache ughhhhwaitin call</td>\n",
              "      <td>6</td>\n",
              "    </tr>\n",
              "    <tr>\n",
              "      <th>2</th>\n",
              "      <td>sadness</td>\n",
              "      <td>Funeral ceremony...gloomy friday...</td>\n",
              "      <td>3</td>\n",
              "      <td>funeral ceremonygloomy friday</td>\n",
              "      <td>funeral ceremonygloomy friday</td>\n",
              "      <td>3</td>\n",
              "    </tr>\n",
              "    <tr>\n",
              "      <th>4</th>\n",
              "      <td>neutral</td>\n",
              "      <td>@dannycastillo We want to trade with someone w...</td>\n",
              "      <td>15</td>\n",
              "      <td>dannycastillo want trade someone houston ticke...</td>\n",
              "      <td>dannycastillo want trade someone houston ticke...</td>\n",
              "      <td>7</td>\n",
              "    </tr>\n",
              "    <tr>\n",
              "      <th>6</th>\n",
              "      <td>sadness</td>\n",
              "      <td>I should be sleep, but im not! thinking about ...</td>\n",
              "      <td>26</td>\n",
              "      <td>sleep im think old friend want he marry damn w...</td>\n",
              "      <td>sleep im think old friend want he marry damn w...</td>\n",
              "      <td>11</td>\n",
              "    </tr>\n",
              "    <tr>\n",
              "      <th>8</th>\n",
              "      <td>sadness</td>\n",
              "      <td>@charviray Charlene my love. I miss you</td>\n",
              "      <td>7</td>\n",
              "      <td>charviray charlene love miss</td>\n",
              "      <td>charviray charlene love miss</td>\n",
              "      <td>4</td>\n",
              "    </tr>\n",
              "  </tbody>\n",
              "</table>\n",
              "</div>\n",
              "      <button class=\"colab-df-convert\" onclick=\"convertToInteractive('df-452d782d-b7f0-463e-9ade-512d94942b14')\"\n",
              "              title=\"Convert this dataframe to an interactive table.\"\n",
              "              style=\"display:none;\">\n",
              "        \n",
              "  <svg xmlns=\"http://www.w3.org/2000/svg\" height=\"24px\"viewBox=\"0 0 24 24\"\n",
              "       width=\"24px\">\n",
              "    <path d=\"M0 0h24v24H0V0z\" fill=\"none\"/>\n",
              "    <path d=\"M18.56 5.44l.94 2.06.94-2.06 2.06-.94-2.06-.94-.94-2.06-.94 2.06-2.06.94zm-11 1L8.5 8.5l.94-2.06 2.06-.94-2.06-.94L8.5 2.5l-.94 2.06-2.06.94zm10 10l.94 2.06.94-2.06 2.06-.94-2.06-.94-.94-2.06-.94 2.06-2.06.94z\"/><path d=\"M17.41 7.96l-1.37-1.37c-.4-.4-.92-.59-1.43-.59-.52 0-1.04.2-1.43.59L10.3 9.45l-7.72 7.72c-.78.78-.78 2.05 0 2.83L4 21.41c.39.39.9.59 1.41.59.51 0 1.02-.2 1.41-.59l7.78-7.78 2.81-2.81c.8-.78.8-2.07 0-2.86zM5.41 20L4 18.59l7.72-7.72 1.47 1.35L5.41 20z\"/>\n",
              "  </svg>\n",
              "      </button>\n",
              "      \n",
              "  <style>\n",
              "    .colab-df-container {\n",
              "      display:flex;\n",
              "      flex-wrap:wrap;\n",
              "      gap: 12px;\n",
              "    }\n",
              "\n",
              "    .colab-df-convert {\n",
              "      background-color: #E8F0FE;\n",
              "      border: none;\n",
              "      border-radius: 50%;\n",
              "      cursor: pointer;\n",
              "      display: none;\n",
              "      fill: #1967D2;\n",
              "      height: 32px;\n",
              "      padding: 0 0 0 0;\n",
              "      width: 32px;\n",
              "    }\n",
              "\n",
              "    .colab-df-convert:hover {\n",
              "      background-color: #E2EBFA;\n",
              "      box-shadow: 0px 1px 2px rgba(60, 64, 67, 0.3), 0px 1px 3px 1px rgba(60, 64, 67, 0.15);\n",
              "      fill: #174EA6;\n",
              "    }\n",
              "\n",
              "    [theme=dark] .colab-df-convert {\n",
              "      background-color: #3B4455;\n",
              "      fill: #D2E3FC;\n",
              "    }\n",
              "\n",
              "    [theme=dark] .colab-df-convert:hover {\n",
              "      background-color: #434B5C;\n",
              "      box-shadow: 0px 1px 3px 1px rgba(0, 0, 0, 0.15);\n",
              "      filter: drop-shadow(0px 1px 2px rgba(0, 0, 0, 0.3));\n",
              "      fill: #FFFFFF;\n",
              "    }\n",
              "  </style>\n",
              "\n",
              "      <script>\n",
              "        const buttonEl =\n",
              "          document.querySelector('#df-452d782d-b7f0-463e-9ade-512d94942b14 button.colab-df-convert');\n",
              "        buttonEl.style.display =\n",
              "          google.colab.kernel.accessAllowed ? 'block' : 'none';\n",
              "\n",
              "        async function convertToInteractive(key) {\n",
              "          const element = document.querySelector('#df-452d782d-b7f0-463e-9ade-512d94942b14');\n",
              "          const dataTable =\n",
              "            await google.colab.kernel.invokeFunction('convertToInteractive',\n",
              "                                                     [key], {});\n",
              "          if (!dataTable) return;\n",
              "\n",
              "          const docLinkHtml = 'Like what you see? Visit the ' +\n",
              "            '<a target=\"_blank\" href=https://colab.research.google.com/notebooks/data_table.ipynb>data table notebook</a>'\n",
              "            + ' to learn more about interactive tables.';\n",
              "          element.innerHTML = '';\n",
              "          dataTable['output_type'] = 'display_data';\n",
              "          await google.colab.output.renderOutput(dataTable, element);\n",
              "          const docLink = document.createElement('div');\n",
              "          docLink.innerHTML = docLinkHtml;\n",
              "          element.appendChild(docLink);\n",
              "        }\n",
              "      </script>\n",
              "    </div>\n",
              "  </div>\n",
              "  "
            ],
            "text/plain": [
              "  sentiment                                            content  lenght  \\\n",
              "1   sadness  Layin n bed with a headache  ughhhh...waitin o...      10   \n",
              "2   sadness                Funeral ceremony...gloomy friday...       3   \n",
              "4   neutral  @dannycastillo We want to trade with someone w...      15   \n",
              "6   sadness  I should be sleep, but im not! thinking about ...      26   \n",
              "8   sadness            @charviray Charlene my love. I miss you       7   \n",
              "\n",
              "                                        clean_Review  \\\n",
              "1             layin n bed headache ughhhhwaitin call   \n",
              "2                      funeral ceremonygloomy friday   \n",
              "4  dannycastillo want trade someone houston ticke...   \n",
              "6  sleep im think old friend want he marry damn w...   \n",
              "8                       charviray charlene love miss   \n",
              "\n",
              "                                       clean_content  clean_lenght  \n",
              "1             layin n bed headache ughhhhwaitin call             6  \n",
              "2                      funeral ceremonygloomy friday             3  \n",
              "4  dannycastillo want trade someone houston ticke...             7  \n",
              "6  sleep im think old friend want he marry damn w...            11  \n",
              "8                       charviray charlene love miss             4  "
            ]
          },
          "metadata": {},
          "execution_count": 23
        }
      ],
      "source": [
        "df.head()"
      ]
    },
    {
      "cell_type": "code",
      "execution_count": 26,
      "metadata": {
        "colab": {
          "base_uri": "https://localhost:8080/",
          "height": 35
        },
        "id": "R3Ly-vQFuQBh",
        "outputId": "15721ed4-8639-4dbb-ad2f-98f443dd1d05"
      },
      "outputs": [
        {
          "output_type": "execute_result",
          "data": {
            "application/vnd.google.colaboratory.intrinsic+json": {
              "type": "string"
            },
            "text/plain": [
              "'booya sup tweeps happy infamous day get soon cant wait play need find time though'"
            ]
          },
          "metadata": {},
          "execution_count": 26
        }
      ],
      "source": [
        "# show any row after apply clean sentences\n",
        "df.clean_content.iloc[np.random.randint(0,5000)]"
      ]
    },
    {
      "cell_type": "code",
      "execution_count": 27,
      "metadata": {
        "id": "mXqNrMx29A_3"
      },
      "outputs": [],
      "source": [
        "# create list sentences contain list of list of words [[],[],[]]\n",
        "sentences = [i.split() for i in df.clean_content]"
      ]
    },
    {
      "cell_type": "code",
      "execution_count": 28,
      "metadata": {
        "id": "2tVpCAU7uZHF"
      },
      "outputs": [],
      "source": [
        "words = [word for text in sentences for word in text]"
      ]
    },
    {
      "cell_type": "code",
      "execution_count": 29,
      "metadata": {
        "colab": {
          "base_uri": "https://localhost:8080/"
        },
        "id": "97xJM4kTuY6c",
        "outputId": "0bb0919e-0e29-4c0c-9190-9eef2bc906bd"
      },
      "outputs": [
        {
          "output_type": "execute_result",
          "data": {
            "text/plain": [
              "[('get', 2053),\n",
              " ('im', 1976),\n",
              " ('go', 1906),\n",
              " ('day', 1572),\n",
              " ('good', 1106),\n",
              " ('work', 1081),\n",
              " ('like', 916),\n",
              " ('today', 819),\n",
              " ('u', 745),\n",
              " ('miss', 735)]"
            ]
          },
          "metadata": {},
          "execution_count": 29
        }
      ],
      "source": [
        "# show most repeated word in text\n",
        "from collections import Counter\n",
        "word_counts = Counter(words)\n",
        "word_counts.most_common(10)"
      ]
    },
    {
      "cell_type": "markdown",
      "metadata": {
        "id": "y1kPnoEHu7-1"
      },
      "source": [
        "# **Word Embedding - Word2vec**"
      ]
    },
    {
      "cell_type": "code",
      "execution_count": 30,
      "metadata": {
        "id": "YEi2bo2Z9Vnp"
      },
      "outputs": [],
      "source": [
        "# create word 2 vec model to train on custom dataset\n",
        "model = Word2Vec(sentences=sentences,size=vocab_dim, min_count=1, workers=6,iter=10)"
      ]
    },
    {
      "cell_type": "code",
      "execution_count": 31,
      "metadata": {
        "colab": {
          "base_uri": "https://localhost:8080/"
        },
        "id": "PMwAnFSu-dWH",
        "outputId": "d19c2f45-49e6-4436-b3f1-05c0eeb617c5"
      },
      "outputs": [
        {
          "output_type": "execute_result",
          "data": {
            "text/plain": [
              "(6463838, 7040150)"
            ]
          },
          "metadata": {},
          "execution_count": 31
        }
      ],
      "source": [
        "model.train(sentences, total_examples=model.corpus_count, epochs=50)"
      ]
    },
    {
      "cell_type": "code",
      "execution_count": 32,
      "metadata": {
        "id": "rDqXFZ8WFP4H"
      },
      "outputs": [],
      "source": [
        "#show keys in text\n",
        "# model.wv.vocab.keys()"
      ]
    },
    {
      "cell_type": "code",
      "execution_count": 33,
      "metadata": {
        "colab": {
          "base_uri": "https://localhost:8080/"
        },
        "id": "-TwJV7Tg_PX3",
        "outputId": "dcbb179b-233a-476b-949f-4b813e36d07e"
      },
      "outputs": [
        {
          "output_type": "execute_result",
          "data": {
            "text/plain": [
              "[(0, 1),\n",
              " (1, 1),\n",
              " (2, 1),\n",
              " (3, 1),\n",
              " (4, 1),\n",
              " (5, 1),\n",
              " (6, 1),\n",
              " (7, 1),\n",
              " (8, 1),\n",
              " (9, 1),\n",
              " (10, 1),\n",
              " (11, 1),\n",
              " (12, 1),\n",
              " (13, 1),\n",
              " (14, 1),\n",
              " (15, 1),\n",
              " (16, 1),\n",
              " (17, 1),\n",
              " (18, 1),\n",
              " (19, 1),\n",
              " (20, 1),\n",
              " (21, 1),\n",
              " (22, 1),\n",
              " (23, 1),\n",
              " (24, 1),\n",
              " (25, 1),\n",
              " (26, 1),\n",
              " (27, 1),\n",
              " (28, 1),\n",
              " (29, 1),\n",
              " (30, 1),\n",
              " (31, 1),\n",
              " (32, 1),\n",
              " (33, 1),\n",
              " (34, 1),\n",
              " (35, 1),\n",
              " (36, 1),\n",
              " (37, 1),\n",
              " (38, 1),\n",
              " (39, 1),\n",
              " (40, 1),\n",
              " (41, 1),\n",
              " (42, 1),\n",
              " (43, 1),\n",
              " (44, 1),\n",
              " (45, 1),\n",
              " (46, 1),\n",
              " (47, 1),\n",
              " (48, 1),\n",
              " (49, 1),\n",
              " (50, 1),\n",
              " (51, 1),\n",
              " (52, 1),\n",
              " (53, 1),\n",
              " (54, 1),\n",
              " (55, 1),\n",
              " (56, 1),\n",
              " (57, 1),\n",
              " (58, 1),\n",
              " (59, 1),\n",
              " (60, 1),\n",
              " (61, 1),\n",
              " (62, 1),\n",
              " (63, 1),\n",
              " (64, 1),\n",
              " (65, 1),\n",
              " (66, 1),\n",
              " (67, 1),\n",
              " (68, 1),\n",
              " (69, 1),\n",
              " (70, 1),\n",
              " (71, 1),\n",
              " (72, 1),\n",
              " (73, 1),\n",
              " (74, 1),\n",
              " (75, 1),\n",
              " (76, 1),\n",
              " (77, 1),\n",
              " (78, 1),\n",
              " (79, 1),\n",
              " (80, 1),\n",
              " (81, 1),\n",
              " (82, 1),\n",
              " (83, 1),\n",
              " (84, 1),\n",
              " (85, 1),\n",
              " (86, 1),\n",
              " (87, 1),\n",
              " (88, 1),\n",
              " (89, 1),\n",
              " (90, 1),\n",
              " (91, 1),\n",
              " (92, 1),\n",
              " (93, 1),\n",
              " (94, 1),\n",
              " (95, 1),\n",
              " (96, 1),\n",
              " (97, 1),\n",
              " (98, 1),\n",
              " (99, 1),\n",
              " (100, 1),\n",
              " (101, 1),\n",
              " (102, 1),\n",
              " (103, 1),\n",
              " (104, 1),\n",
              " (105, 1),\n",
              " (106, 1),\n",
              " (107, 1),\n",
              " (108, 1),\n",
              " (109, 1),\n",
              " (110, 1),\n",
              " (111, 1),\n",
              " (112, 1),\n",
              " (113, 1),\n",
              " (114, 1),\n",
              " (115, 1),\n",
              " (116, 1),\n",
              " (117, 1),\n",
              " (118, 1),\n",
              " (119, 1),\n",
              " (120, 1),\n",
              " (121, 1),\n",
              " (122, 1),\n",
              " (123, 1),\n",
              " (124, 1),\n",
              " (125, 1),\n",
              " (126, 1),\n",
              " (127, 1),\n",
              " (128, 1),\n",
              " (129, 1),\n",
              " (130, 1),\n",
              " (131, 1),\n",
              " (132, 1),\n",
              " (133, 1),\n",
              " (134, 1),\n",
              " (135, 1),\n",
              " (136, 1),\n",
              " (137, 1),\n",
              " (138, 1),\n",
              " (139, 1),\n",
              " (140, 1),\n",
              " (141, 1),\n",
              " (142, 1),\n",
              " (143, 1),\n",
              " (144, 1),\n",
              " (145, 1),\n",
              " (146, 1),\n",
              " (147, 1),\n",
              " (148, 1),\n",
              " (149, 1),\n",
              " (150, 1),\n",
              " (151, 1),\n",
              " (152, 1),\n",
              " (153, 1),\n",
              " (154, 1),\n",
              " (155, 1),\n",
              " (156, 1),\n",
              " (157, 1),\n",
              " (158, 1),\n",
              " (159, 1),\n",
              " (160, 1),\n",
              " (161, 1),\n",
              " (162, 1),\n",
              " (163, 1),\n",
              " (164, 1),\n",
              " (165, 1),\n",
              " (166, 1),\n",
              " (167, 1),\n",
              " (168, 1),\n",
              " (169, 1),\n",
              " (170, 1),\n",
              " (171, 1),\n",
              " (172, 1),\n",
              " (173, 1),\n",
              " (174, 1),\n",
              " (175, 1),\n",
              " (176, 1),\n",
              " (177, 1),\n",
              " (178, 1),\n",
              " (179, 1),\n",
              " (180, 1),\n",
              " (181, 1),\n",
              " (182, 1),\n",
              " (183, 1),\n",
              " (184, 1),\n",
              " (185, 1),\n",
              " (186, 1),\n",
              " (187, 1),\n",
              " (188, 1),\n",
              " (189, 1),\n",
              " (190, 1),\n",
              " (191, 1),\n",
              " (192, 1),\n",
              " (193, 1),\n",
              " (194, 1),\n",
              " (195, 1),\n",
              " (196, 1),\n",
              " (197, 1),\n",
              " (198, 1),\n",
              " (199, 1),\n",
              " (200, 1),\n",
              " (201, 1),\n",
              " (202, 1),\n",
              " (203, 1),\n",
              " (204, 1),\n",
              " (205, 1),\n",
              " (206, 1),\n",
              " (207, 1),\n",
              " (208, 1),\n",
              " (209, 1),\n",
              " (210, 1),\n",
              " (211, 1),\n",
              " (212, 1),\n",
              " (213, 1),\n",
              " (214, 1),\n",
              " (215, 1),\n",
              " (216, 1),\n",
              " (217, 1),\n",
              " (218, 1),\n",
              " (219, 1),\n",
              " (220, 1),\n",
              " (221, 1),\n",
              " (222, 1),\n",
              " (223, 1),\n",
              " (224, 1),\n",
              " (225, 1),\n",
              " (226, 1),\n",
              " (227, 1),\n",
              " (228, 1),\n",
              " (229, 1),\n",
              " (230, 1),\n",
              " (231, 1),\n",
              " (232, 1),\n",
              " (233, 1),\n",
              " (234, 1),\n",
              " (235, 1),\n",
              " (236, 1),\n",
              " (237, 1),\n",
              " (238, 1),\n",
              " (239, 1),\n",
              " (240, 1),\n",
              " (241, 1),\n",
              " (242, 1),\n",
              " (243, 1),\n",
              " (244, 1),\n",
              " (245, 1),\n",
              " (246, 1),\n",
              " (247, 1),\n",
              " (248, 1),\n",
              " (249, 1),\n",
              " (250, 1),\n",
              " (251, 1),\n",
              " (252, 1),\n",
              " (253, 1),\n",
              " (254, 1),\n",
              " (255, 1),\n",
              " (256, 1),\n",
              " (257, 1),\n",
              " (258, 1),\n",
              " (259, 1),\n",
              " (260, 1),\n",
              " (261, 1),\n",
              " (262, 1),\n",
              " (263, 1),\n",
              " (264, 1),\n",
              " (265, 1),\n",
              " (266, 1),\n",
              " (267, 1),\n",
              " (268, 1),\n",
              " (269, 1),\n",
              " (270, 1),\n",
              " (271, 1),\n",
              " (272, 1),\n",
              " (273, 1),\n",
              " (274, 1),\n",
              " (275, 1),\n",
              " (276, 1),\n",
              " (277, 1),\n",
              " (278, 1),\n",
              " (279, 1),\n",
              " (280, 1),\n",
              " (281, 1),\n",
              " (282, 1),\n",
              " (283, 1),\n",
              " (284, 1),\n",
              " (285, 1),\n",
              " (286, 1),\n",
              " (287, 1),\n",
              " (288, 1),\n",
              " (289, 1),\n",
              " (290, 1),\n",
              " (291, 1),\n",
              " (292, 1),\n",
              " (293, 1),\n",
              " (294, 1),\n",
              " (295, 1),\n",
              " (296, 1),\n",
              " (297, 1),\n",
              " (298, 1),\n",
              " (299, 1),\n",
              " (300, 1),\n",
              " (301, 1),\n",
              " (302, 1),\n",
              " (303, 1),\n",
              " (304, 1),\n",
              " (305, 1),\n",
              " (306, 1),\n",
              " (307, 1),\n",
              " (308, 1),\n",
              " (309, 1),\n",
              " (310, 1),\n",
              " (311, 1),\n",
              " (312, 1),\n",
              " (313, 1),\n",
              " (314, 1),\n",
              " (315, 1),\n",
              " (316, 1),\n",
              " (317, 1),\n",
              " (318, 1),\n",
              " (319, 1),\n",
              " (320, 1),\n",
              " (321, 1),\n",
              " (322, 1),\n",
              " (323, 1),\n",
              " (324, 1),\n",
              " (325, 1),\n",
              " (326, 1),\n",
              " (327, 1),\n",
              " (328, 1),\n",
              " (329, 1),\n",
              " (330, 1),\n",
              " (331, 1),\n",
              " (332, 1),\n",
              " (333, 1),\n",
              " (334, 1),\n",
              " (335, 1),\n",
              " (336, 1),\n",
              " (337, 1),\n",
              " (338, 1),\n",
              " (339, 1),\n",
              " (340, 1),\n",
              " (341, 1),\n",
              " (342, 1),\n",
              " (343, 1),\n",
              " (344, 1),\n",
              " (345, 1),\n",
              " (346, 1),\n",
              " (347, 1),\n",
              " (348, 1),\n",
              " (349, 1),\n",
              " (350, 1),\n",
              " (351, 1),\n",
              " (352, 1),\n",
              " (353, 1),\n",
              " (354, 1),\n",
              " (355, 1),\n",
              " (356, 1),\n",
              " (357, 1),\n",
              " (358, 1),\n",
              " (359, 1),\n",
              " (360, 1),\n",
              " (361, 1),\n",
              " (362, 1),\n",
              " (363, 1),\n",
              " (364, 1),\n",
              " (365, 1),\n",
              " (366, 1),\n",
              " (367, 1),\n",
              " (368, 1),\n",
              " (369, 1),\n",
              " (370, 1),\n",
              " (371, 1),\n",
              " (372, 1),\n",
              " (373, 1),\n",
              " (374, 1),\n",
              " (375, 1),\n",
              " (376, 1),\n",
              " (377, 1),\n",
              " (378, 1),\n",
              " (379, 1),\n",
              " (380, 1),\n",
              " (381, 1),\n",
              " (382, 1),\n",
              " (383, 1),\n",
              " (384, 1),\n",
              " (385, 1),\n",
              " (386, 1),\n",
              " (387, 1),\n",
              " (388, 1),\n",
              " (389, 1),\n",
              " (390, 1),\n",
              " (391, 1),\n",
              " (392, 1),\n",
              " (393, 1),\n",
              " (394, 1),\n",
              " (395, 1),\n",
              " (396, 1),\n",
              " (397, 1),\n",
              " (398, 1),\n",
              " (399, 1),\n",
              " (400, 1),\n",
              " (401, 1),\n",
              " (402, 1),\n",
              " (403, 1),\n",
              " (404, 1),\n",
              " (405, 1),\n",
              " (406, 1),\n",
              " (407, 1),\n",
              " (408, 1),\n",
              " (409, 1),\n",
              " (410, 1),\n",
              " (411, 1),\n",
              " (412, 1),\n",
              " (413, 1),\n",
              " (414, 1),\n",
              " (415, 1),\n",
              " (416, 1),\n",
              " (417, 1),\n",
              " (418, 1),\n",
              " (419, 1),\n",
              " (420, 1),\n",
              " (421, 1),\n",
              " (422, 1),\n",
              " (423, 1),\n",
              " (424, 1),\n",
              " (425, 1),\n",
              " (426, 1),\n",
              " (427, 1),\n",
              " (428, 1),\n",
              " (429, 1),\n",
              " (430, 1),\n",
              " (431, 1),\n",
              " (432, 1),\n",
              " (433, 1),\n",
              " (434, 1),\n",
              " (435, 1),\n",
              " (436, 1),\n",
              " (437, 1),\n",
              " (438, 1),\n",
              " (439, 1),\n",
              " (440, 1),\n",
              " (441, 1),\n",
              " (442, 1),\n",
              " (443, 1),\n",
              " (444, 1),\n",
              " (445, 1),\n",
              " (446, 1),\n",
              " (447, 1),\n",
              " (448, 1),\n",
              " (449, 1),\n",
              " (450, 1),\n",
              " (451, 1),\n",
              " (452, 1),\n",
              " (453, 1),\n",
              " (454, 1),\n",
              " (455, 1),\n",
              " (456, 1),\n",
              " (457, 1),\n",
              " (458, 1),\n",
              " (459, 1),\n",
              " (460, 1),\n",
              " (461, 1),\n",
              " (462, 1),\n",
              " (463, 1),\n",
              " (464, 1),\n",
              " (465, 1),\n",
              " (466, 1),\n",
              " (467, 1),\n",
              " (468, 1),\n",
              " (469, 1),\n",
              " (470, 1),\n",
              " (471, 1),\n",
              " (472, 1),\n",
              " (473, 1),\n",
              " (474, 1),\n",
              " (475, 1),\n",
              " (476, 1),\n",
              " (477, 1),\n",
              " (478, 1),\n",
              " (479, 1),\n",
              " (480, 1),\n",
              " (481, 1),\n",
              " (482, 1),\n",
              " (483, 1),\n",
              " (484, 1),\n",
              " (485, 1),\n",
              " (486, 1),\n",
              " (487, 1),\n",
              " (488, 1),\n",
              " (489, 1),\n",
              " (490, 1),\n",
              " (491, 1),\n",
              " (492, 1),\n",
              " (493, 1),\n",
              " (494, 1),\n",
              " (495, 1),\n",
              " (496, 1),\n",
              " (497, 1),\n",
              " (498, 1),\n",
              " (499, 1),\n",
              " (500, 1),\n",
              " (501, 1),\n",
              " (502, 1),\n",
              " (503, 1),\n",
              " (504, 1),\n",
              " (505, 1),\n",
              " (506, 1),\n",
              " (507, 1),\n",
              " (508, 1),\n",
              " (509, 1),\n",
              " (510, 1),\n",
              " (511, 1),\n",
              " (512, 1),\n",
              " (513, 1),\n",
              " (514, 1),\n",
              " (515, 1),\n",
              " (516, 1),\n",
              " (517, 1),\n",
              " (518, 1),\n",
              " (519, 1),\n",
              " (520, 1),\n",
              " (521, 1),\n",
              " (522, 1),\n",
              " (523, 1),\n",
              " (524, 1),\n",
              " (525, 1),\n",
              " (526, 1),\n",
              " (527, 1),\n",
              " (528, 1),\n",
              " (529, 1),\n",
              " (530, 1),\n",
              " (531, 1),\n",
              " (532, 1),\n",
              " (533, 1),\n",
              " (534, 1),\n",
              " (535, 1),\n",
              " (536, 1),\n",
              " (537, 1),\n",
              " (538, 1),\n",
              " (539, 1),\n",
              " (540, 1),\n",
              " (541, 1),\n",
              " (542, 1),\n",
              " (543, 1),\n",
              " (544, 1),\n",
              " (545, 1),\n",
              " (546, 1),\n",
              " (547, 1),\n",
              " (548, 1),\n",
              " (549, 1),\n",
              " (550, 1),\n",
              " (551, 1),\n",
              " (552, 1),\n",
              " (553, 1),\n",
              " (554, 1),\n",
              " (555, 1),\n",
              " (556, 1),\n",
              " (557, 1),\n",
              " (558, 1),\n",
              " (559, 1),\n",
              " (560, 1),\n",
              " (561, 1),\n",
              " (562, 1),\n",
              " (563, 1),\n",
              " (564, 1),\n",
              " (565, 1),\n",
              " (566, 1),\n",
              " (567, 1),\n",
              " (568, 1),\n",
              " (569, 1),\n",
              " (570, 1),\n",
              " (571, 1),\n",
              " (572, 1),\n",
              " (573, 1),\n",
              " (574, 1),\n",
              " (575, 1),\n",
              " (576, 1),\n",
              " (577, 1),\n",
              " (578, 1),\n",
              " (579, 1),\n",
              " (580, 1),\n",
              " (581, 1),\n",
              " (582, 1),\n",
              " (583, 1),\n",
              " (584, 1),\n",
              " (585, 1),\n",
              " (586, 1),\n",
              " (587, 1),\n",
              " (588, 1),\n",
              " (589, 1),\n",
              " (590, 1),\n",
              " (591, 1),\n",
              " (592, 1),\n",
              " (593, 1),\n",
              " (594, 1),\n",
              " (595, 1),\n",
              " (596, 1),\n",
              " (597, 1),\n",
              " (598, 1),\n",
              " (599, 1),\n",
              " (600, 1),\n",
              " (601, 1),\n",
              " (602, 1),\n",
              " (603, 1),\n",
              " (604, 1),\n",
              " (605, 1),\n",
              " (606, 1),\n",
              " (607, 1),\n",
              " (608, 1),\n",
              " (609, 1),\n",
              " (610, 1),\n",
              " (611, 1),\n",
              " (612, 1),\n",
              " (613, 1),\n",
              " (614, 1),\n",
              " (615, 1),\n",
              " (616, 1),\n",
              " (617, 1),\n",
              " (618, 1),\n",
              " (619, 1),\n",
              " (620, 1),\n",
              " (621, 1),\n",
              " (622, 1),\n",
              " (623, 1),\n",
              " (624, 1),\n",
              " (625, 1),\n",
              " (626, 1),\n",
              " (627, 1),\n",
              " (628, 1),\n",
              " (629, 1),\n",
              " (630, 1),\n",
              " (631, 1),\n",
              " (632, 1),\n",
              " (633, 1),\n",
              " (634, 1),\n",
              " (635, 1),\n",
              " (636, 1),\n",
              " (637, 1),\n",
              " (638, 1),\n",
              " (639, 1),\n",
              " (640, 1),\n",
              " (641, 1),\n",
              " (642, 1),\n",
              " (643, 1),\n",
              " (644, 1),\n",
              " (645, 1),\n",
              " (646, 1),\n",
              " (647, 1),\n",
              " (648, 1),\n",
              " (649, 1),\n",
              " (650, 1),\n",
              " (651, 1),\n",
              " (652, 1),\n",
              " (653, 1),\n",
              " (654, 1),\n",
              " (655, 1),\n",
              " (656, 1),\n",
              " (657, 1),\n",
              " (658, 1),\n",
              " (659, 1),\n",
              " (660, 1),\n",
              " (661, 1),\n",
              " (662, 1),\n",
              " (663, 1),\n",
              " (664, 1),\n",
              " (665, 1),\n",
              " (666, 1),\n",
              " (667, 1),\n",
              " (668, 1),\n",
              " (669, 1),\n",
              " (670, 1),\n",
              " (671, 1),\n",
              " (672, 1),\n",
              " (673, 1),\n",
              " (674, 1),\n",
              " (675, 1),\n",
              " (676, 1),\n",
              " (677, 1),\n",
              " (678, 1),\n",
              " (679, 1),\n",
              " (680, 1),\n",
              " (681, 1),\n",
              " (682, 1),\n",
              " (683, 1),\n",
              " (684, 1),\n",
              " (685, 1),\n",
              " (686, 1),\n",
              " (687, 1),\n",
              " (688, 1),\n",
              " (689, 1),\n",
              " (690, 1),\n",
              " (691, 1),\n",
              " (692, 1),\n",
              " (693, 1),\n",
              " (694, 1),\n",
              " (695, 1),\n",
              " (696, 1),\n",
              " (697, 1),\n",
              " (698, 1),\n",
              " (699, 1),\n",
              " (700, 1),\n",
              " (701, 1),\n",
              " (702, 1),\n",
              " (703, 1),\n",
              " (704, 1),\n",
              " (705, 1),\n",
              " (706, 1),\n",
              " (707, 1),\n",
              " (708, 1),\n",
              " (709, 1),\n",
              " (710, 1),\n",
              " (711, 1),\n",
              " (712, 1),\n",
              " (713, 1),\n",
              " (714, 1),\n",
              " (715, 1),\n",
              " (716, 1),\n",
              " (717, 1),\n",
              " (718, 1),\n",
              " (719, 1),\n",
              " (720, 1),\n",
              " (721, 1),\n",
              " (722, 1),\n",
              " (723, 1),\n",
              " (724, 1),\n",
              " (725, 1),\n",
              " (726, 1),\n",
              " (727, 1),\n",
              " (728, 1),\n",
              " (729, 1),\n",
              " (730, 1),\n",
              " (731, 1),\n",
              " (732, 1),\n",
              " (733, 1),\n",
              " (734, 1),\n",
              " (735, 1),\n",
              " (736, 1),\n",
              " (737, 1),\n",
              " (738, 1),\n",
              " (739, 1),\n",
              " (740, 1),\n",
              " (741, 1),\n",
              " (742, 1),\n",
              " (743, 1),\n",
              " (744, 1),\n",
              " (745, 1),\n",
              " (746, 1),\n",
              " (747, 1),\n",
              " (748, 1),\n",
              " (749, 1),\n",
              " (750, 1),\n",
              " (751, 1),\n",
              " (752, 1),\n",
              " (753, 1),\n",
              " (754, 1),\n",
              " (755, 1),\n",
              " (756, 1),\n",
              " (757, 1),\n",
              " (758, 1),\n",
              " (759, 1),\n",
              " (760, 1),\n",
              " (761, 1),\n",
              " (762, 1),\n",
              " (763, 1),\n",
              " (764, 1),\n",
              " (765, 1),\n",
              " (766, 1),\n",
              " (767, 1),\n",
              " (768, 1),\n",
              " (769, 1),\n",
              " (770, 1),\n",
              " (771, 1),\n",
              " (772, 1),\n",
              " (773, 1),\n",
              " (774, 1),\n",
              " (775, 1),\n",
              " (776, 1),\n",
              " (777, 1),\n",
              " (778, 1),\n",
              " (779, 1),\n",
              " (780, 1),\n",
              " (781, 1),\n",
              " (782, 1),\n",
              " (783, 1),\n",
              " (784, 1),\n",
              " (785, 1),\n",
              " (786, 1),\n",
              " (787, 1),\n",
              " (788, 1),\n",
              " (789, 1),\n",
              " (790, 1),\n",
              " (791, 1),\n",
              " (792, 1),\n",
              " (793, 1),\n",
              " (794, 1),\n",
              " (795, 1),\n",
              " (796, 1),\n",
              " (797, 1),\n",
              " (798, 1),\n",
              " (799, 1),\n",
              " (800, 1),\n",
              " (801, 1),\n",
              " (802, 1),\n",
              " (803, 1),\n",
              " (804, 1),\n",
              " (805, 1),\n",
              " (806, 1),\n",
              " (807, 1),\n",
              " (808, 1),\n",
              " (809, 1),\n",
              " (810, 1),\n",
              " (811, 1),\n",
              " (812, 1),\n",
              " (813, 1),\n",
              " (814, 1),\n",
              " (815, 1),\n",
              " (816, 1),\n",
              " (817, 1),\n",
              " (818, 1),\n",
              " (819, 1),\n",
              " (820, 1),\n",
              " (821, 1),\n",
              " (822, 1),\n",
              " (823, 1),\n",
              " (824, 1),\n",
              " (825, 1),\n",
              " (826, 1),\n",
              " (827, 1),\n",
              " (828, 1),\n",
              " (829, 1),\n",
              " (830, 1),\n",
              " (831, 1),\n",
              " (832, 1),\n",
              " (833, 1),\n",
              " (834, 1),\n",
              " (835, 1),\n",
              " (836, 1),\n",
              " (837, 1),\n",
              " (838, 1),\n",
              " (839, 1),\n",
              " (840, 1),\n",
              " (841, 1),\n",
              " (842, 1),\n",
              " (843, 1),\n",
              " (844, 1),\n",
              " (845, 1),\n",
              " (846, 1),\n",
              " (847, 1),\n",
              " (848, 1),\n",
              " (849, 1),\n",
              " (850, 1),\n",
              " (851, 1),\n",
              " (852, 1),\n",
              " (853, 1),\n",
              " (854, 1),\n",
              " (855, 1),\n",
              " (856, 1),\n",
              " (857, 1),\n",
              " (858, 1),\n",
              " (859, 1),\n",
              " (860, 1),\n",
              " (861, 1),\n",
              " (862, 1),\n",
              " (863, 1),\n",
              " (864, 1),\n",
              " (865, 1),\n",
              " (866, 1),\n",
              " (867, 1),\n",
              " (868, 1),\n",
              " (869, 1),\n",
              " (870, 1),\n",
              " (871, 1),\n",
              " (872, 1),\n",
              " (873, 1),\n",
              " (874, 1),\n",
              " (875, 1),\n",
              " (876, 1),\n",
              " (877, 1),\n",
              " (878, 1),\n",
              " (879, 1),\n",
              " (880, 1),\n",
              " (881, 1),\n",
              " (882, 1),\n",
              " (883, 1),\n",
              " (884, 1),\n",
              " (885, 1),\n",
              " (886, 1),\n",
              " (887, 1),\n",
              " (888, 1),\n",
              " (889, 1),\n",
              " (890, 1),\n",
              " (891, 1),\n",
              " (892, 1),\n",
              " (893, 1),\n",
              " (894, 1),\n",
              " (895, 1),\n",
              " (896, 1),\n",
              " (897, 1),\n",
              " (898, 1),\n",
              " (899, 1),\n",
              " (900, 1),\n",
              " (901, 1),\n",
              " (902, 1),\n",
              " (903, 1),\n",
              " (904, 1),\n",
              " (905, 1),\n",
              " (906, 1),\n",
              " (907, 1),\n",
              " (908, 1),\n",
              " (909, 1),\n",
              " (910, 1),\n",
              " (911, 1),\n",
              " (912, 1),\n",
              " (913, 1),\n",
              " (914, 1),\n",
              " (915, 1),\n",
              " (916, 1),\n",
              " (917, 1),\n",
              " (918, 1),\n",
              " (919, 1),\n",
              " (920, 1),\n",
              " (921, 1),\n",
              " (922, 1),\n",
              " (923, 1),\n",
              " (924, 1),\n",
              " (925, 1),\n",
              " (926, 1),\n",
              " (927, 1),\n",
              " (928, 1),\n",
              " (929, 1),\n",
              " (930, 1),\n",
              " (931, 1),\n",
              " (932, 1),\n",
              " (933, 1),\n",
              " (934, 1),\n",
              " (935, 1),\n",
              " (936, 1),\n",
              " (937, 1),\n",
              " (938, 1),\n",
              " (939, 1),\n",
              " (940, 1),\n",
              " (941, 1),\n",
              " (942, 1),\n",
              " (943, 1),\n",
              " (944, 1),\n",
              " (945, 1),\n",
              " (946, 1),\n",
              " (947, 1),\n",
              " (948, 1),\n",
              " (949, 1),\n",
              " (950, 1),\n",
              " (951, 1),\n",
              " (952, 1),\n",
              " (953, 1),\n",
              " (954, 1),\n",
              " (955, 1),\n",
              " (956, 1),\n",
              " (957, 1),\n",
              " (958, 1),\n",
              " (959, 1),\n",
              " (960, 1),\n",
              " (961, 1),\n",
              " (962, 1),\n",
              " (963, 1),\n",
              " (964, 1),\n",
              " (965, 1),\n",
              " (966, 1),\n",
              " (967, 1),\n",
              " (968, 1),\n",
              " (969, 1),\n",
              " (970, 1),\n",
              " (971, 1),\n",
              " (972, 1),\n",
              " (973, 1),\n",
              " (974, 1),\n",
              " (975, 1),\n",
              " (976, 1),\n",
              " (977, 1),\n",
              " (978, 1),\n",
              " (979, 1),\n",
              " (980, 1),\n",
              " (981, 1),\n",
              " (982, 1),\n",
              " (983, 1),\n",
              " (984, 1),\n",
              " (985, 1),\n",
              " (986, 1),\n",
              " (987, 1),\n",
              " (988, 1),\n",
              " (989, 1),\n",
              " (990, 1),\n",
              " (991, 1),\n",
              " (992, 1),\n",
              " (993, 1),\n",
              " (994, 1),\n",
              " (995, 1),\n",
              " (996, 1),\n",
              " (997, 1),\n",
              " (998, 1),\n",
              " (999, 1),\n",
              " ...]"
            ]
          },
          "metadata": {},
          "execution_count": 33
        }
      ],
      "source": [
        "# create one for each word in model \n",
        "gensim_dict = Dictionary()\n",
        "gensim_dict.doc2bow(model.wv.vocab.keys(),allow_update=True)"
      ]
    },
    {
      "cell_type": "code",
      "execution_count": 34,
      "metadata": {
        "id": "B-QnVDhM-58E"
      },
      "outputs": [],
      "source": [
        "# create Dictionary contain each word and index +1 for unknown value \n",
        "w2indx = {v: k + 1 for k, v in gensim_dict.items()}"
      ]
    },
    {
      "cell_type": "code",
      "execution_count": 35,
      "metadata": {
        "id": "HsH0cazoHG0m"
      },
      "outputs": [],
      "source": [
        "# w2indx.keys()"
      ]
    },
    {
      "cell_type": "code",
      "execution_count": 36,
      "metadata": {
        "colab": {
          "base_uri": "https://localhost:8080/"
        },
        "id": "5YLkjFW0-510",
        "outputId": "e9745464-1299-4cf5-941d-da3027b21719"
      },
      "outputs": [
        {
          "output_type": "stream",
          "name": "stderr",
          "text": [
            "/usr/local/lib/python3.7/dist-packages/ipykernel_launcher.py:2: DeprecationWarning: Call to deprecated `__getitem__` (Method will be removed in 4.0.0, use self.wv.__getitem__() instead).\n",
            "  \n"
          ]
        }
      ],
      "source": [
        "# create Dictionary contain each word and vector from model \n",
        "w2vec = {word: model[word] for word in w2indx.keys()}"
      ]
    },
    {
      "cell_type": "code",
      "execution_count": 37,
      "metadata": {
        "id": "2n7MKxXrHZGq"
      },
      "outputs": [],
      "source": [
        "# create data contain if word in model put index of it else put zero\n",
        "data = []\n",
        "for sentence in sentences:\n",
        "    new_txt = []\n",
        "    for word in sentence:\n",
        "        try:\n",
        "            new_txt.append(w2indx[word])\n",
        "        except:\n",
        "            new_txt.append(0)\n",
        "    data.append(new_txt)\n"
      ]
    },
    {
      "cell_type": "code",
      "execution_count": 38,
      "metadata": {
        "id": "0HE2vtsiJm4k"
      },
      "outputs": [],
      "source": [
        "# pad 0 for all row in data matrix with maxlength to fix shape of all rows\n",
        "matrix_data = pad_sequences(data,maxlen=maxlen,padding='post')"
      ]
    },
    {
      "cell_type": "code",
      "execution_count": 39,
      "metadata": {
        "id": "8zOxSTP8KkKL"
      },
      "outputs": [],
      "source": [
        "# create weight for embedding layer\n",
        "n_symbols = len(w2indx) +1\n",
        "embedding_weights = np.zeros((n_symbols,vocab_dim))\n",
        "for word, index in w2indx.items():\n",
        "    embedding_weights[index,:] = w2vec[word]"
      ]
    },
    {
      "cell_type": "markdown",
      "metadata": {
        "id": "eU_y724u0-Uc"
      },
      "source": [
        "# **split data**"
      ]
    },
    {
      "cell_type": "code",
      "execution_count": 42,
      "metadata": {
        "id": "MHuZDR6ZCqI-"
      },
      "outputs": [],
      "source": [
        "from sklearn.preprocessing import LabelEncoder \n",
        "encoder = LabelEncoder()\n",
        "y_encoded = encoder.fit_transform(df.sentiment)"
      ]
    },
    {
      "cell_type": "code",
      "execution_count": 43,
      "metadata": {
        "id": "ji9UMIgbNNsz"
      },
      "outputs": [],
      "source": [
        "x_train, x_validate, y_train, y_validate = train_test_split(matrix_data, y_encoded, test_size=0.2, random_state=42, stratify=df.sentiment)"
      ]
    },
    {
      "cell_type": "markdown",
      "metadata": {
        "id": "djAOlxMX1Dft"
      },
      "source": [
        "# **Build Models**\n"
      ]
    },
    {
      "cell_type": "code",
      "execution_count": 46,
      "metadata": {
        "id": "Hg7V2bAV12Aw"
      },
      "outputs": [],
      "source": [
        "class_len = len(df.sentiment.unique())"
      ]
    },
    {
      "cell_type": "code",
      "execution_count": 69,
      "metadata": {
        "colab": {
          "base_uri": "https://localhost:8080/"
        },
        "id": "mAQzwV7G8cnU",
        "outputId": "62471028-1f9f-468b-c969-89ae9b758a97"
      },
      "outputs": [
        {
          "output_type": "stream",
          "name": "stdout",
          "text": [
            "Model: \"sequential_5\"\n",
            "_________________________________________________________________\n",
            " Layer (type)                Output Shape              Param #   \n",
            "=================================================================\n",
            " embedding_5 (Embedding)     (None, 150, 256)          6853376   \n",
            "                                                                 \n",
            " dropout_10 (Dropout)        (None, 150, 256)          0         \n",
            "                                                                 \n",
            " conv1d_2 (Conv1D)           (None, 150, 64)           81984     \n",
            "                                                                 \n",
            " max_pooling1d_2 (MaxPooling  (None, 37, 64)           0         \n",
            " 1D)                                                             \n",
            "                                                                 \n",
            " lstm_5 (LSTM)               (None, 8)                 2336      \n",
            "                                                                 \n",
            " batch_normalization_5 (Batc  (None, 8)                32        \n",
            " hNormalization)                                                 \n",
            "                                                                 \n",
            " dropout_11 (Dropout)        (None, 8)                 0         \n",
            "                                                                 \n",
            " dense_4 (Dense)             (None, 4)                 36        \n",
            "                                                                 \n",
            "=================================================================\n",
            "Total params: 6,937,764\n",
            "Trainable params: 84,372\n",
            "Non-trainable params: 6,853,392\n",
            "_________________________________________________________________\n"
          ]
        }
      ],
      "source": [
        "# Convolution\n",
        "kernel_size = 5\n",
        "filters = 64\n",
        "pool_size = 4\n",
        "model = Sequential()\n",
        "model.add(Embedding(input_dim=n_symbols,input_length=input_length,mask_zero=True,weights=[embedding_weights],trainable=False,output_dim=vocab_dim))#No masking allowed for Conv1D\n",
        "model.add(Dropout(0.2))\n",
        "model.add(Conv1D(filters,kernel_size,padding='same',activation='relu',strides=1))\n",
        "model.add(MaxPooling1D(pool_size=pool_size))\n",
        "# model.add(Conv1D(filters,kernel_size,padding='valid',activation='relu',strides=1))\n",
        "# model.add(MaxPooling1D(pool_size=pool_size))\n",
        "model.add(LSTM(8))\n",
        "model.add(BatchNormalization())\n",
        "model.add(Dropout(0.2))\n",
        "model.add(Dense(class_len,activation='softmax'))\n",
        "model.compile(loss='sparse_categorical_crossentropy', optimizer='adam', metrics=['accuracy'])\n",
        "model.summary()"
      ]
    },
    {
      "cell_type": "code",
      "execution_count": 70,
      "metadata": {
        "colab": {
          "base_uri": "https://localhost:8080/",
          "height": 856
        },
        "id": "Ea1Ogpbt8q4f",
        "outputId": "7aa19497-d54e-43e6-fa5b-321f87b86390"
      },
      "outputs": [
        {
          "output_type": "execute_result",
          "data": {
            "image/png": "[encoded data removed]",
            "text/plain": [
              "<IPython.core.display.Image object>"
            ]
          },
          "metadata": {},
          "execution_count": 70
        }
      ],
      "source": [
        "plot_model(model)"
      ]
    },
    {
      "cell_type": "code",
      "execution_count": 71,
      "metadata": {
        "id": "8TA5r_l19tK0"
      },
      "outputs": [],
      "source": [
        "# #early stop to prevent overfitting\n",
        "early_stopping = EarlyStopping(monitor='val_accuracy', mode='max', patience=5, restore_best_weights=True)\n",
        "# #save best models in training\n",
        "# chkpt = ModelCheckpoint(\"./model.h5\", monitor='val_accuracy',verbose=1, save_best_only=True, save_weights_only=True, mode='max')\n",
        "# #reduce learing rate each 5 epoch\n",
        "ReduceLR = ReduceLROnPlateau(monitor='val_accuracy', factor=0.2,patience=10, min_lr=0.001)\n",
        "# #combine all callbacks\n",
        "callbacks = [early_stopping, ReduceLR]"
      ]
    },
    {
      "cell_type": "code",
      "execution_count": 72,
      "metadata": {
        "colab": {
          "base_uri": "https://localhost:8080/"
        },
        "id": "HC015LVw9tCk",
        "outputId": "d0ce7883-d434-43c1-9047-f0dcc718fcf9"
      },
      "outputs": [
        {
          "output_type": "stream",
          "name": "stdout",
          "text": [
            "Epoch 1/30\n",
            "32/32 [==============================] - 5s 79ms/step - loss: 1.3076 - accuracy: 0.4113 - val_loss: 1.3489 - val_accuracy: 0.4705 - lr: 0.0010\n",
            "Epoch 2/30\n",
            "32/32 [==============================] - 2s 60ms/step - loss: 1.2152 - accuracy: 0.4911 - val_loss: 1.3099 - val_accuracy: 0.4709 - lr: 0.0010\n",
            "Epoch 3/30\n",
            "32/32 [==============================] - 2s 60ms/step - loss: 1.1456 - accuracy: 0.5481 - val_loss: 1.2639 - val_accuracy: 0.4705 - lr: 0.0010\n",
            "Epoch 4/30\n",
            "32/32 [==============================] - 2s 60ms/step - loss: 1.0796 - accuracy: 0.5869 - val_loss: 1.2051 - val_accuracy: 0.4705 - lr: 0.0010\n",
            "Epoch 5/30\n",
            "32/32 [==============================] - 2s 60ms/step - loss: 1.0173 - accuracy: 0.6070 - val_loss: 1.1499 - val_accuracy: 0.4705 - lr: 0.0010\n",
            "Epoch 6/30\n",
            "32/32 [==============================] - 2s 60ms/step - loss: 0.9711 - accuracy: 0.6175 - val_loss: 1.1377 - val_accuracy: 0.4705 - lr: 0.0010\n",
            "Epoch 7/30\n",
            "32/32 [==============================] - 2s 61ms/step - loss: 0.9306 - accuracy: 0.6384 - val_loss: 1.1281 - val_accuracy: 0.4705 - lr: 0.0010\n"
          ]
        }
      ],
      "source": [
        "# train model\n",
        "history = model.fit(matrix_data, y_encoded,validation_split=.15,epochs=n_epoch,batch_size=batch_size,verbose=1,callbacks=callbacks)#"
      ]
    },
    {
      "cell_type": "markdown",
      "metadata": {
        "id": "1Q4Uj0il_Kj9"
      },
      "source": [
        "# **Performance evaluation**"
      ]
    },
    {
      "cell_type": "code",
      "execution_count": 73,
      "metadata": {
        "colab": {
          "base_uri": "https://localhost:8080/"
        },
        "id": "HOQtg9YK-KyN",
        "outputId": "9bf6e93a-b7c3-45bd-ce69-83a32477e838"
      },
      "outputs": [
        {
          "output_type": "stream",
          "name": "stdout",
          "text": [
            "8/8 [==============================] - 0s 18ms/step - loss: 1.2989 - accuracy: 0.4641\n",
            "Accuracy: 46.405229\n"
          ]
        }
      ],
      "source": [
        "loss, accuracy = model.evaluate(x_validate,y_validate,batch_size=512)\n",
        "print('Accuracy: %f' % (accuracy*100))"
      ]
    },
    {
      "cell_type": "markdown",
      "metadata": {
        "id": "TvKakEQFCqI-"
      },
      "source": [
        "# **show classification report and confusion matrix**"
      ]
    },
    {
      "cell_type": "code",
      "execution_count": 74,
      "metadata": {
        "id": "r9VQDqofCqI_"
      },
      "outputs": [],
      "source": [
        "out = model.predict(x_validate)#predict on validation data\n",
        "model_y_pred = np.argmax(out,axis=1)"
      ]
    },
    {
      "cell_type": "code",
      "source": [
        "df.sentiment.unique()"
      ],
      "metadata": {
        "colab": {
          "base_uri": "https://localhost:8080/"
        },
        "id": "V3U9R_YoIJS4",
        "outputId": "efead2b4-3dcf-4e4b-dd6f-249ba32fde79"
      },
      "execution_count": 78,
      "outputs": [
        {
          "output_type": "execute_result",
          "data": {
            "text/plain": [
              "array(['sadness', 'neutral', 'happiness', 'anger'], dtype=object)"
            ]
          },
          "metadata": {},
          "execution_count": 78
        }
      ]
    },
    {
      "cell_type": "code",
      "source": [
        "df.sentiment.value_counts()"
      ],
      "metadata": {
        "colab": {
          "base_uri": "https://localhost:8080/"
        },
        "id": "oUQUWXH1IWj0",
        "outputId": "74cddd01-f08c-45c3-8eb1-180615afc565"
      },
      "execution_count": 81,
      "outputs": [
        {
          "output_type": "execute_result",
          "data": {
            "text/plain": [
              "neutral      8638\n",
              "happiness    5208\n",
              "sadness      5165\n",
              "anger         110\n",
              "Name: sentiment, dtype: int64"
            ]
          },
          "metadata": {},
          "execution_count": 81
        }
      ]
    },
    {
      "cell_type": "code",
      "execution_count": 79,
      "metadata": {
        "id": "929Qu922CqI_"
      },
      "outputs": [],
      "source": [
        "def show_report_con(y_pred):\n",
        "    print(classification_report(y_validate,y_pred))\n",
        "    label = ['sadness', 'neutral', 'happiness', 'anger']\n",
        "    cm = confusion_matrix(y_validate,y_pred,normalize='true')\n",
        "    ax= plt.subplot()\n",
        "    sns.heatmap(cm, annot=True, fmt='g', ax=ax)\n",
        "    ax.xaxis.set_ticklabels(label)\n",
        "    ax.yaxis.set_ticklabels(label)\n",
        "    # labels, title and ticks\n",
        "    ax.set_xlabel('Predicted labels')\n",
        "    ax.set_ylabel('True labels')\n",
        "    ax.set_title('Confusion Matrix') "
      ]
    },
    {
      "cell_type": "code",
      "execution_count": 80,
      "metadata": {
        "colab": {
          "base_uri": "https://localhost:8080/",
          "height": 610
        },
        "id": "D3ng4eOw-KvU",
        "outputId": "6be1319a-ebbe-424c-e1d9-c14b468a547c"
      },
      "outputs": [
        {
          "output_type": "stream",
          "name": "stderr",
          "text": [
            "/usr/local/lib/python3.7/dist-packages/sklearn/metrics/_classification.py:1318: UndefinedMetricWarning: Precision and F-score are ill-defined and being set to 0.0 in labels with no predicted samples. Use `zero_division` parameter to control this behavior.\n",
            "  _warn_prf(average, modifier, msg_start, len(result))\n",
            "/usr/local/lib/python3.7/dist-packages/sklearn/metrics/_classification.py:1318: UndefinedMetricWarning: Precision and F-score are ill-defined and being set to 0.0 in labels with no predicted samples. Use `zero_division` parameter to control this behavior.\n",
            "  _warn_prf(average, modifier, msg_start, len(result))\n",
            "/usr/local/lib/python3.7/dist-packages/sklearn/metrics/_classification.py:1318: UndefinedMetricWarning: Precision and F-score are ill-defined and being set to 0.0 in labels with no predicted samples. Use `zero_division` parameter to control this behavior.\n",
            "  _warn_prf(average, modifier, msg_start, len(result))\n"
          ]
        },
        {
          "output_type": "stream",
          "name": "stdout",
          "text": [
            "              precision    recall  f1-score   support\n",
            "\n",
            "           0       0.00      0.00      0.00        22\n",
            "           1       0.00      0.00      0.00      1042\n",
            "           2       0.46      0.99      0.63      1728\n",
            "           3       0.84      0.06      0.11      1033\n",
            "\n",
            "    accuracy                           0.46      3825\n",
            "   macro avg       0.32      0.26      0.18      3825\n",
            "weighted avg       0.43      0.46      0.31      3825\n",
            "\n"
          ]
        },
        {
          "output_type": "display_data",
          "data": {
            "image/png": "[encoded data removed]",
            "text/plain": [
              "<Figure size 432x288 with 2 Axes>"
            ]
          },
          "metadata": {
            "needs_background": "light"
          }
        }
      ],
      "source": [
        "show_report_con(model_y_pred)"
      ]
    },
    {
      "cell_type": "markdown",
      "metadata": {
        "id": "UBH8EhhxCqI_"
      },
      "source": [
        "# **Plot accuracy**"
      ]
    },
    {
      "cell_type": "code",
      "execution_count": 82,
      "metadata": {
        "id": "bcsWoO7JCqI_"
      },
      "outputs": [],
      "source": [
        "# summarize history for acc\n",
        "def plot_acc(history):\n",
        "    plt.plot(history.history['accuracy'])\n",
        "    plt.plot(history.history['val_accuracy'])\n",
        "    plt.title('accuracy')\n",
        "    plt.ylabel('accuracy')\n",
        "    plt.xlabel('epoch')\n",
        "    plt.legend(['train', 'test'], loc='upper left')\n",
        "    plt.show()"
      ]
    },
    {
      "cell_type": "code",
      "execution_count": 83,
      "metadata": {
        "colab": {
          "base_uri": "https://localhost:8080/",
          "height": 295
        },
        "id": "JHrpBRji-KsW",
        "outputId": "422afc27-fb57-4f47-e0a2-920aeb9e01e0"
      },
      "outputs": [
        {
          "output_type": "display_data",
          "data": {
            "image/png": "[encoded data removed]",
            "text/plain": [
              "<Figure size 432x288 with 1 Axes>"
            ]
          },
          "metadata": {
            "needs_background": "light"
          }
        }
      ],
      "source": [
        "plot_acc(history)"
      ]
    },
    {
      "cell_type": "markdown",
      "metadata": {
        "id": "Qo4MdgSACqI_"
      },
      "source": [
        "# **Plot losses**"
      ]
    },
    {
      "cell_type": "code",
      "execution_count": 84,
      "metadata": {
        "id": "ktHqKaLuCqI_"
      },
      "outputs": [],
      "source": [
        "# summarize history for loss\n",
        "def plot_loss(history):\n",
        "    plt.plot(history.history['loss'])\n",
        "    plt.plot(history.history['val_loss'])\n",
        "    plt.title('loss')\n",
        "    plt.ylabel('loss')\n",
        "    plt.xlabel('epoch')\n",
        "    plt.legend(['train', 'test'], loc='upper left')\n",
        "    plt.show()"
      ]
    },
    {
      "cell_type": "code",
      "execution_count": 85,
      "metadata": {
        "colab": {
          "base_uri": "https://localhost:8080/",
          "height": 295
        },
        "id": "w6f4uqU9-YgM",
        "outputId": "931a3ae0-9d50-4965-8226-6795efbf4087"
      },
      "outputs": [
        {
          "output_type": "display_data",
          "data": {
            "image/png": "[encoded data removed]",
            "text/plain": [
              "<Figure size 432x288 with 1 Axes>"
            ]
          },
          "metadata": {
            "needs_background": "light"
          }
        }
      ],
      "source": [
        "plot_loss(history)"
      ]
    },
    {
      "cell_type": "code",
      "execution_count": 86,
      "metadata": {
        "id": "4pxeMo_aCqI_"
      },
      "outputs": [],
      "source": [
        "def print_acc_pre_rec_f1(y_pred):\n",
        "    # accuracy: (tp + tn) / (p + n)\n",
        "    model_accuracy = accuracy_score(y_validate, y_pred)\n",
        "    print(model_accuracy)\n",
        "    # precision tp / (tp + fp)\n",
        "    model_precision = precision_score(y_validate, y_pred,average='macro')\n",
        "    print(model_precision)\n",
        "    # recall: tp / (tp + fn)\n",
        "    model_recall = recall_score(y_validate, y_pred,average='macro')\n",
        "    print(model_recall)\n",
        "    # f1: 2 tp / (2 tp + fp + fn)\n",
        "    model_f1 = f1_score(y_validate, y_pred,average='macro')\n",
        "    print(model_f1)"
      ]
    },
    {
      "cell_type": "code",
      "execution_count": 87,
      "metadata": {
        "colab": {
          "base_uri": "https://localhost:8080/"
        },
        "id": "NCFG9J2P-o2M",
        "outputId": "a98f8931-8e6f-45da-86f1-f0a5b7faf5ef"
      },
      "outputs": [
        {
          "output_type": "stream",
          "name": "stdout",
          "text": [
            "0.46405228758169936\n",
            "0.32442874010279205\n",
            "0.26244535087483417\n",
            "0.1828621060309417\n"
          ]
        },
        {
          "output_type": "stream",
          "name": "stderr",
          "text": [
            "/usr/local/lib/python3.7/dist-packages/sklearn/metrics/_classification.py:1318: UndefinedMetricWarning: Precision is ill-defined and being set to 0.0 in labels with no predicted samples. Use `zero_division` parameter to control this behavior.\n",
            "  _warn_prf(average, modifier, msg_start, len(result))\n"
          ]
        }
      ],
      "source": [
        "print_acc_pre_rec_f1(model_y_pred)"
      ]
    }
  ],
  "metadata": {
    "accelerator": "GPU",
    "colab": {
      "collapsed_sections": [],
      "name": "2nd_Challenge_emotion_analysis.ipynb",
      "provenance": []
    },
    "kernelspec": {
      "display_name": "Python 3 (ipykernel)",
      "language": "python",
      "name": "python3"
    },
    "language_info": {
      "codemirror_mode": {
        "name": "ipython",
        "version": 3
      },
      "file_extension": ".py",
      "mimetype": "text/x-python",
      "name": "python",
      "nbconvert_exporter": "python",
      "pygments_lexer": "ipython3",
      "version": "3.9.7"
    }
  },
  "nbformat": 4,
  "nbformat_minor": 0
}