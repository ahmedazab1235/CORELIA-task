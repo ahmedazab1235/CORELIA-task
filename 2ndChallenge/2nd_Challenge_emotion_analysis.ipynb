{
 "cells": [
  {
   "cell_type": "markdown",
   "metadata": {},
   "source": [
    "# Import Library used in project"
   ]
  },
  {
   "cell_type": "code",
   "execution_count": 1,
   "metadata": {
    "colab": {
     "base_uri": "https://localhost:8080/"
    },
    "id": "bGZmu1cg8iuC",
    "outputId": "826e2a8f-9275-4a12-c3eb-844a40d0f219"
   },
   "outputs": [
    {
     "name": "stderr",
     "output_type": "stream",
     "text": [
      "[nltk_data] Downloading package punkt to\n",
      "[nltk_data]     C:\\Users\\Mahmoud\\AppData\\Roaming\\nltk_data...\n",
      "[nltk_data]   Package punkt is already up-to-date!\n",
      "[nltk_data] Downloading package stopwords to\n",
      "[nltk_data]     C:\\Users\\Mahmoud\\AppData\\Roaming\\nltk_data...\n",
      "[nltk_data]   Package stopwords is already up-to-date!\n",
      "[nltk_data] Downloading package wordnet to\n",
      "[nltk_data]     C:\\Users\\Mahmoud\\AppData\\Roaming\\nltk_data...\n",
      "[nltk_data]   Package wordnet is already up-to-date!\n"
     ]
    }
   ],
   "source": [
    "import pandas as pd\n",
    "import numpy as np\n",
    "from sklearn.metrics import classification_report, confusion_matrix, accuracy_score, f1_score, precision_score, recall_score\n",
    "import matplotlib.pyplot as plt\n",
    "import seaborn as sns\n",
    "\n",
    "from sklearn.model_selection import train_test_split\n",
    "from tensorflow.keras.utils import to_categorical\n",
    "# tokenize the document\n",
    "from keras.preprocessing.text import text_to_word_sequence\n",
    "# This must be list of strings\n",
    "from keras.preprocessing.text import Tokenizer  \n",
    "from keras.preprocessing.sequence import pad_sequences\n",
    "from tensorflow.keras.models import Model\n",
    "\n",
    "from tensorflow.keras.models import Sequential\n",
    "from tensorflow.keras.callbacks import EarlyStopping,ModelCheckpoint,ReduceLROnPlateau\n",
    "from tensorflow.keras.layers import Input, concatenate, Embedding, LSTM, GRU, Dense, Dropout, Flatten, Conv1D, BatchNormalization, MaxPooling1D\n",
    "from tensorflow.keras.utils import plot_model\n",
    "from keras.models import load_model\n",
    "\n",
    "from gensim.models import Word2Vec\n",
    "from gensim.corpora.dictionary import Dictionary\n",
    "from collections import Counter\n",
    "import re\n",
    "import string\n",
    "import nltk\n",
    "nltk.download('punkt')\n",
    "from nltk.tokenize import word_tokenize\n",
    "from nltk.corpus import stopwords\n",
    "nltk.download('stopwords')\n",
    "from nltk.stem.porter import PorterStemmer\n",
    "from nltk.stem import WordNetLemmatizer\n",
    "nltk.download('wordnet')\n",
    "from nltk.corpus import wordnet\n",
    "import unicodedata\n",
    "import html\n",
    "stop_words = stopwords.words('english')\n",
    "#to fix imbalance in data \n",
    "from imblearn.combine import SMOTEENN\n",
    "from imblearn.over_sampling import SMOTE\n",
    "from imblearn.over_sampling import RandomOverSampler\n",
    "from imblearn.over_sampling import ADASYN"
   ]
  },
  {
   "cell_type": "code",
   "execution_count": 2,
   "metadata": {
    "id": "MCNS4l8F9g14"
   },
   "outputs": [],
   "source": [
    "# the dimension of word vector\n",
    "vocab_dim = 256\n",
    "# sentence length\n",
    "maxlen = 150\n",
    "# batch size\n",
    "batch_size = 512\n",
    "# epoch num\n",
    "n_epoch = 30\n",
    "# input length\n",
    "input_length = 150"
   ]
  },
  {
   "cell_type": "code",
   "execution_count": 285,
   "metadata": {},
   "outputs": [],
   "source": [
    "train_text = pd.read_csv('./emotion/train_text.txt',sep='\\t',names=['Review'])\n",
    "train_labels = pd.read_csv('./emotion/train_labels.txt',sep='\\t',names=['Label'])\n",
    "test_text = pd.read_csv('./emotion/test_text.txt',sep='\\t',names=['Review'])\n",
    "test_labels = pd.read_csv('./emotion/test_labels.txt',sep='\\t',names=['Label'])\n",
    "val_text = pd.read_csv('./emotion/val_text.txt',sep='\\t',names=['Review'])\n",
    "val_labels = pd.read_csv('./emotion/val_labels.txt',sep='\\t',names=['Label'])"
   ]
  },
  {
   "cell_type": "code",
   "execution_count": 286,
   "metadata": {},
   "outputs": [],
   "source": [
    "df1 = pd.concat([train_labels,test_labels,val_labels])\n",
    "df2 = pd.concat([train_text,test_text,val_text])"
   ]
  },
  {
   "cell_type": "code",
   "execution_count": 287,
   "metadata": {},
   "outputs": [],
   "source": [
    "df = pd.concat([df1,df2],axis=1)"
   ]
  },
  {
   "cell_type": "code",
   "execution_count": 288,
   "metadata": {
    "colab": {
     "base_uri": "https://localhost:8080/"
    },
    "id": "COebnztGtaj0",
    "outputId": "ec73dc4f-6e46-4880-a7f5-00536d0fa9d0"
   },
   "outputs": [
    {
     "data": {
      "text/plain": [
       "0    2118\n",
       "3    1326\n",
       "1    1163\n",
       "2     445\n",
       "Name: Label, dtype: int64"
      ]
     },
     "execution_count": 288,
     "metadata": {},
     "output_type": "execute_result"
    }
   ],
   "source": [
    "# show value of counts for class labels\n",
    "df.Label.value_counts()"
   ]
  },
  {
   "cell_type": "code",
   "execution_count": 289,
   "metadata": {},
   "outputs": [],
   "source": [
    "df = df[df['Label']==0]"
   ]
  },
  {
   "cell_type": "code",
   "execution_count": 290,
   "metadata": {},
   "outputs": [],
   "source": [
    "df['Label'] = 'anger'"
   ]
  },
  {
   "cell_type": "code",
   "execution_count": 291,
   "metadata": {},
   "outputs": [
    {
     "data": {
      "text/html": [
       "<div>\n",
       "<style scoped>\n",
       "    .dataframe tbody tr th:only-of-type {\n",
       "        vertical-align: middle;\n",
       "    }\n",
       "\n",
       "    .dataframe tbody tr th {\n",
       "        vertical-align: top;\n",
       "    }\n",
       "\n",
       "    .dataframe thead th {\n",
       "        text-align: right;\n",
       "    }\n",
       "</style>\n",
       "<table border=\"1\" class=\"dataframe\">\n",
       "  <thead>\n",
       "    <tr style=\"text-align: right;\">\n",
       "      <th></th>\n",
       "      <th>Label</th>\n",
       "      <th>Review</th>\n",
       "    </tr>\n",
       "  </thead>\n",
       "  <tbody>\n",
       "    <tr>\n",
       "      <th>1</th>\n",
       "      <td>anger</td>\n",
       "      <td>My roommate: it's okay that we can't spell bec...</td>\n",
       "    </tr>\n",
       "    <tr>\n",
       "      <th>3</th>\n",
       "      <td>anger</td>\n",
       "      <td>Rooneys fucking untouchable isn't he? Been fuc...</td>\n",
       "    </tr>\n",
       "    <tr>\n",
       "      <th>5</th>\n",
       "      <td>anger</td>\n",
       "      <td>@user but your pussy was weak from what I hear...</td>\n",
       "    </tr>\n",
       "    <tr>\n",
       "      <th>8</th>\n",
       "      <td>anger</td>\n",
       "      <td>@user broadband is shocking regretting signing...</td>\n",
       "    </tr>\n",
       "    <tr>\n",
       "      <th>9</th>\n",
       "      <td>anger</td>\n",
       "      <td>@user Look at those teef! #growl</td>\n",
       "    </tr>\n",
       "  </tbody>\n",
       "</table>\n",
       "</div>"
      ],
      "text/plain": [
       "   Label                                             Review\n",
       "1  anger  My roommate: it's okay that we can't spell bec...\n",
       "3  anger  Rooneys fucking untouchable isn't he? Been fuc...\n",
       "5  anger  @user but your pussy was weak from what I hear...\n",
       "8  anger  @user broadband is shocking regretting signing...\n",
       "9  anger                  @user Look at those teef! #growl "
      ]
     },
     "execution_count": 291,
     "metadata": {},
     "output_type": "execute_result"
    }
   ],
   "source": [
    "df.head()"
   ]
  },
  {
   "cell_type": "code",
   "execution_count": 332,
   "metadata": {},
   "outputs": [],
   "source": [
    "df1 = pd.read_csv('tweet_emotions.csv')"
   ]
  },
  {
   "cell_type": "code",
   "execution_count": 333,
   "metadata": {},
   "outputs": [
    {
     "data": {
      "text/html": [
       "<div>\n",
       "<style scoped>\n",
       "    .dataframe tbody tr th:only-of-type {\n",
       "        vertical-align: middle;\n",
       "    }\n",
       "\n",
       "    .dataframe tbody tr th {\n",
       "        vertical-align: top;\n",
       "    }\n",
       "\n",
       "    .dataframe thead th {\n",
       "        text-align: right;\n",
       "    }\n",
       "</style>\n",
       "<table border=\"1\" class=\"dataframe\">\n",
       "  <thead>\n",
       "    <tr style=\"text-align: right;\">\n",
       "      <th></th>\n",
       "      <th>tweet_id</th>\n",
       "      <th>sentiment</th>\n",
       "      <th>content</th>\n",
       "    </tr>\n",
       "  </thead>\n",
       "  <tbody>\n",
       "    <tr>\n",
       "      <th>0</th>\n",
       "      <td>1956967341</td>\n",
       "      <td>empty</td>\n",
       "      <td>@tiffanylue i know  i was listenin to bad habi...</td>\n",
       "    </tr>\n",
       "    <tr>\n",
       "      <th>1</th>\n",
       "      <td>1956967666</td>\n",
       "      <td>sadness</td>\n",
       "      <td>Layin n bed with a headache  ughhhh...waitin o...</td>\n",
       "    </tr>\n",
       "    <tr>\n",
       "      <th>2</th>\n",
       "      <td>1956967696</td>\n",
       "      <td>sadness</td>\n",
       "      <td>Funeral ceremony...gloomy friday...</td>\n",
       "    </tr>\n",
       "    <tr>\n",
       "      <th>3</th>\n",
       "      <td>1956967789</td>\n",
       "      <td>enthusiasm</td>\n",
       "      <td>wants to hang out with friends SOON!</td>\n",
       "    </tr>\n",
       "    <tr>\n",
       "      <th>4</th>\n",
       "      <td>1956968416</td>\n",
       "      <td>neutral</td>\n",
       "      <td>@dannycastillo We want to trade with someone w...</td>\n",
       "    </tr>\n",
       "  </tbody>\n",
       "</table>\n",
       "</div>"
      ],
      "text/plain": [
       "     tweet_id   sentiment                                            content\n",
       "0  1956967341       empty  @tiffanylue i know  i was listenin to bad habi...\n",
       "1  1956967666     sadness  Layin n bed with a headache  ughhhh...waitin o...\n",
       "2  1956967696     sadness                Funeral ceremony...gloomy friday...\n",
       "3  1956967789  enthusiasm               wants to hang out with friends SOON!\n",
       "4  1956968416     neutral  @dannycastillo We want to trade with someone w..."
      ]
     },
     "execution_count": 333,
     "metadata": {},
     "output_type": "execute_result"
    }
   ],
   "source": [
    "df1.head()"
   ]
  },
  {
   "cell_type": "code",
   "execution_count": 334,
   "metadata": {},
   "outputs": [
    {
     "data": {
      "text/plain": [
       "neutral       8638\n",
       "worry         8459\n",
       "happiness     5209\n",
       "sadness       5165\n",
       "love          3842\n",
       "surprise      2187\n",
       "fun           1776\n",
       "relief        1526\n",
       "hate          1323\n",
       "empty          827\n",
       "enthusiasm     759\n",
       "boredom        179\n",
       "anger          110\n",
       "Name: sentiment, dtype: int64"
      ]
     },
     "execution_count": 334,
     "metadata": {},
     "output_type": "execute_result"
    }
   ],
   "source": [
    "df1.sentiment.value_counts()"
   ]
  },
  {
   "cell_type": "code",
   "execution_count": 335,
   "metadata": {},
   "outputs": [],
   "source": [
    "df1 = df1[df1['sentiment'].isin(['neutral','happiness','sadness','anger'])]"
   ]
  },
  {
   "cell_type": "code",
   "execution_count": 336,
   "metadata": {},
   "outputs": [
    {
     "data": {
      "text/plain": [
       "neutral      8638\n",
       "happiness    5209\n",
       "sadness      5165\n",
       "anger         110\n",
       "Name: sentiment, dtype: int64"
      ]
     },
     "execution_count": 336,
     "metadata": {},
     "output_type": "execute_result"
    }
   ],
   "source": [
    "df1.sentiment.value_counts()"
   ]
  },
  {
   "cell_type": "code",
   "execution_count": 337,
   "metadata": {},
   "outputs": [],
   "source": [
    "df1.drop('tweet_id',axis=1,inplace=True)"
   ]
  },
  {
   "cell_type": "code",
   "execution_count": 338,
   "metadata": {},
   "outputs": [],
   "source": [
    "df1.rename(columns={'sentiment':'Label','content':'Review'},inplace=True)"
   ]
  },
  {
   "cell_type": "code",
   "execution_count": 299,
   "metadata": {},
   "outputs": [],
   "source": [
    "# df = pd.concat([df1,df])"
   ]
  },
  {
   "cell_type": "code",
   "execution_count": 302,
   "metadata": {},
   "outputs": [
    {
     "data": {
      "text/plain": [
       "neutral      8638\n",
       "happiness    5209\n",
       "sadness      5165\n",
       "anger        2228\n",
       "Name: Label, dtype: int64"
      ]
     },
     "execution_count": 302,
     "metadata": {},
     "output_type": "execute_result"
    }
   ],
   "source": [
    "# df.Label.value_counts()"
   ]
  },
  {
   "cell_type": "code",
   "execution_count": 339,
   "metadata": {},
   "outputs": [],
   "source": [
    "df = df1.copy()"
   ]
  },
  {
   "cell_type": "code",
   "execution_count": 340,
   "metadata": {},
   "outputs": [
    {
     "data": {
      "text/html": [
       "<div>\n",
       "<style scoped>\n",
       "    .dataframe tbody tr th:only-of-type {\n",
       "        vertical-align: middle;\n",
       "    }\n",
       "\n",
       "    .dataframe tbody tr th {\n",
       "        vertical-align: top;\n",
       "    }\n",
       "\n",
       "    .dataframe thead th {\n",
       "        text-align: right;\n",
       "    }\n",
       "</style>\n",
       "<table border=\"1\" class=\"dataframe\">\n",
       "  <thead>\n",
       "    <tr style=\"text-align: right;\">\n",
       "      <th></th>\n",
       "      <th>Label</th>\n",
       "      <th>Review</th>\n",
       "    </tr>\n",
       "  </thead>\n",
       "  <tbody>\n",
       "    <tr>\n",
       "      <th>1</th>\n",
       "      <td>sadness</td>\n",
       "      <td>Layin n bed with a headache  ughhhh...waitin o...</td>\n",
       "    </tr>\n",
       "    <tr>\n",
       "      <th>2</th>\n",
       "      <td>sadness</td>\n",
       "      <td>Funeral ceremony...gloomy friday...</td>\n",
       "    </tr>\n",
       "    <tr>\n",
       "      <th>4</th>\n",
       "      <td>neutral</td>\n",
       "      <td>@dannycastillo We want to trade with someone w...</td>\n",
       "    </tr>\n",
       "    <tr>\n",
       "      <th>6</th>\n",
       "      <td>sadness</td>\n",
       "      <td>I should be sleep, but im not! thinking about ...</td>\n",
       "    </tr>\n",
       "    <tr>\n",
       "      <th>8</th>\n",
       "      <td>sadness</td>\n",
       "      <td>@charviray Charlene my love. I miss you</td>\n",
       "    </tr>\n",
       "  </tbody>\n",
       "</table>\n",
       "</div>"
      ],
      "text/plain": [
       "     Label                                             Review\n",
       "1  sadness  Layin n bed with a headache  ughhhh...waitin o...\n",
       "2  sadness                Funeral ceremony...gloomy friday...\n",
       "4  neutral  @dannycastillo We want to trade with someone w...\n",
       "6  sadness  I should be sleep, but im not! thinking about ...\n",
       "8  sadness            @charviray Charlene my love. I miss you"
      ]
     },
     "execution_count": 340,
     "metadata": {},
     "output_type": "execute_result"
    }
   ],
   "source": [
    "df.head()"
   ]
  },
  {
   "cell_type": "code",
   "execution_count": 341,
   "metadata": {
    "colab": {
     "base_uri": "https://localhost:8080/",
     "height": 282
    },
    "id": "pX-3glEttx6X",
    "outputId": "b2687aba-fc4c-456d-c561-ec7787bd7ecb"
   },
   "outputs": [
    {
     "data": {
      "text/plain": [
       "<AxesSubplot:>"
      ]
     },
     "execution_count": 341,
     "metadata": {},
     "output_type": "execute_result"
    },
    {
     "data": {
      "image/png": "[encoded data removed]",
      "text/plain": [
       "<Figure size 432x288 with 1 Axes>"
      ]
     },
     "metadata": {
      "needs_background": "light"
     },
     "output_type": "display_data"
    }
   ],
   "source": [
    "# Create a column containing the length of all words for each row\n",
    "df['lenght'] = df.Review.apply(lambda x: len(x.split()))\n",
    "df['lenght'].hist()"
   ]
  },
  {
   "cell_type": "code",
   "execution_count": 342,
   "metadata": {},
   "outputs": [
    {
     "data": {
      "text/plain": [
       "33"
      ]
     },
     "execution_count": 342,
     "metadata": {},
     "output_type": "execute_result"
    }
   ],
   "source": [
    "def get_longest_text(texts):\n",
    "    longest_input = 0\n",
    "    for text in texts:\n",
    "        text_len= len(text.split())\n",
    "        longest_input = max(longest_input, text_len)\n",
    "    return longest_input\n",
    "longest_input = get_longest_text(df['Review'])\n",
    "longest_input"
   ]
  },
  {
   "cell_type": "markdown",
   "metadata": {
    "id": "rwG8-ct1t1MH"
   },
   "source": [
    "# **Data preprocessing**"
   ]
  },
  {
   "cell_type": "code",
   "execution_count": 343,
   "metadata": {
    "id": "1O81obybtx3o"
   },
   "outputs": [],
   "source": [
    "def remove_special_chars(text):\n",
    "    re1 = re.compile(r'  +')\n",
    "    x1 = text.lower().replace('#39;', \"'\").replace('amp;', '&').replace('#146;', \"'\").replace(\n",
    "        'nbsp;', ' ').replace('#36;', '$').replace('\\\\n', \"\\n\").replace('quot;', \"'\").replace(\n",
    "        '<br />', \"\\n\").replace('\\\\\"', '\"').replace('<unk>', 'u_n').replace(' @.@ ', '.').replace(\n",
    "        ' @-@ ', '-').replace('\\\\', ' \\\\ ')\n",
    "    return re1.sub(' ', html.unescape(x1))\n",
    "\n",
    "#remove_repeating_char\n",
    "def remove_repeating_char(text):\n",
    "    return re.sub(r'(.)\\1+', r'\\1', text)\n",
    "\n",
    "#processPost for applying all functions\n",
    "def processPost(text): \n",
    "    #Replace @username with empty string\n",
    "    text = re.sub('@[^\\s]+', ' ', text)\n",
    "    #Convert www.* or https?://* to \" \"\n",
    "    text = re.sub('((www\\.[^\\s]+)|(https?://[^\\s]+))',' ',text)\n",
    "    #Replace #word with word\n",
    "    text = re.sub(r'#([^\\s]+)', r'\\1', text)    \n",
    "    return text\n",
    "    \n",
    "def remove_non_ascii(text):\n",
    "    \"\"\"Remove non-ASCII characters from list of tokenized words\"\"\"\n",
    "    return unicodedata.normalize('NFKD', text).encode('ascii', 'ignore').decode('utf-8', 'ignore')\n",
    "\n",
    "# convert each word to lower case\n",
    "def to_lowercase(text):\n",
    "    return text.lower()\n",
    "\n",
    "def remove_punctuation(text):\n",
    "    \"\"\"Remove punctuation from list of tokenized words\"\"\"\n",
    "    translator = str.maketrans('', '', string.punctuation)\n",
    "    return text.translate(translator)\n",
    "\n",
    "# replace all numbers with ''\n",
    "def replace_numbers(text):\n",
    "    \"\"\"Replace all interger occurrences in list of tokenized words with textual representation\"\"\"\n",
    "    return re.sub(r'\\d+', '', text)\n",
    "\n",
    "# remove spaces from right and left sentences\n",
    "def remove_whitespaces(text):\n",
    "    return text.strip()\n",
    "\n",
    "# remove stop words like the he she it for \n",
    "def remove_stopwords(words, stop_words):\n",
    "    \"\"\"\n",
    "    :param words:\n",
    "    :type words:\n",
    "    :param stop_words: from sklearn.feature_extraction.stop_words import ENGLISH_STOP_WORDS\n",
    "    or\n",
    "    from spacy.lang.en.stop_words import STOP_WORDS\n",
    "    :type stop_words:\n",
    "    :return:\n",
    "    :rtype:\n",
    "    \"\"\"\n",
    "    return [word for word in words if word not in stop_words]\n",
    "\n",
    "# return root of each word\n",
    "def stem_words(words):\n",
    "    \"\"\"Stem words in text\"\"\"\n",
    "    stemmer = PorterStemmer()\n",
    "    return [stemmer.stem(word) for word in words]\n",
    "\n",
    "# return root of each word if word is Noun\n",
    "def lemmatize_words(words):\n",
    "    \"\"\"Lemmatize words in text\"\"\"\n",
    "\n",
    "    lemmatizer = WordNetLemmatizer()\n",
    "    return [lemmatizer.lemmatize(word) for word in words]\n",
    "\n",
    "# return root of each word if word is Verb\n",
    "def lemmatize_verbs(words):\n",
    "    \"\"\"Lemmatize verbs in text\"\"\"\n",
    "\n",
    "    lemmatizer = WordNetLemmatizer()\n",
    "    return ' '.join([lemmatizer.lemmatize(word, pos='v') for word in words])\n",
    "\n",
    "# split each sentence based on some features\n",
    "def text2words(text):\n",
    "    return word_tokenize(text)\n",
    "\n",
    "def normalize_text( text):\n",
    "    text = remove_special_chars(text)\n",
    "    text = remove_non_ascii(text)\n",
    "    text = remove_punctuation(text)\n",
    "    text = to_lowercase(text)\n",
    "    text = replace_numbers(text)\n",
    "    words = text2words(text)\n",
    "    words = remove_stopwords(words, stop_words)\n",
    "    #words = stem_words(words)# Either stem ovocar lemmatize\n",
    "    words = lemmatize_words(words)\n",
    "    words = lemmatize_verbs(words)\n",
    "\n",
    "    return ''.join(words)"
   ]
  },
  {
   "cell_type": "code",
   "execution_count": 344,
   "metadata": {
    "id": "yPMhSx_Otxz5"
   },
   "outputs": [],
   "source": [
    "# create column contain clean code\n",
    "df['clean_Review'] = df.Review.apply(lambda x: normalize_text(x))"
   ]
  },
  {
   "cell_type": "code",
   "execution_count": 345,
   "metadata": {
    "colab": {
     "base_uri": "https://localhost:8080/",
     "height": 282
    },
    "id": "1HGfcJ-vuHcG",
    "outputId": "c88a1e5e-d901-4de2-ef9a-6314bc17a923"
   },
   "outputs": [
    {
     "data": {
      "text/plain": [
       "<AxesSubplot:>"
      ]
     },
     "execution_count": 345,
     "metadata": {},
     "output_type": "execute_result"
    },
    {
     "data": {
      "image/png": "[encoded data removed]",
      "text/plain": [
       "<Figure size 432x288 with 1 Axes>"
      ]
     },
     "metadata": {
      "needs_background": "light"
     },
     "output_type": "display_data"
    }
   ],
   "source": [
    "# Create a column containing the length of all words for each row\n",
    "df['clean_lenght'] = df['clean_Review'].apply(lambda x: len(x.split()))\n",
    "df['clean_lenght'].hist()"
   ]
  },
  {
   "cell_type": "code",
   "execution_count": 346,
   "metadata": {},
   "outputs": [
    {
     "data": {
      "text/plain": [
       "25"
      ]
     },
     "execution_count": 346,
     "metadata": {},
     "output_type": "execute_result"
    }
   ],
   "source": [
    "def get_longest_text(texts):\n",
    "    longest_input = 0\n",
    "    for text in texts:\n",
    "        text_len= len(text.split())\n",
    "        longest_input = max(longest_input, text_len)\n",
    "    return longest_input\n",
    "longest_input = get_longest_text(df['clean_Review'])\n",
    "longest_input"
   ]
  },
  {
   "cell_type": "code",
   "execution_count": 347,
   "metadata": {
    "colab": {
     "base_uri": "https://localhost:8080/",
     "height": 206
    },
    "id": "RHoFrvV3uNSc",
    "outputId": "5d715701-b2f6-4eae-f042-0f025463bd14"
   },
   "outputs": [
    {
     "data": {
      "text/html": [
       "<div>\n",
       "<style scoped>\n",
       "    .dataframe tbody tr th:only-of-type {\n",
       "        vertical-align: middle;\n",
       "    }\n",
       "\n",
       "    .dataframe tbody tr th {\n",
       "        vertical-align: top;\n",
       "    }\n",
       "\n",
       "    .dataframe thead th {\n",
       "        text-align: right;\n",
       "    }\n",
       "</style>\n",
       "<table border=\"1\" class=\"dataframe\">\n",
       "  <thead>\n",
       "    <tr style=\"text-align: right;\">\n",
       "      <th></th>\n",
       "      <th>Label</th>\n",
       "      <th>Review</th>\n",
       "      <th>lenght</th>\n",
       "      <th>clean_Review</th>\n",
       "      <th>clean_lenght</th>\n",
       "    </tr>\n",
       "  </thead>\n",
       "  <tbody>\n",
       "    <tr>\n",
       "      <th>1</th>\n",
       "      <td>sadness</td>\n",
       "      <td>Layin n bed with a headache  ughhhh...waitin o...</td>\n",
       "      <td>10</td>\n",
       "      <td>layin n bed headache ughhhhwaitin call</td>\n",
       "      <td>6</td>\n",
       "    </tr>\n",
       "    <tr>\n",
       "      <th>2</th>\n",
       "      <td>sadness</td>\n",
       "      <td>Funeral ceremony...gloomy friday...</td>\n",
       "      <td>3</td>\n",
       "      <td>funeral ceremonygloomy friday</td>\n",
       "      <td>3</td>\n",
       "    </tr>\n",
       "    <tr>\n",
       "      <th>4</th>\n",
       "      <td>neutral</td>\n",
       "      <td>@dannycastillo We want to trade with someone w...</td>\n",
       "      <td>15</td>\n",
       "      <td>dannycastillo want trade someone houston ticke...</td>\n",
       "      <td>7</td>\n",
       "    </tr>\n",
       "    <tr>\n",
       "      <th>6</th>\n",
       "      <td>sadness</td>\n",
       "      <td>I should be sleep, but im not! thinking about ...</td>\n",
       "      <td>26</td>\n",
       "      <td>sleep im think old friend want he marry damn w...</td>\n",
       "      <td>11</td>\n",
       "    </tr>\n",
       "    <tr>\n",
       "      <th>8</th>\n",
       "      <td>sadness</td>\n",
       "      <td>@charviray Charlene my love. I miss you</td>\n",
       "      <td>7</td>\n",
       "      <td>charviray charlene love miss</td>\n",
       "      <td>4</td>\n",
       "    </tr>\n",
       "  </tbody>\n",
       "</table>\n",
       "</div>"
      ],
      "text/plain": [
       "     Label                                             Review  lenght  \\\n",
       "1  sadness  Layin n bed with a headache  ughhhh...waitin o...      10   \n",
       "2  sadness                Funeral ceremony...gloomy friday...       3   \n",
       "4  neutral  @dannycastillo We want to trade with someone w...      15   \n",
       "6  sadness  I should be sleep, but im not! thinking about ...      26   \n",
       "8  sadness            @charviray Charlene my love. I miss you       7   \n",
       "\n",
       "                                        clean_Review  clean_lenght  \n",
       "1             layin n bed headache ughhhhwaitin call             6  \n",
       "2                      funeral ceremonygloomy friday             3  \n",
       "4  dannycastillo want trade someone houston ticke...             7  \n",
       "6  sleep im think old friend want he marry damn w...            11  \n",
       "8                       charviray charlene love miss             4  "
      ]
     },
     "execution_count": 347,
     "metadata": {},
     "output_type": "execute_result"
    }
   ],
   "source": [
    "df.head()"
   ]
  },
  {
   "cell_type": "code",
   "execution_count": 348,
   "metadata": {
    "colab": {
     "base_uri": "https://localhost:8080/",
     "height": 35
    },
    "id": "R3Ly-vQFuQBh",
    "outputId": "3efc5c1f-865c-490a-e7a8-4292be453f00"
   },
   "outputs": [
    {
     "data": {
      "text/plain": [
       "'salary actually spend money hooray time go shop dinner ahora say goodbye yusufyusuf'"
      ]
     },
     "execution_count": 348,
     "metadata": {},
     "output_type": "execute_result"
    }
   ],
   "source": [
    "# show any row after apply clean sentences\n",
    "df.clean_Review.iloc[np.random.randint(0,5000)]"
   ]
  },
  {
   "cell_type": "code",
   "execution_count": 349,
   "metadata": {
    "id": "mXqNrMx29A_3"
   },
   "outputs": [],
   "source": [
    "# create list sentences contain list of list of words [[],[],[]]\n",
    "sentences = [i.split() for i in df.clean_Review]"
   ]
  },
  {
   "cell_type": "code",
   "execution_count": 350,
   "metadata": {
    "id": "2tVpCAU7uZHF"
   },
   "outputs": [],
   "source": [
    "words = [word for text in sentences for word in text]"
   ]
  },
  {
   "cell_type": "code",
   "execution_count": 351,
   "metadata": {
    "colab": {
     "base_uri": "https://localhost:8080/"
    },
    "id": "97xJM4kTuY6c",
    "outputId": "ae569cc3-5f32-4e8a-ce25-36efa7bcb682"
   },
   "outputs": [
    {
     "data": {
      "text/plain": [
       "[('get', 2053),\n",
       " ('im', 1976),\n",
       " ('go', 1906),\n",
       " ('day', 1572),\n",
       " ('good', 1106),\n",
       " ('work', 1081),\n",
       " ('like', 916),\n",
       " ('today', 819),\n",
       " ('u', 745),\n",
       " ('miss', 736)]"
      ]
     },
     "execution_count": 351,
     "metadata": {},
     "output_type": "execute_result"
    }
   ],
   "source": [
    "# show most repeated word in text\n",
    "from collections import Counter\n",
    "word_counts = Counter(words)\n",
    "word_counts.most_common(10)"
   ]
  },
  {
   "cell_type": "markdown",
   "metadata": {
    "id": "y1kPnoEHu7-1"
   },
   "source": [
    "# **Word Embedding - Word2vec**"
   ]
  },
  {
   "cell_type": "code",
   "execution_count": 352,
   "metadata": {
    "id": "YEi2bo2Z9Vnp"
   },
   "outputs": [],
   "source": [
    "# create word 2 vec model to train on custom dataset\n",
    "model = Word2Vec(sentences=sentences,size=vocab_dim, min_count=1, workers=6,iter=10)"
   ]
  },
  {
   "cell_type": "code",
   "execution_count": 353,
   "metadata": {
    "colab": {
     "base_uri": "https://localhost:8080/"
    },
    "id": "PMwAnFSu-dWH",
    "outputId": "e099468e-efe8-4e4b-dc1f-fc8e60594dcd"
   },
   "outputs": [
    {
     "data": {
      "text/plain": [
       "(2585800, 2816300)"
      ]
     },
     "execution_count": 353,
     "metadata": {},
     "output_type": "execute_result"
    }
   ],
   "source": [
    "model.train(sentences, total_examples=model.corpus_count, epochs=50)"
   ]
  },
  {
   "cell_type": "code",
   "execution_count": 354,
   "metadata": {
    "colab": {
     "base_uri": "https://localhost:8080/"
    },
    "id": "rDqXFZ8WFP4H",
    "outputId": "1a9332a4-fbad-4bae-c7f6-4d5f8164e237"
   },
   "outputs": [],
   "source": [
    "#show keys in text\n",
    "# model.wv.vocab.keys()"
   ]
  },
  {
   "cell_type": "code",
   "execution_count": 355,
   "metadata": {
    "colab": {
     "base_uri": "https://localhost:8080/"
    },
    "id": "-TwJV7Tg_PX3",
    "outputId": "1c703511-21d7-4d70-b38a-ca4379006181"
   },
   "outputs": [
    {
     "data": {
      "text/plain": [
       "[(0, 1),\n",
       " (1, 1),\n",
       " (2, 1),\n",
       " (3, 1),\n",
       " (4, 1),\n",
       " (5, 1),\n",
       " (6, 1),\n",
       " (7, 1),\n",
       " (8, 1),\n",
       " (9, 1),\n",
       " (10, 1),\n",
       " (11, 1),\n",
       " (12, 1),\n",
       " (13, 1),\n",
       " (14, 1),\n",
       " (15, 1),\n",
       " (16, 1),\n",
       " (17, 1),\n",
       " (18, 1),\n",
       " (19, 1),\n",
       " (20, 1),\n",
       " (21, 1),\n",
       " (22, 1),\n",
       " (23, 1),\n",
       " (24, 1),\n",
       " (25, 1),\n",
       " (26, 1),\n",
       " (27, 1),\n",
       " (28, 1),\n",
       " (29, 1),\n",
       " (30, 1),\n",
       " (31, 1),\n",
       " (32, 1),\n",
       " (33, 1),\n",
       " (34, 1),\n",
       " (35, 1),\n",
       " (36, 1),\n",
       " (37, 1),\n",
       " (38, 1),\n",
       " (39, 1),\n",
       " (40, 1),\n",
       " (41, 1),\n",
       " (42, 1),\n",
       " (43, 1),\n",
       " (44, 1),\n",
       " (45, 1),\n",
       " (46, 1),\n",
       " (47, 1),\n",
       " (48, 1),\n",
       " (49, 1),\n",
       " (50, 1),\n",
       " (51, 1),\n",
       " (52, 1),\n",
       " (53, 1),\n",
       " (54, 1),\n",
       " (55, 1),\n",
       " (56, 1),\n",
       " (57, 1),\n",
       " (58, 1),\n",
       " (59, 1),\n",
       " (60, 1),\n",
       " (61, 1),\n",
       " (62, 1),\n",
       " (63, 1),\n",
       " (64, 1),\n",
       " (65, 1),\n",
       " (66, 1),\n",
       " (67, 1),\n",
       " (68, 1),\n",
       " (69, 1),\n",
       " (70, 1),\n",
       " (71, 1),\n",
       " (72, 1),\n",
       " (73, 1),\n",
       " (74, 1),\n",
       " (75, 1),\n",
       " (76, 1),\n",
       " (77, 1),\n",
       " (78, 1),\n",
       " (79, 1),\n",
       " (80, 1),\n",
       " (81, 1),\n",
       " (82, 1),\n",
       " (83, 1),\n",
       " (84, 1),\n",
       " (85, 1),\n",
       " (86, 1),\n",
       " (87, 1),\n",
       " (88, 1),\n",
       " (89, 1),\n",
       " (90, 1),\n",
       " (91, 1),\n",
       " (92, 1),\n",
       " (93, 1),\n",
       " (94, 1),\n",
       " (95, 1),\n",
       " (96, 1),\n",
       " (97, 1),\n",
       " (98, 1),\n",
       " (99, 1),\n",
       " (100, 1),\n",
       " (101, 1),\n",
       " (102, 1),\n",
       " (103, 1),\n",
       " (104, 1),\n",
       " (105, 1),\n",
       " (106, 1),\n",
       " (107, 1),\n",
       " (108, 1),\n",
       " (109, 1),\n",
       " (110, 1),\n",
       " (111, 1),\n",
       " (112, 1),\n",
       " (113, 1),\n",
       " (114, 1),\n",
       " (115, 1),\n",
       " (116, 1),\n",
       " (117, 1),\n",
       " (118, 1),\n",
       " (119, 1),\n",
       " (120, 1),\n",
       " (121, 1),\n",
       " (122, 1),\n",
       " (123, 1),\n",
       " (124, 1),\n",
       " (125, 1),\n",
       " (126, 1),\n",
       " (127, 1),\n",
       " (128, 1),\n",
       " (129, 1),\n",
       " (130, 1),\n",
       " (131, 1),\n",
       " (132, 1),\n",
       " (133, 1),\n",
       " (134, 1),\n",
       " (135, 1),\n",
       " (136, 1),\n",
       " (137, 1),\n",
       " (138, 1),\n",
       " (139, 1),\n",
       " (140, 1),\n",
       " (141, 1),\n",
       " (142, 1),\n",
       " (143, 1),\n",
       " (144, 1),\n",
       " (145, 1),\n",
       " (146, 1),\n",
       " (147, 1),\n",
       " (148, 1),\n",
       " (149, 1),\n",
       " (150, 1),\n",
       " (151, 1),\n",
       " (152, 1),\n",
       " (153, 1),\n",
       " (154, 1),\n",
       " (155, 1),\n",
       " (156, 1),\n",
       " (157, 1),\n",
       " (158, 1),\n",
       " (159, 1),\n",
       " (160, 1),\n",
       " (161, 1),\n",
       " (162, 1),\n",
       " (163, 1),\n",
       " (164, 1),\n",
       " (165, 1),\n",
       " (166, 1),\n",
       " (167, 1),\n",
       " (168, 1),\n",
       " (169, 1),\n",
       " (170, 1),\n",
       " (171, 1),\n",
       " (172, 1),\n",
       " (173, 1),\n",
       " (174, 1),\n",
       " (175, 1),\n",
       " (176, 1),\n",
       " (177, 1),\n",
       " (178, 1),\n",
       " (179, 1),\n",
       " (180, 1),\n",
       " (181, 1),\n",
       " (182, 1),\n",
       " (183, 1),\n",
       " (184, 1),\n",
       " (185, 1),\n",
       " (186, 1),\n",
       " (187, 1),\n",
       " (188, 1),\n",
       " (189, 1),\n",
       " (190, 1),\n",
       " (191, 1),\n",
       " (192, 1),\n",
       " (193, 1),\n",
       " (194, 1),\n",
       " (195, 1),\n",
       " (196, 1),\n",
       " (197, 1),\n",
       " (198, 1),\n",
       " (199, 1),\n",
       " (200, 1),\n",
       " (201, 1),\n",
       " (202, 1),\n",
       " (203, 1),\n",
       " (204, 1),\n",
       " (205, 1),\n",
       " (206, 1),\n",
       " (207, 1),\n",
       " (208, 1),\n",
       " (209, 1),\n",
       " (210, 1),\n",
       " (211, 1),\n",
       " (212, 1),\n",
       " (213, 1),\n",
       " (214, 1),\n",
       " (215, 1),\n",
       " (216, 1),\n",
       " (217, 1),\n",
       " (218, 1),\n",
       " (219, 1),\n",
       " (220, 1),\n",
       " (221, 1),\n",
       " (222, 1),\n",
       " (223, 1),\n",
       " (224, 1),\n",
       " (225, 1),\n",
       " (226, 1),\n",
       " (227, 1),\n",
       " (228, 1),\n",
       " (229, 1),\n",
       " (230, 1),\n",
       " (231, 1),\n",
       " (232, 1),\n",
       " (233, 1),\n",
       " (234, 1),\n",
       " (235, 1),\n",
       " (236, 1),\n",
       " (237, 1),\n",
       " (238, 1),\n",
       " (239, 1),\n",
       " (240, 1),\n",
       " (241, 1),\n",
       " (242, 1),\n",
       " (243, 1),\n",
       " (244, 1),\n",
       " (245, 1),\n",
       " (246, 1),\n",
       " (247, 1),\n",
       " (248, 1),\n",
       " (249, 1),\n",
       " (250, 1),\n",
       " (251, 1),\n",
       " (252, 1),\n",
       " (253, 1),\n",
       " (254, 1),\n",
       " (255, 1),\n",
       " (256, 1),\n",
       " (257, 1),\n",
       " (258, 1),\n",
       " (259, 1),\n",
       " (260, 1),\n",
       " (261, 1),\n",
       " (262, 1),\n",
       " (263, 1),\n",
       " (264, 1),\n",
       " (265, 1),\n",
       " (266, 1),\n",
       " (267, 1),\n",
       " (268, 1),\n",
       " (269, 1),\n",
       " (270, 1),\n",
       " (271, 1),\n",
       " (272, 1),\n",
       " (273, 1),\n",
       " (274, 1),\n",
       " (275, 1),\n",
       " (276, 1),\n",
       " (277, 1),\n",
       " (278, 1),\n",
       " (279, 1),\n",
       " (280, 1),\n",
       " (281, 1),\n",
       " (282, 1),\n",
       " (283, 1),\n",
       " (284, 1),\n",
       " (285, 1),\n",
       " (286, 1),\n",
       " (287, 1),\n",
       " (288, 1),\n",
       " (289, 1),\n",
       " (290, 1),\n",
       " (291, 1),\n",
       " (292, 1),\n",
       " (293, 1),\n",
       " (294, 1),\n",
       " (295, 1),\n",
       " (296, 1),\n",
       " (297, 1),\n",
       " (298, 1),\n",
       " (299, 1),\n",
       " (300, 1),\n",
       " (301, 1),\n",
       " (302, 1),\n",
       " (303, 1),\n",
       " (304, 1),\n",
       " (305, 1),\n",
       " (306, 1),\n",
       " (307, 1),\n",
       " (308, 1),\n",
       " (309, 1),\n",
       " (310, 1),\n",
       " (311, 1),\n",
       " (312, 1),\n",
       " (313, 1),\n",
       " (314, 1),\n",
       " (315, 1),\n",
       " (316, 1),\n",
       " (317, 1),\n",
       " (318, 1),\n",
       " (319, 1),\n",
       " (320, 1),\n",
       " (321, 1),\n",
       " (322, 1),\n",
       " (323, 1),\n",
       " (324, 1),\n",
       " (325, 1),\n",
       " (326, 1),\n",
       " (327, 1),\n",
       " (328, 1),\n",
       " (329, 1),\n",
       " (330, 1),\n",
       " (331, 1),\n",
       " (332, 1),\n",
       " (333, 1),\n",
       " (334, 1),\n",
       " (335, 1),\n",
       " (336, 1),\n",
       " (337, 1),\n",
       " (338, 1),\n",
       " (339, 1),\n",
       " (340, 1),\n",
       " (341, 1),\n",
       " (342, 1),\n",
       " (343, 1),\n",
       " (344, 1),\n",
       " (345, 1),\n",
       " (346, 1),\n",
       " (347, 1),\n",
       " (348, 1),\n",
       " (349, 1),\n",
       " (350, 1),\n",
       " (351, 1),\n",
       " (352, 1),\n",
       " (353, 1),\n",
       " (354, 1),\n",
       " (355, 1),\n",
       " (356, 1),\n",
       " (357, 1),\n",
       " (358, 1),\n",
       " (359, 1),\n",
       " (360, 1),\n",
       " (361, 1),\n",
       " (362, 1),\n",
       " (363, 1),\n",
       " (364, 1),\n",
       " (365, 1),\n",
       " (366, 1),\n",
       " (367, 1),\n",
       " (368, 1),\n",
       " (369, 1),\n",
       " (370, 1),\n",
       " (371, 1),\n",
       " (372, 1),\n",
       " (373, 1),\n",
       " (374, 1),\n",
       " (375, 1),\n",
       " (376, 1),\n",
       " (377, 1),\n",
       " (378, 1),\n",
       " (379, 1),\n",
       " (380, 1),\n",
       " (381, 1),\n",
       " (382, 1),\n",
       " (383, 1),\n",
       " (384, 1),\n",
       " (385, 1),\n",
       " (386, 1),\n",
       " (387, 1),\n",
       " (388, 1),\n",
       " (389, 1),\n",
       " (390, 1),\n",
       " (391, 1),\n",
       " (392, 1),\n",
       " (393, 1),\n",
       " (394, 1),\n",
       " (395, 1),\n",
       " (396, 1),\n",
       " (397, 1),\n",
       " (398, 1),\n",
       " (399, 1),\n",
       " (400, 1),\n",
       " (401, 1),\n",
       " (402, 1),\n",
       " (403, 1),\n",
       " (404, 1),\n",
       " (405, 1),\n",
       " (406, 1),\n",
       " (407, 1),\n",
       " (408, 1),\n",
       " (409, 1),\n",
       " (410, 1),\n",
       " (411, 1),\n",
       " (412, 1),\n",
       " (413, 1),\n",
       " (414, 1),\n",
       " (415, 1),\n",
       " (416, 1),\n",
       " (417, 1),\n",
       " (418, 1),\n",
       " (419, 1),\n",
       " (420, 1),\n",
       " (421, 1),\n",
       " (422, 1),\n",
       " (423, 1),\n",
       " (424, 1),\n",
       " (425, 1),\n",
       " (426, 1),\n",
       " (427, 1),\n",
       " (428, 1),\n",
       " (429, 1),\n",
       " (430, 1),\n",
       " (431, 1),\n",
       " (432, 1),\n",
       " (433, 1),\n",
       " (434, 1),\n",
       " (435, 1),\n",
       " (436, 1),\n",
       " (437, 1),\n",
       " (438, 1),\n",
       " (439, 1),\n",
       " (440, 1),\n",
       " (441, 1),\n",
       " (442, 1),\n",
       " (443, 1),\n",
       " (444, 1),\n",
       " (445, 1),\n",
       " (446, 1),\n",
       " (447, 1),\n",
       " (448, 1),\n",
       " (449, 1),\n",
       " (450, 1),\n",
       " (451, 1),\n",
       " (452, 1),\n",
       " (453, 1),\n",
       " (454, 1),\n",
       " (455, 1),\n",
       " (456, 1),\n",
       " (457, 1),\n",
       " (458, 1),\n",
       " (459, 1),\n",
       " (460, 1),\n",
       " (461, 1),\n",
       " (462, 1),\n",
       " (463, 1),\n",
       " (464, 1),\n",
       " (465, 1),\n",
       " (466, 1),\n",
       " (467, 1),\n",
       " (468, 1),\n",
       " (469, 1),\n",
       " (470, 1),\n",
       " (471, 1),\n",
       " (472, 1),\n",
       " (473, 1),\n",
       " (474, 1),\n",
       " (475, 1),\n",
       " (476, 1),\n",
       " (477, 1),\n",
       " (478, 1),\n",
       " (479, 1),\n",
       " (480, 1),\n",
       " (481, 1),\n",
       " (482, 1),\n",
       " (483, 1),\n",
       " (484, 1),\n",
       " (485, 1),\n",
       " (486, 1),\n",
       " (487, 1),\n",
       " (488, 1),\n",
       " (489, 1),\n",
       " (490, 1),\n",
       " (491, 1),\n",
       " (492, 1),\n",
       " (493, 1),\n",
       " (494, 1),\n",
       " (495, 1),\n",
       " (496, 1),\n",
       " (497, 1),\n",
       " (498, 1),\n",
       " (499, 1),\n",
       " (500, 1),\n",
       " (501, 1),\n",
       " (502, 1),\n",
       " (503, 1),\n",
       " (504, 1),\n",
       " (505, 1),\n",
       " (506, 1),\n",
       " (507, 1),\n",
       " (508, 1),\n",
       " (509, 1),\n",
       " (510, 1),\n",
       " (511, 1),\n",
       " (512, 1),\n",
       " (513, 1),\n",
       " (514, 1),\n",
       " (515, 1),\n",
       " (516, 1),\n",
       " (517, 1),\n",
       " (518, 1),\n",
       " (519, 1),\n",
       " (520, 1),\n",
       " (521, 1),\n",
       " (522, 1),\n",
       " (523, 1),\n",
       " (524, 1),\n",
       " (525, 1),\n",
       " (526, 1),\n",
       " (527, 1),\n",
       " (528, 1),\n",
       " (529, 1),\n",
       " (530, 1),\n",
       " (531, 1),\n",
       " (532, 1),\n",
       " (533, 1),\n",
       " (534, 1),\n",
       " (535, 1),\n",
       " (536, 1),\n",
       " (537, 1),\n",
       " (538, 1),\n",
       " (539, 1),\n",
       " (540, 1),\n",
       " (541, 1),\n",
       " (542, 1),\n",
       " (543, 1),\n",
       " (544, 1),\n",
       " (545, 1),\n",
       " (546, 1),\n",
       " (547, 1),\n",
       " (548, 1),\n",
       " (549, 1),\n",
       " (550, 1),\n",
       " (551, 1),\n",
       " (552, 1),\n",
       " (553, 1),\n",
       " (554, 1),\n",
       " (555, 1),\n",
       " (556, 1),\n",
       " (557, 1),\n",
       " (558, 1),\n",
       " (559, 1),\n",
       " (560, 1),\n",
       " (561, 1),\n",
       " (562, 1),\n",
       " (563, 1),\n",
       " (564, 1),\n",
       " (565, 1),\n",
       " (566, 1),\n",
       " (567, 1),\n",
       " (568, 1),\n",
       " (569, 1),\n",
       " (570, 1),\n",
       " (571, 1),\n",
       " (572, 1),\n",
       " (573, 1),\n",
       " (574, 1),\n",
       " (575, 1),\n",
       " (576, 1),\n",
       " (577, 1),\n",
       " (578, 1),\n",
       " (579, 1),\n",
       " (580, 1),\n",
       " (581, 1),\n",
       " (582, 1),\n",
       " (583, 1),\n",
       " (584, 1),\n",
       " (585, 1),\n",
       " (586, 1),\n",
       " (587, 1),\n",
       " (588, 1),\n",
       " (589, 1),\n",
       " (590, 1),\n",
       " (591, 1),\n",
       " (592, 1),\n",
       " (593, 1),\n",
       " (594, 1),\n",
       " (595, 1),\n",
       " (596, 1),\n",
       " (597, 1),\n",
       " (598, 1),\n",
       " (599, 1),\n",
       " (600, 1),\n",
       " (601, 1),\n",
       " (602, 1),\n",
       " (603, 1),\n",
       " (604, 1),\n",
       " (605, 1),\n",
       " (606, 1),\n",
       " (607, 1),\n",
       " (608, 1),\n",
       " (609, 1),\n",
       " (610, 1),\n",
       " (611, 1),\n",
       " (612, 1),\n",
       " (613, 1),\n",
       " (614, 1),\n",
       " (615, 1),\n",
       " (616, 1),\n",
       " (617, 1),\n",
       " (618, 1),\n",
       " (619, 1),\n",
       " (620, 1),\n",
       " (621, 1),\n",
       " (622, 1),\n",
       " (623, 1),\n",
       " (624, 1),\n",
       " (625, 1),\n",
       " (626, 1),\n",
       " (627, 1),\n",
       " (628, 1),\n",
       " (629, 1),\n",
       " (630, 1),\n",
       " (631, 1),\n",
       " (632, 1),\n",
       " (633, 1),\n",
       " (634, 1),\n",
       " (635, 1),\n",
       " (636, 1),\n",
       " (637, 1),\n",
       " (638, 1),\n",
       " (639, 1),\n",
       " (640, 1),\n",
       " (641, 1),\n",
       " (642, 1),\n",
       " (643, 1),\n",
       " (644, 1),\n",
       " (645, 1),\n",
       " (646, 1),\n",
       " (647, 1),\n",
       " (648, 1),\n",
       " (649, 1),\n",
       " (650, 1),\n",
       " (651, 1),\n",
       " (652, 1),\n",
       " (653, 1),\n",
       " (654, 1),\n",
       " (655, 1),\n",
       " (656, 1),\n",
       " (657, 1),\n",
       " (658, 1),\n",
       " (659, 1),\n",
       " (660, 1),\n",
       " (661, 1),\n",
       " (662, 1),\n",
       " (663, 1),\n",
       " (664, 1),\n",
       " (665, 1),\n",
       " (666, 1),\n",
       " (667, 1),\n",
       " (668, 1),\n",
       " (669, 1),\n",
       " (670, 1),\n",
       " (671, 1),\n",
       " (672, 1),\n",
       " (673, 1),\n",
       " (674, 1),\n",
       " (675, 1),\n",
       " (676, 1),\n",
       " (677, 1),\n",
       " (678, 1),\n",
       " (679, 1),\n",
       " (680, 1),\n",
       " (681, 1),\n",
       " (682, 1),\n",
       " (683, 1),\n",
       " (684, 1),\n",
       " (685, 1),\n",
       " (686, 1),\n",
       " (687, 1),\n",
       " (688, 1),\n",
       " (689, 1),\n",
       " (690, 1),\n",
       " (691, 1),\n",
       " (692, 1),\n",
       " (693, 1),\n",
       " (694, 1),\n",
       " (695, 1),\n",
       " (696, 1),\n",
       " (697, 1),\n",
       " (698, 1),\n",
       " (699, 1),\n",
       " (700, 1),\n",
       " (701, 1),\n",
       " (702, 1),\n",
       " (703, 1),\n",
       " (704, 1),\n",
       " (705, 1),\n",
       " (706, 1),\n",
       " (707, 1),\n",
       " (708, 1),\n",
       " (709, 1),\n",
       " (710, 1),\n",
       " (711, 1),\n",
       " (712, 1),\n",
       " (713, 1),\n",
       " (714, 1),\n",
       " (715, 1),\n",
       " (716, 1),\n",
       " (717, 1),\n",
       " (718, 1),\n",
       " (719, 1),\n",
       " (720, 1),\n",
       " (721, 1),\n",
       " (722, 1),\n",
       " (723, 1),\n",
       " (724, 1),\n",
       " (725, 1),\n",
       " (726, 1),\n",
       " (727, 1),\n",
       " (728, 1),\n",
       " (729, 1),\n",
       " (730, 1),\n",
       " (731, 1),\n",
       " (732, 1),\n",
       " (733, 1),\n",
       " (734, 1),\n",
       " (735, 1),\n",
       " (736, 1),\n",
       " (737, 1),\n",
       " (738, 1),\n",
       " (739, 1),\n",
       " (740, 1),\n",
       " (741, 1),\n",
       " (742, 1),\n",
       " (743, 1),\n",
       " (744, 1),\n",
       " (745, 1),\n",
       " (746, 1),\n",
       " (747, 1),\n",
       " (748, 1),\n",
       " (749, 1),\n",
       " (750, 1),\n",
       " (751, 1),\n",
       " (752, 1),\n",
       " (753, 1),\n",
       " (754, 1),\n",
       " (755, 1),\n",
       " (756, 1),\n",
       " (757, 1),\n",
       " (758, 1),\n",
       " (759, 1),\n",
       " (760, 1),\n",
       " (761, 1),\n",
       " (762, 1),\n",
       " (763, 1),\n",
       " (764, 1),\n",
       " (765, 1),\n",
       " (766, 1),\n",
       " (767, 1),\n",
       " (768, 1),\n",
       " (769, 1),\n",
       " (770, 1),\n",
       " (771, 1),\n",
       " (772, 1),\n",
       " (773, 1),\n",
       " (774, 1),\n",
       " (775, 1),\n",
       " (776, 1),\n",
       " (777, 1),\n",
       " (778, 1),\n",
       " (779, 1),\n",
       " (780, 1),\n",
       " (781, 1),\n",
       " (782, 1),\n",
       " (783, 1),\n",
       " (784, 1),\n",
       " (785, 1),\n",
       " (786, 1),\n",
       " (787, 1),\n",
       " (788, 1),\n",
       " (789, 1),\n",
       " (790, 1),\n",
       " (791, 1),\n",
       " (792, 1),\n",
       " (793, 1),\n",
       " (794, 1),\n",
       " (795, 1),\n",
       " (796, 1),\n",
       " (797, 1),\n",
       " (798, 1),\n",
       " (799, 1),\n",
       " (800, 1),\n",
       " (801, 1),\n",
       " (802, 1),\n",
       " (803, 1),\n",
       " (804, 1),\n",
       " (805, 1),\n",
       " (806, 1),\n",
       " (807, 1),\n",
       " (808, 1),\n",
       " (809, 1),\n",
       " (810, 1),\n",
       " (811, 1),\n",
       " (812, 1),\n",
       " (813, 1),\n",
       " (814, 1),\n",
       " (815, 1),\n",
       " (816, 1),\n",
       " (817, 1),\n",
       " (818, 1),\n",
       " (819, 1),\n",
       " (820, 1),\n",
       " (821, 1),\n",
       " (822, 1),\n",
       " (823, 1),\n",
       " (824, 1),\n",
       " (825, 1),\n",
       " (826, 1),\n",
       " (827, 1),\n",
       " (828, 1),\n",
       " (829, 1),\n",
       " (830, 1),\n",
       " (831, 1),\n",
       " (832, 1),\n",
       " (833, 1),\n",
       " (834, 1),\n",
       " (835, 1),\n",
       " (836, 1),\n",
       " (837, 1),\n",
       " (838, 1),\n",
       " (839, 1),\n",
       " (840, 1),\n",
       " (841, 1),\n",
       " (842, 1),\n",
       " (843, 1),\n",
       " (844, 1),\n",
       " (845, 1),\n",
       " (846, 1),\n",
       " (847, 1),\n",
       " (848, 1),\n",
       " (849, 1),\n",
       " (850, 1),\n",
       " (851, 1),\n",
       " (852, 1),\n",
       " (853, 1),\n",
       " (854, 1),\n",
       " (855, 1),\n",
       " (856, 1),\n",
       " (857, 1),\n",
       " (858, 1),\n",
       " (859, 1),\n",
       " (860, 1),\n",
       " (861, 1),\n",
       " (862, 1),\n",
       " (863, 1),\n",
       " (864, 1),\n",
       " (865, 1),\n",
       " (866, 1),\n",
       " (867, 1),\n",
       " (868, 1),\n",
       " (869, 1),\n",
       " (870, 1),\n",
       " (871, 1),\n",
       " (872, 1),\n",
       " (873, 1),\n",
       " (874, 1),\n",
       " (875, 1),\n",
       " (876, 1),\n",
       " (877, 1),\n",
       " (878, 1),\n",
       " (879, 1),\n",
       " (880, 1),\n",
       " (881, 1),\n",
       " (882, 1),\n",
       " (883, 1),\n",
       " (884, 1),\n",
       " (885, 1),\n",
       " (886, 1),\n",
       " (887, 1),\n",
       " (888, 1),\n",
       " (889, 1),\n",
       " (890, 1),\n",
       " (891, 1),\n",
       " (892, 1),\n",
       " (893, 1),\n",
       " (894, 1),\n",
       " (895, 1),\n",
       " (896, 1),\n",
       " (897, 1),\n",
       " (898, 1),\n",
       " (899, 1),\n",
       " (900, 1),\n",
       " (901, 1),\n",
       " (902, 1),\n",
       " (903, 1),\n",
       " (904, 1),\n",
       " (905, 1),\n",
       " (906, 1),\n",
       " (907, 1),\n",
       " (908, 1),\n",
       " (909, 1),\n",
       " (910, 1),\n",
       " (911, 1),\n",
       " (912, 1),\n",
       " (913, 1),\n",
       " (914, 1),\n",
       " (915, 1),\n",
       " (916, 1),\n",
       " (917, 1),\n",
       " (918, 1),\n",
       " (919, 1),\n",
       " (920, 1),\n",
       " (921, 1),\n",
       " (922, 1),\n",
       " (923, 1),\n",
       " (924, 1),\n",
       " (925, 1),\n",
       " (926, 1),\n",
       " (927, 1),\n",
       " (928, 1),\n",
       " (929, 1),\n",
       " (930, 1),\n",
       " (931, 1),\n",
       " (932, 1),\n",
       " (933, 1),\n",
       " (934, 1),\n",
       " (935, 1),\n",
       " (936, 1),\n",
       " (937, 1),\n",
       " (938, 1),\n",
       " (939, 1),\n",
       " (940, 1),\n",
       " (941, 1),\n",
       " (942, 1),\n",
       " (943, 1),\n",
       " (944, 1),\n",
       " (945, 1),\n",
       " (946, 1),\n",
       " (947, 1),\n",
       " (948, 1),\n",
       " (949, 1),\n",
       " (950, 1),\n",
       " (951, 1),\n",
       " (952, 1),\n",
       " (953, 1),\n",
       " (954, 1),\n",
       " (955, 1),\n",
       " (956, 1),\n",
       " (957, 1),\n",
       " (958, 1),\n",
       " (959, 1),\n",
       " (960, 1),\n",
       " (961, 1),\n",
       " (962, 1),\n",
       " (963, 1),\n",
       " (964, 1),\n",
       " (965, 1),\n",
       " (966, 1),\n",
       " (967, 1),\n",
       " (968, 1),\n",
       " (969, 1),\n",
       " (970, 1),\n",
       " (971, 1),\n",
       " (972, 1),\n",
       " (973, 1),\n",
       " (974, 1),\n",
       " (975, 1),\n",
       " (976, 1),\n",
       " (977, 1),\n",
       " (978, 1),\n",
       " (979, 1),\n",
       " (980, 1),\n",
       " (981, 1),\n",
       " (982, 1),\n",
       " (983, 1),\n",
       " (984, 1),\n",
       " (985, 1),\n",
       " (986, 1),\n",
       " (987, 1),\n",
       " (988, 1),\n",
       " (989, 1),\n",
       " (990, 1),\n",
       " (991, 1),\n",
       " (992, 1),\n",
       " (993, 1),\n",
       " (994, 1),\n",
       " (995, 1),\n",
       " (996, 1),\n",
       " (997, 1),\n",
       " (998, 1),\n",
       " (999, 1),\n",
       " ...]"
      ]
     },
     "execution_count": 355,
     "metadata": {},
     "output_type": "execute_result"
    }
   ],
   "source": [
    "# create one for each word in model \n",
    "gensim_dict = Dictionary()\n",
    "gensim_dict.doc2bow(model.wv.vocab.keys(),allow_update=True)"
   ]
  },
  {
   "cell_type": "code",
   "execution_count": 356,
   "metadata": {
    "id": "B-QnVDhM-58E"
   },
   "outputs": [],
   "source": [
    "# create Dictionary contain each word and index +1 for unknown value \n",
    "w2indx = {v: k + 1 for k, v in gensim_dict.items()}"
   ]
  },
  {
   "cell_type": "code",
   "execution_count": 357,
   "metadata": {
    "colab": {
     "base_uri": "https://localhost:8080/"
    },
    "id": "HsH0cazoHG0m",
    "outputId": "a3e6a397-6ff0-4f7b-e038-de77d400b370"
   },
   "outputs": [],
   "source": [
    "# w2indx.keys()"
   ]
  },
  {
   "cell_type": "code",
   "execution_count": 358,
   "metadata": {
    "colab": {
     "base_uri": "https://localhost:8080/"
    },
    "id": "5YLkjFW0-510",
    "outputId": "f38e0c55-b9cc-4c13-da17-02731348b7f5"
   },
   "outputs": [
    {
     "name": "stderr",
     "output_type": "stream",
     "text": [
      "C:\\Users\\Mahmoud\\AppData\\Local\\Temp/ipykernel_16268/2566026201.py:2: DeprecationWarning: Call to deprecated `__getitem__` (Method will be removed in 4.0.0, use self.wv.__getitem__() instead).\n",
      "  w2vec = {word: model[word] for word in w2indx.keys()}\n"
     ]
    }
   ],
   "source": [
    "# create Dictionary contain each word and vector from model \n",
    "w2vec = {word: model[word] for word in w2indx.keys()}"
   ]
  },
  {
   "cell_type": "code",
   "execution_count": 359,
   "metadata": {
    "id": "2n7MKxXrHZGq"
   },
   "outputs": [],
   "source": [
    "# create data contain if word in model put index of it else put zero\n",
    "data = []\n",
    "for sentence in sentences:\n",
    "    new_txt = []\n",
    "    for word in sentence:\n",
    "        try:\n",
    "            new_txt.append(w2indx[word])\n",
    "        except:\n",
    "            new_txt.append(0)\n",
    "    data.append(new_txt)\n"
   ]
  },
  {
   "cell_type": "code",
   "execution_count": 360,
   "metadata": {
    "id": "0HE2vtsiJm4k"
   },
   "outputs": [],
   "source": [
    "# pad 0 for all row in data matrix with maxlength to fix shape of all rows\n",
    "matrix_data = pad_sequences(data,maxlen=maxlen,padding='post')"
   ]
  },
  {
   "cell_type": "code",
   "execution_count": 361,
   "metadata": {
    "id": "8zOxSTP8KkKL"
   },
   "outputs": [],
   "source": [
    "# create weight for embedding layer\n",
    "n_symbols = len(w2indx) +1\n",
    "embedding_weights = np.zeros((n_symbols,vocab_dim))\n",
    "for word, index in w2indx.items():\n",
    "    embedding_weights[index,:] = w2vec[word]"
   ]
  },
  {
   "cell_type": "markdown",
   "metadata": {
    "id": "eU_y724u0-Uc"
   },
   "source": [
    "# **split data**"
   ]
  },
  {
   "cell_type": "code",
   "execution_count": 363,
   "metadata": {},
   "outputs": [],
   "source": [
    "from sklearn.preprocessing import LabelEncoder \n",
    "encoder = LabelEncoder()\n",
    "y_encoded = encoder.fit_transform(df.Label)"
   ]
  },
  {
   "cell_type": "code",
   "execution_count": 364,
   "metadata": {
    "id": "ji9UMIgbNNsz"
   },
   "outputs": [],
   "source": [
    "x_train, x_validate, y_train, y_validate = train_test_split(matrix_data, y_encoded, test_size=0.2, random_state=42, stratify=df.Label)"
   ]
  },
  {
   "cell_type": "markdown",
   "metadata": {
    "id": "djAOlxMX1Dft"
   },
   "source": [
    "# **Build Models**\n"
   ]
  },
  {
   "cell_type": "code",
   "execution_count": 365,
   "metadata": {
    "id": "Hg7V2bAV12Aw"
   },
   "outputs": [],
   "source": [
    "class_len = len(df.Label.unique())"
   ]
  },
  {
   "cell_type": "code",
   "execution_count": 370,
   "metadata": {
    "colab": {
     "base_uri": "https://localhost:8080/"
    },
    "id": "mAQzwV7G8cnU",
    "outputId": "168e894d-8f41-4d80-dac0-50a1730f9fe0"
   },
   "outputs": [
    {
     "name": "stdout",
     "output_type": "stream",
     "text": [
      "Model: \"sequential_12\"\n",
      "_________________________________________________________________\n",
      " Layer (type)                Output Shape              Param #   \n",
      "=================================================================\n",
      " embedding_12 (Embedding)    (None, 150, 256)          6853120   \n",
      "                                                                 \n",
      " dropout_22 (Dropout)        (None, 150, 256)          0         \n",
      "                                                                 \n",
      " lstm_7 (LSTM)               (None, 8)                 8480      \n",
      "                                                                 \n",
      " batch_normalization_10 (Bat  (None, 8)                32        \n",
      " chNormalization)                                                \n",
      "                                                                 \n",
      " dropout_23 (Dropout)        (None, 8)                 0         \n",
      "                                                                 \n",
      " dense_18 (Dense)            (None, 4)                 36        \n",
      "                                                                 \n",
      "=================================================================\n",
      "Total params: 6,861,668\n",
      "Trainable params: 8,532\n",
      "Non-trainable params: 6,853,136\n",
      "_________________________________________________________________\n"
     ]
    }
   ],
   "source": [
    "# Convolution\n",
    "kernel_size = 5\n",
    "filters = 64\n",
    "pool_size = 4\n",
    "model = Sequential()\n",
    "model.add(Embedding(input_dim=n_symbols,input_length=input_length,mask_zero=True,weights=[embedding_weights],trainable=False,output_dim=vocab_dim))#No masking allowed for Conv1D\n",
    "model.add(Dropout(0.5))\n",
    "# model.add(Conv1D(filters,kernel_size,padding='same',activation='relu',strides=1))\n",
    "# model.add(MaxPooling1D(pool_size=pool_size))\n",
    "# model.add(Conv1D(filters,kernel_size,padding='valid',activation='relu',strides=1))\n",
    "# model.add(MaxPooling1D(pool_size=pool_size))\n",
    "model.add(LSTM(8))\n",
    "model.add(BatchNormalization())\n",
    "model.add(Dropout(0.5))\n",
    "model.add(Dense(class_len,activation='softmax'))\n",
    "model.compile(loss='sparse_categorical_crossentropy', optimizer='adam', metrics=['accuracy'])\n",
    "model.summary()"
   ]
  },
  {
   "cell_type": "code",
   "execution_count": 371,
   "metadata": {
    "colab": {
     "base_uri": "https://localhost:8080/",
     "height": 1000
    },
    "id": "Ea1Ogpbt8q4f",
    "outputId": "e5be2ed6-7d85-43e9-fb26-434f6fe8ed64"
   },
   "outputs": [],
   "source": [
    "# plot_model(model)"
   ]
  },
  {
   "cell_type": "code",
   "execution_count": 372,
   "metadata": {
    "id": "8TA5r_l19tK0"
   },
   "outputs": [],
   "source": [
    "# #early stop to prevent overfitting\n",
    "early_stopping = EarlyStopping(monitor='val_accuracy', mode='max', patience=5, restore_best_weights=True)\n",
    "# #save best models in training\n",
    "# chkpt = ModelCheckpoint(\"./model.h5\", monitor='val_accuracy',verbose=1, save_best_only=True, save_weights_only=True, mode='max')\n",
    "# #reduce learing rate each 5 epoch\n",
    "ReduceLR = ReduceLROnPlateau(monitor='val_accuracy', factor=0.2,patience=10, min_lr=0.001)\n",
    "# #combine all callbacks\n",
    "callbacks = [early_stopping, ReduceLR]"
   ]
  },
  {
   "cell_type": "code",
   "execution_count": 373,
   "metadata": {
    "colab": {
     "base_uri": "https://localhost:8080/"
    },
    "id": "HC015LVw9tCk",
    "outputId": "fe4af564-4105-4a18-a041-6484cdcf4c19"
   },
   "outputs": [
    {
     "name": "stdout",
     "output_type": "stream",
     "text": [
      "Epoch 1/30\n",
      "32/32 [==============================] - 20s 467ms/step - loss: 1.7757 - accuracy: 0.2918 - val_loss: 1.3966 - val_accuracy: 0.2224 - lr: 0.0010\n",
      "Epoch 2/30\n",
      "32/32 [==============================] - 10s 324ms/step - loss: 1.5407 - accuracy: 0.3443 - val_loss: 1.3355 - val_accuracy: 0.2963 - lr: 0.0010\n",
      "Epoch 3/30\n",
      "32/32 [==============================] - 12s 391ms/step - loss: 1.4323 - accuracy: 0.3778 - val_loss: 1.2807 - val_accuracy: 0.3691 - lr: 0.0010\n",
      "Epoch 4/30\n",
      "32/32 [==============================] - 12s 394ms/step - loss: 1.3720 - accuracy: 0.3992 - val_loss: 1.2285 - val_accuracy: 0.4374 - lr: 0.0010\n",
      "Epoch 5/30\n",
      "32/32 [==============================] - 10s 316ms/step - loss: 1.3028 - accuracy: 0.4306 - val_loss: 1.1827 - val_accuracy: 0.4974 - lr: 0.0010\n",
      "Epoch 6/30\n",
      "32/32 [==============================] - 12s 393ms/step - loss: 1.2550 - accuracy: 0.4584 - val_loss: 1.1451 - val_accuracy: 0.5295 - lr: 0.0010\n",
      "Epoch 7/30\n",
      "32/32 [==============================] - 10s 326ms/step - loss: 1.2230 - accuracy: 0.4647 - val_loss: 1.1126 - val_accuracy: 0.5483 - lr: 0.0010\n",
      "Epoch 8/30\n",
      "32/32 [==============================] - 12s 396ms/step - loss: 1.1926 - accuracy: 0.4843 - val_loss: 1.0883 - val_accuracy: 0.5779 - lr: 0.0010\n",
      "Epoch 9/30\n",
      "32/32 [==============================] - 12s 323ms/step - loss: 1.1709 - accuracy: 0.4914 - val_loss: 1.0707 - val_accuracy: 0.5800 - lr: 0.0010\n",
      "Epoch 10/30\n",
      "32/32 [==============================] - 10s 319ms/step - loss: 1.1455 - accuracy: 0.5034 - val_loss: 1.0513 - val_accuracy: 0.5891 - lr: 0.0010\n",
      "Epoch 11/30\n",
      "32/32 [==============================] - 12s 389ms/step - loss: 1.1240 - accuracy: 0.5125 - val_loss: 1.0276 - val_accuracy: 0.6040 - lr: 0.0010\n",
      "Epoch 12/30\n",
      "32/32 [==============================] - 13s 403ms/step - loss: 1.1135 - accuracy: 0.5193 - val_loss: 1.0115 - val_accuracy: 0.6037 - lr: 0.0010\n",
      "Epoch 13/30\n",
      "32/32 [==============================] - 12s 386ms/step - loss: 1.1041 - accuracy: 0.5214 - val_loss: 1.0030 - val_accuracy: 0.6068 - lr: 0.0010\n",
      "Epoch 14/30\n",
      "32/32 [==============================] - 12s 390ms/step - loss: 1.0872 - accuracy: 0.5281 - val_loss: 0.9888 - val_accuracy: 0.6096 - lr: 0.0010\n",
      "Epoch 15/30\n",
      "32/32 [==============================] - 12s 388ms/step - loss: 1.0843 - accuracy: 0.5285 - val_loss: 0.9847 - val_accuracy: 0.6037 - lr: 0.0010\n",
      "Epoch 16/30\n",
      "32/32 [==============================] - 12s 387ms/step - loss: 1.0756 - accuracy: 0.5291 - val_loss: 0.9761 - val_accuracy: 0.6033 - lr: 0.0010\n",
      "Epoch 17/30\n",
      "32/32 [==============================] - 11s 339ms/step - loss: 1.0603 - accuracy: 0.5352 - val_loss: 0.9632 - val_accuracy: 0.6117 - lr: 0.0010\n",
      "Epoch 18/30\n",
      "32/32 [==============================] - 10s 320ms/step - loss: 1.0562 - accuracy: 0.5399 - val_loss: 0.9643 - val_accuracy: 0.6100 - lr: 0.0010\n",
      "Epoch 19/30\n",
      "32/32 [==============================] - 12s 378ms/step - loss: 1.0480 - accuracy: 0.5442 - val_loss: 0.9572 - val_accuracy: 0.6096 - lr: 0.0010\n",
      "Epoch 20/30\n",
      "32/32 [==============================] - 12s 311ms/step - loss: 1.0413 - accuracy: 0.5403 - val_loss: 0.9501 - val_accuracy: 0.6107 - lr: 0.0010\n",
      "Epoch 21/30\n",
      "32/32 [==============================] - 10s 307ms/step - loss: 1.0392 - accuracy: 0.5470 - val_loss: 0.9447 - val_accuracy: 0.6159 - lr: 0.0010\n",
      "Epoch 22/30\n",
      "32/32 [==============================] - 12s 386ms/step - loss: 1.0361 - accuracy: 0.5400 - val_loss: 0.9432 - val_accuracy: 0.6138 - lr: 0.0010\n",
      "Epoch 23/30\n",
      "32/32 [==============================] - 12s 374ms/step - loss: 1.0246 - accuracy: 0.5467 - val_loss: 0.9273 - val_accuracy: 0.6236 - lr: 0.0010\n",
      "Epoch 24/30\n",
      "32/32 [==============================] - 12s 370ms/step - loss: 1.0265 - accuracy: 0.5454 - val_loss: 0.9300 - val_accuracy: 0.6211 - lr: 0.0010\n",
      "Epoch 25/30\n",
      "32/32 [==============================] - 12s 373ms/step - loss: 1.0238 - accuracy: 0.5411 - val_loss: 0.9346 - val_accuracy: 0.6166 - lr: 0.0010\n",
      "Epoch 26/30\n",
      "32/32 [==============================] - 10s 317ms/step - loss: 1.0160 - accuracy: 0.5453 - val_loss: 0.9393 - val_accuracy: 0.6159 - lr: 0.0010\n",
      "Epoch 27/30\n",
      "32/32 [==============================] - 12s 322ms/step - loss: 1.0142 - accuracy: 0.5472 - val_loss: 0.9274 - val_accuracy: 0.6215 - lr: 0.0010\n",
      "Epoch 28/30\n",
      "32/32 [==============================] - 10s 254ms/step - loss: 1.0119 - accuracy: 0.5535 - val_loss: 0.9205 - val_accuracy: 0.6257 - lr: 0.0010\n",
      "Epoch 29/30\n",
      "32/32 [==============================] - 12s 380ms/step - loss: 1.0107 - accuracy: 0.5493 - val_loss: 0.9285 - val_accuracy: 0.6176 - lr: 0.0010\n",
      "Epoch 30/30\n",
      "32/32 [==============================] - 12s 381ms/step - loss: 1.0054 - accuracy: 0.5520 - val_loss: 0.9234 - val_accuracy: 0.6222 - lr: 0.0010\n"
     ]
    }
   ],
   "source": [
    "# train model\n",
    "history = model.fit(matrix_data, y_encoded,validation_split=.15,epochs=n_epoch,batch_size=batch_size,verbose=1,callbacks=callbacks)#"
   ]
  },
  {
   "cell_type": "markdown",
   "metadata": {
    "id": "1Q4Uj0il_Kj9"
   },
   "source": [
    "# **Performance evaluation**"
   ]
  },
  {
   "cell_type": "code",
   "execution_count": 112,
   "metadata": {
    "colab": {
     "base_uri": "https://localhost:8080/"
    },
    "id": "HOQtg9YK-KyN",
    "outputId": "7002eaa5-aa9b-47b0-c21f-171d2befb867"
   },
   "outputs": [
    {
     "name": "stdout",
     "output_type": "stream",
     "text": [
      "16/16 [==============================] - 0s 22ms/step - loss: 1.2102 - accuracy: 0.7122\n",
      "Accuracy: 71.216100\n"
     ]
    }
   ],
   "source": [
    "loss, accuracy = model.evaluate(x_validate,y_validate,batch_size=512)\n",
    "print('Accuracy: %f' % (accuracy*100))"
   ]
  },
  {
   "cell_type": "markdown",
   "metadata": {},
   "source": [
    "# **show classification report and confusion matrix**"
   ]
  },
  {
   "cell_type": "code",
   "execution_count": null,
   "metadata": {},
   "outputs": [],
   "source": [
    "out = model.predict(x_validate)#predict on validation data\n",
    "model_y_pred = np.argmax(out,axis=1)"
   ]
  },
  {
   "cell_type": "code",
   "execution_count": null,
   "metadata": {},
   "outputs": [],
   "source": [
    "def show_report_con(y_pred):\n",
    "    print(classification_report(y_validate,y_pred))\n",
    "    label = ['course content', 'structure', 'instructor', 'price', 'speed']\n",
    "    cm = confusion_matrix(y_validate,y_pred,normalize='true')\n",
    "    ax= plt.subplot()\n",
    "    sns.heatmap(cm, annot=True, fmt='g', ax=ax)\n",
    "    ax.xaxis.set_ticklabels(label)\n",
    "    ax.yaxis.set_ticklabels(label)\n",
    "    # labels, title and ticks\n",
    "    ax.set_xlabel('Predicted labels')\n",
    "    ax.set_ylabel('True labels')\n",
    "    ax.set_title('Confusion Matrix') "
   ]
  },
  {
   "cell_type": "code",
   "execution_count": 113,
   "metadata": {
    "colab": {
     "base_uri": "https://localhost:8080/",
     "height": 521
    },
    "id": "D3ng4eOw-KvU",
    "outputId": "754ccdda-4745-4c7c-b5ea-07797cf54524"
   },
   "outputs": [
    {
     "name": "stdout",
     "output_type": "stream",
     "text": [
      "              precision    recall  f1-score   support\n",
      "\n",
      "           0       0.12      0.02      0.04       230\n",
      "           1       0.00      0.00      0.00       197\n",
      "           2       0.00      0.00      0.00       436\n",
      "           3       0.35      0.05      0.09      1481\n",
      "           4       0.73      0.99      0.84      5657\n",
      "\n",
      "    accuracy                           0.71      8001\n",
      "   macro avg       0.24      0.21      0.19      8001\n",
      "weighted avg       0.58      0.71      0.61      8001\n",
      "\n"
     ]
    },
    {
     "data": {
      "text/plain": [
       "Text(0.5, 1.0, 'Confusion Matrix')"
      ]
     },
     "execution_count": 113,
     "metadata": {},
     "output_type": "execute_result"
    },
    {
     "data": {
      "image/png": "[encoded data removed]",
      "text/plain": [
       "<Figure size 432x288 with 2 Axes>"
      ]
     },
     "metadata": {
      "needs_background": "light"
     },
     "output_type": "display_data"
    }
   ],
   "source": [
    "show_report_con(model_y_pred)"
   ]
  },
  {
   "cell_type": "markdown",
   "metadata": {},
   "source": [
    "# **Plot accuracy**"
   ]
  },
  {
   "cell_type": "code",
   "execution_count": null,
   "metadata": {},
   "outputs": [],
   "source": [
    "# summarize history for acc\n",
    "def plot_acc(history):\n",
    "    plt.plot(history.history['accuracy'])\n",
    "    plt.plot(history.history['val_accuracy'])\n",
    "    plt.title('accuracy')\n",
    "    plt.ylabel('accuracy')\n",
    "    plt.xlabel('epoch')\n",
    "    plt.legend(['train', 'test'], loc='upper left')\n",
    "    plt.show()"
   ]
  },
  {
   "cell_type": "code",
   "execution_count": 115,
   "metadata": {
    "colab": {
     "base_uri": "https://localhost:8080/",
     "height": 295
    },
    "id": "JHrpBRji-KsW",
    "outputId": "ce375ad4-9ce8-47ba-8fd1-8e9b31b03730"
   },
   "outputs": [
    {
     "data": {
      "image/png": "[encoded data removed]",
      "text/plain": [
       "<Figure size 432x288 with 1 Axes>"
      ]
     },
     "metadata": {
      "needs_background": "light"
     },
     "output_type": "display_data"
    }
   ],
   "source": [
    "plot_acc(history)"
   ]
  },
  {
   "cell_type": "markdown",
   "metadata": {},
   "source": [
    "# **Plot losses**"
   ]
  },
  {
   "cell_type": "code",
   "execution_count": null,
   "metadata": {},
   "outputs": [],
   "source": [
    "# summarize history for loss\n",
    "def plot_loss(history):\n",
    "    plt.plot(history.history['loss'])\n",
    "    plt.plot(history.history['val_loss'])\n",
    "    plt.title('loss')\n",
    "    plt.ylabel('loss')\n",
    "    plt.xlabel('epoch')\n",
    "    plt.legend(['train', 'test'], loc='upper left')\n",
    "    plt.show()"
   ]
  },
  {
   "cell_type": "code",
   "execution_count": 116,
   "metadata": {
    "colab": {
     "base_uri": "https://localhost:8080/",
     "height": 295
    },
    "id": "w6f4uqU9-YgM",
    "outputId": "97f4b784-26ae-4b4c-e697-abbd8dc41ac9"
   },
   "outputs": [
    {
     "data": {
      "image/png": "[encoded data removed]",
      "text/plain": [
       "<Figure size 432x288 with 1 Axes>"
      ]
     },
     "metadata": {
      "needs_background": "light"
     },
     "output_type": "display_data"
    }
   ],
   "source": [
    "plot_loss(history)"
   ]
  },
  {
   "cell_type": "code",
   "execution_count": null,
   "metadata": {},
   "outputs": [],
   "source": [
    "def print_acc_pre_rec_f1(y_pred):\n",
    "    # accuracy: (tp + tn) / (p + n)\n",
    "    model_accuracy = accuracy_score(y_validate, y_pred)\n",
    "    print(model_accuracy)\n",
    "    # precision tp / (tp + fp)\n",
    "    model_precision = precision_score(y_validate, y_pred,average='macro')\n",
    "    print(model_precision)\n",
    "    # recall: tp / (tp + fn)\n",
    "    model_recall = recall_score(y_validate, y_pred,average='macro')\n",
    "    print(model_recall)\n",
    "    # f1: 2 tp / (2 tp + fp + fn)\n",
    "    model_f1 = f1_score(y_validate, y_pred,average='macro')\n",
    "    print(model_f1)"
   ]
  },
  {
   "cell_type": "code",
   "execution_count": 117,
   "metadata": {
    "colab": {
     "base_uri": "https://localhost:8080/"
    },
    "id": "NCFG9J2P-o2M",
    "outputId": "e6c12220-588f-4a57-88a4-d6e0dea0f686"
   },
   "outputs": [
    {
     "name": "stdout",
     "output_type": "stream",
     "text": [
      "0.7121609798775154\n",
      "0.2384592210027975\n",
      "0.2128979161619707\n",
      "0.19235698878192345\n"
     ]
    }
   ],
   "source": [
    "print_acc_pre_rec_f1(model_y_pred)"
   ]
  },
  {
   "cell_type": "markdown",
   "metadata": {},
   "source": [
    "# **another models**"
   ]
  },
  {
   "cell_type": "markdown",
   "metadata": {},
   "source": [
    "# CNN"
   ]
  },
  {
   "cell_type": "code",
   "execution_count": 155,
   "metadata": {
    "colab": {
     "base_uri": "https://localhost:8080/"
    },
    "id": "yPULqzAU1cJF",
    "outputId": "7a5426b4-b343-4f06-a185-3b041fb8083f"
   },
   "outputs": [
    {
     "name": "stdout",
     "output_type": "stream",
     "text": [
      "Model: \"model_1\"\n",
      "__________________________________________________________________________________________________\n",
      " Layer (type)                   Output Shape         Param #     Connected to                     \n",
      "==================================================================================================\n",
      " input_2 (InputLayer)           [(None, 150, 1)]     0           []                               \n",
      "                                                                                                  \n",
      " conv1d_7 (Conv1D)              (None, 149, 64)      192         ['input_2[0][0]']                \n",
      "                                                                                                  \n",
      " conv1d_8 (Conv1D)              (None, 148, 64)      256         ['input_2[0][0]']                \n",
      "                                                                                                  \n",
      " conv1d_9 (Conv1D)              (None, 147, 64)      320         ['input_2[0][0]']                \n",
      "                                                                                                  \n",
      " max_pooling1d_7 (MaxPooling1D)  (None, 74, 64)      0           ['conv1d_7[0][0]']               \n",
      "                                                                                                  \n",
      " max_pooling1d_8 (MaxPooling1D)  (None, 49, 64)      0           ['conv1d_8[0][0]']               \n",
      "                                                                                                  \n",
      " max_pooling1d_9 (MaxPooling1D)  (None, 36, 64)      0           ['conv1d_9[0][0]']               \n",
      "                                                                                                  \n",
      " concatenate_1 (Concatenate)    (None, 159, 64)      0           ['max_pooling1d_7[0][0]',        \n",
      "                                                                  'max_pooling1d_8[0][0]',        \n",
      "                                                                  'max_pooling1d_9[0][0]']        \n",
      "                                                                                                  \n",
      " flatten_1 (Flatten)            (None, 10176)        0           ['concatenate_1[0][0]']          \n",
      "                                                                                                  \n",
      " dense_6 (Dense)                (None, 32)           325664      ['flatten_1[0][0]']              \n",
      "                                                                                                  \n",
      " dense_7 (Dense)                (None, 4)            132         ['dense_6[0][0]']                \n",
      "                                                                                                  \n",
      "==================================================================================================\n",
      "Total params: 326,564\n",
      "Trainable params: 326,564\n",
      "Non-trainable params: 0\n",
      "__________________________________________________________________________________________________\n"
     ]
    }
   ],
   "source": [
    "# define the network\n",
    "inputs = Input((input_length, 1))\n",
    "filters = [2, 3, 4]\n",
    "\n",
    "# define the conv net\n",
    "conv_1 = Conv1D(64, (filters[0]), activation='relu')(inputs)\n",
    "conv_2 = Conv1D(64, (filters[1]), activation='relu')(inputs)\n",
    "conv_3 = Conv1D(64, (filters[2]), activation='relu')(inputs)\n",
    "\n",
    "# define max-pooling\n",
    "pool_1 = MaxPooling1D(filters[0])(conv_1)\n",
    "pool_2 = MaxPooling1D(filters[1])(conv_2)\n",
    "pool_3 = MaxPooling1D(filters[2])(conv_3)\n",
    "\n",
    "# concatenate the convs\n",
    "merged_tensor = concatenate([pool_1, pool_2, pool_3], axis=1)\n",
    "\n",
    "# now flatten them and add a dense layer\n",
    "flatten = Flatten()(merged_tensor)\n",
    "\n",
    "# add a dense layer\n",
    "clf = Dense(32, activation='relu')(flatten)\n",
    "\n",
    "# add final output\n",
    "clf = Dense(class_len, activation='softmax')(clf)\n",
    "# compile the model\n",
    "cnn_model = Model(inputs, clf)\n",
    "cnn_model.compile(loss='sparse_categorical_crossentropy', optimizer='adam', metrics=['accuracy'])\n",
    "cnn_model.summary()"
   ]
  },
  {
   "cell_type": "code",
   "execution_count": 156,
   "metadata": {
    "colab": {
     "base_uri": "https://localhost:8080/",
     "height": 661
    },
    "id": "RcgAM2K_2As8",
    "outputId": "717022de-32a8-4006-8491-a23319a4700d"
   },
   "outputs": [
    {
     "name": "stdout",
     "output_type": "stream",
     "text": [
      "You must install pydot (`pip install pydot`) and install graphviz (see instructions at https://graphviz.gitlab.io/download/) for plot_model/model_to_dot to work.\n"
     ]
    }
   ],
   "source": [
    "plot_model(cnn_model)"
   ]
  },
  {
   "cell_type": "code",
   "execution_count": 157,
   "metadata": {
    "id": "w8Y8yv1e2bPr"
   },
   "outputs": [],
   "source": [
    "#early stop to prevent overfitting\n",
    "early_stopping = EarlyStopping(monitor='val_accuracy', mode='max', patience=5, restore_best_weights=True)\n",
    "#save best models in training\n",
    "chkpt = ModelCheckpoint(\"./cnn_model.h5\", monitor='val_accuracy',verbose=1, save_best_only=True, save_weights_only=True, mode='max')\n",
    "#reduce learing rate each 5 epoch\n",
    "ReduceLR = ReduceLROnPlateau(monitor='val_accuracy', factor=0.2,patience=10, min_lr=0.001)\n",
    "#combine all callbacks\n",
    "callbacks = [early_stopping, ReduceLR]"
   ]
  },
  {
   "cell_type": "code",
   "execution_count": 158,
   "metadata": {
    "colab": {
     "base_uri": "https://localhost:8080/"
    },
    "id": "8AhzbGhp3Oes",
    "outputId": "3b204ae3-2c52-44b0-af6a-f73cd0eaa215"
   },
   "outputs": [
    {
     "name": "stdout",
     "output_type": "stream",
     "text": [
      "Epoch 1/30\n",
      "9/9 [==============================] - 2s 137ms/step - loss: 270.3646 - accuracy: 0.3172 - val_loss: 117.2752 - val_accuracy: 0.2810 - lr: 0.0010\n",
      "Epoch 2/30\n",
      "9/9 [==============================] - 0s 54ms/step - loss: 91.5002 - accuracy: 0.2811 - val_loss: 61.0635 - val_accuracy: 0.3166 - lr: 0.0010\n",
      "Epoch 3/30\n",
      "9/9 [==============================] - 0s 55ms/step - loss: 57.1616 - accuracy: 0.3402 - val_loss: 32.4632 - val_accuracy: 0.3285 - lr: 0.0010\n",
      "Epoch 4/30\n",
      "9/9 [==============================] - 0s 51ms/step - loss: 31.1634 - accuracy: 0.3067 - val_loss: 28.2625 - val_accuracy: 0.2968 - lr: 0.0010\n",
      "Epoch 5/30\n",
      "9/9 [==============================] - 0s 51ms/step - loss: 24.5794 - accuracy: 0.3239 - val_loss: 27.0263 - val_accuracy: 0.2665 - lr: 0.0010\n",
      "Epoch 6/30\n",
      "9/9 [==============================] - 0s 55ms/step - loss: 20.6185 - accuracy: 0.3174 - val_loss: 16.4929 - val_accuracy: 0.2942 - lr: 0.0010\n",
      "Epoch 7/30\n",
      "9/9 [==============================] - 1s 59ms/step - loss: 18.5309 - accuracy: 0.3349 - val_loss: 15.6715 - val_accuracy: 0.3364 - lr: 0.0010\n",
      "Epoch 8/30\n",
      "9/9 [==============================] - 0s 52ms/step - loss: 16.9943 - accuracy: 0.3218 - val_loss: 13.8971 - val_accuracy: 0.2546 - lr: 0.0010\n",
      "Epoch 9/30\n",
      "9/9 [==============================] - 0s 52ms/step - loss: 13.0650 - accuracy: 0.3190 - val_loss: 12.2113 - val_accuracy: 0.3285 - lr: 0.0010\n",
      "Epoch 10/30\n",
      "9/9 [==============================] - 0s 52ms/step - loss: 10.8517 - accuracy: 0.3381 - val_loss: 13.7511 - val_accuracy: 0.2876 - lr: 0.0010\n",
      "Epoch 11/30\n",
      "9/9 [==============================] - 0s 53ms/step - loss: 13.1416 - accuracy: 0.3242 - val_loss: 12.4404 - val_accuracy: 0.3193 - lr: 0.0010\n",
      "Epoch 12/30\n",
      "9/9 [==============================] - 0s 54ms/step - loss: 10.7257 - accuracy: 0.3293 - val_loss: 16.5569 - val_accuracy: 0.2955 - lr: 0.0010\n"
     ]
    }
   ],
   "source": [
    "cnn_history = cnn_model.fit(matrix_data, df.Label,validation_split=.15,epochs=n_epoch,batch_size=batch_size,verbose=1,callbacks=callbacks)"
   ]
  },
  {
   "cell_type": "markdown",
   "metadata": {
    "id": "CD0DxHcd6spd"
   },
   "source": [
    "# **Performance evaluation**"
   ]
  },
  {
   "cell_type": "code",
   "execution_count": 127,
   "metadata": {
    "colab": {
     "base_uri": "https://localhost:8080/"
    },
    "id": "LvG3Y3rh5h6z",
    "outputId": "4e177d15-7551-4700-deac-58d68ca7c628"
   },
   "outputs": [
    {
     "name": "stdout",
     "output_type": "stream",
     "text": [
      "16/16 [==============================] - 0s 12ms/step - loss: 1.5728 - accuracy: 0.7070\n",
      "Accuracy: 70.703661\n"
     ]
    }
   ],
   "source": [
    "loss, accuracy = cnn_model.evaluate(x_validate,y_validate,batch_size=512)\n",
    "print('Accuracy: %f' % (accuracy*100))"
   ]
  },
  {
   "cell_type": "code",
   "execution_count": null,
   "metadata": {},
   "outputs": [],
   "source": [
    "out = cnn_model.predict(x_validate)\n",
    "cnn_model_y_pred = np.argmax(out,axis=1)"
   ]
  },
  {
   "cell_type": "code",
   "execution_count": 128,
   "metadata": {
    "colab": {
     "base_uri": "https://localhost:8080/",
     "height": 645
    },
    "id": "GrON27g56C21",
    "outputId": "18538996-8d8c-43c7-999e-044994bc586d"
   },
   "outputs": [
    {
     "name": "stdout",
     "output_type": "stream",
     "text": [
      "              precision    recall  f1-score   support\n",
      "\n",
      "           0       0.00      0.00      0.00       230\n",
      "           1       0.00      0.00      0.00       197\n",
      "           2       0.00      0.00      0.00       436\n",
      "           3       0.00      0.00      0.00      1481\n",
      "           4       0.71      1.00      0.83      5657\n",
      "\n",
      "    accuracy                           0.71      8001\n",
      "   macro avg       0.14      0.20      0.17      8001\n",
      "weighted avg       0.50      0.71      0.59      8001\n",
      "\n"
     ]
    },
    {
     "name": "stderr",
     "output_type": "stream",
     "text": [
      "/usr/local/lib/python3.7/dist-packages/sklearn/metrics/_classification.py:1318: UndefinedMetricWarning: Precision and F-score are ill-defined and being set to 0.0 in labels with no predicted samples. Use `zero_division` parameter to control this behavior.\n",
      "  _warn_prf(average, modifier, msg_start, len(result))\n",
      "/usr/local/lib/python3.7/dist-packages/sklearn/metrics/_classification.py:1318: UndefinedMetricWarning: Precision and F-score are ill-defined and being set to 0.0 in labels with no predicted samples. Use `zero_division` parameter to control this behavior.\n",
      "  _warn_prf(average, modifier, msg_start, len(result))\n",
      "/usr/local/lib/python3.7/dist-packages/sklearn/metrics/_classification.py:1318: UndefinedMetricWarning: Precision and F-score are ill-defined and being set to 0.0 in labels with no predicted samples. Use `zero_division` parameter to control this behavior.\n",
      "  _warn_prf(average, modifier, msg_start, len(result))\n"
     ]
    },
    {
     "data": {
      "text/plain": [
       "Text(0.5, 1.0, 'Confusion Matrix')"
      ]
     },
     "execution_count": 128,
     "metadata": {},
     "output_type": "execute_result"
    },
    {
     "data": {
      "image/png": "[encoded data removed]",
      "text/plain": [
       "<Figure size 432x288 with 2 Axes>"
      ]
     },
     "metadata": {
      "needs_background": "light"
     },
     "output_type": "display_data"
    }
   ],
   "source": [
    "\n",
    "show_report_con(cnn_model_y_pred)"
   ]
  },
  {
   "cell_type": "code",
   "execution_count": 129,
   "metadata": {
    "colab": {
     "base_uri": "https://localhost:8080/",
     "height": 295
    },
    "id": "SZuJCjNp6OIm",
    "outputId": "9b965fcc-0666-421f-b4e2-0650cb91287f"
   },
   "outputs": [
    {
     "data": {
      "image/png": "[encoded data removed]",
      "text/plain": [
       "<Figure size 432x288 with 1 Axes>"
      ]
     },
     "metadata": {
      "needs_background": "light"
     },
     "output_type": "display_data"
    }
   ],
   "source": [
    "plot_acc(cnn_history)"
   ]
  },
  {
   "cell_type": "code",
   "execution_count": null,
   "metadata": {
    "colab": {
     "base_uri": "https://localhost:8080/",
     "height": 295
    },
    "id": "LKwJpWtX6ZRE",
    "outputId": "3af6ef63-1f26-4b62-a538-e79ee9fbc2f0"
   },
   "outputs": [
    {
     "data": {
      "image/png": "[encoded data removed]",
      "text/plain": [
       "<Figure size 432x288 with 1 Axes>"
      ]
     },
     "metadata": {
      "needs_background": "light"
     },
     "output_type": "display_data"
    }
   ],
   "source": [
    "plot_loss(cnn_history)"
   ]
  },
  {
   "cell_type": "code",
   "execution_count": 131,
   "metadata": {
    "colab": {
     "base_uri": "https://localhost:8080/"
    },
    "id": "54GeWKke5h1T",
    "outputId": "bb1a8bb0-f0a8-46d2-edd1-babd243046b3"
   },
   "outputs": [
    {
     "name": "stdout",
     "output_type": "stream",
     "text": [
      "0.7070366204224472\n",
      "0.14140732408448944\n",
      "0.2\n",
      "0.1656757944062088\n"
     ]
    },
    {
     "name": "stderr",
     "output_type": "stream",
     "text": [
      "/usr/local/lib/python3.7/dist-packages/sklearn/metrics/_classification.py:1318: UndefinedMetricWarning: Precision is ill-defined and being set to 0.0 in labels with no predicted samples. Use `zero_division` parameter to control this behavior.\n",
      "  _warn_prf(average, modifier, msg_start, len(result))\n"
     ]
    }
   ],
   "source": [
    "print_acc_pre_rec_f1(cnn_model_y_pred)"
   ]
  },
  {
   "cell_type": "markdown",
   "metadata": {},
   "source": [
    "# CNN 3 (Another Structure)"
   ]
  },
  {
   "cell_type": "code",
   "execution_count": 159,
   "metadata": {
    "colab": {
     "base_uri": "https://localhost:8080/"
    },
    "id": "JQTRNw-U3OT0",
    "outputId": "727e0b66-42ab-40e8-a7b3-7e6944660c5d"
   },
   "outputs": [
    {
     "name": "stdout",
     "output_type": "stream",
     "text": [
      "Model: \"model_2\"\n",
      "__________________________________________________________________________________________________\n",
      " Layer (type)                   Output Shape         Param #     Connected to                     \n",
      "==================================================================================================\n",
      " input_3 (InputLayer)           [(None, 150, 1)]     0           []                               \n",
      "                                                                                                  \n",
      " conv1d_10 (Conv1D)             (None, 144, 64)      512         ['input_3[0][0]']                \n",
      "                                                                                                  \n",
      " conv1d_11 (Conv1D)             (None, 146, 64)      384         ['input_3[0][0]']                \n",
      "                                                                                                  \n",
      " max_pooling1d_10 (MaxPooling1D  (None, 20, 64)      0           ['conv1d_10[0][0]']              \n",
      " )                                                                                                \n",
      "                                                                                                  \n",
      " max_pooling1d_11 (MaxPooling1D  (None, 29, 64)      0           ['conv1d_11[0][0]']              \n",
      " )                                                                                                \n",
      "                                                                                                  \n",
      " concatenate_2 (Concatenate)    (None, 49, 64)       0           ['max_pooling1d_10[0][0]',       \n",
      "                                                                  'max_pooling1d_11[0][0]']       \n",
      "                                                                                                  \n",
      " conv1d_12 (Conv1D)             (None, 47, 128)      24704       ['concatenate_2[0][0]']          \n",
      "                                                                                                  \n",
      " conv1d_13 (Conv1D)             (None, 48, 128)      16512       ['concatenate_2[0][0]']          \n",
      "                                                                                                  \n",
      " max_pooling1d_12 (MaxPooling1D  (None, 15, 128)     0           ['conv1d_12[0][0]']              \n",
      " )                                                                                                \n",
      "                                                                                                  \n",
      " max_pooling1d_13 (MaxPooling1D  (None, 24, 128)     0           ['conv1d_13[0][0]']              \n",
      " )                                                                                                \n",
      "                                                                                                  \n",
      " concatenate_3 (Concatenate)    (None, 39, 128)      0           ['max_pooling1d_12[0][0]',       \n",
      "                                                                  'max_pooling1d_13[0][0]']       \n",
      "                                                                                                  \n",
      " flatten_2 (Flatten)            (None, 4992)         0           ['concatenate_3[0][0]']          \n",
      "                                                                                                  \n",
      " dense_8 (Dense)                (None, 128)          639104      ['flatten_2[0][0]']              \n",
      "                                                                                                  \n",
      " dense_9 (Dense)                (None, 4)            516         ['dense_8[0][0]']                \n",
      "                                                                                                  \n",
      "==================================================================================================\n",
      "Total params: 681,732\n",
      "Trainable params: 681,732\n",
      "Non-trainable params: 0\n",
      "__________________________________________________________________________________________________\n"
     ]
    }
   ],
   "source": [
    "import tensorflow as tf\n",
    "\n",
    "# define the network\n",
    "inputs = tf.keras.layers.Input((input_length, 1))\n",
    "\n",
    "filters_1 = [7, 5]\n",
    "filters_2 = [3, 2]\n",
    "\n",
    "# define the first convnets\n",
    "convs_1 = []\n",
    "for filter_size in filters_1:\n",
    "    conv = tf.keras.layers.Conv1D(64, (filter_size), activation='relu')(inputs)\n",
    "    pool = tf.keras.layers.MaxPooling1D(filter_size)(conv)\n",
    "    convs_1.append(pool)\n",
    "    \n",
    "# concatenate the convs\n",
    "character_level_features = tf.keras.layers.concatenate(convs_1, axis=1)\n",
    "\n",
    "# define the second convnets\n",
    "convs_2 = []\n",
    "for filter_size in filters_2:\n",
    "    conv = tf.keras.layers.Conv1D(128, (filter_size), activation='relu')(character_level_features)\n",
    "    pool = tf.keras.layers.MaxPooling1D(filter_size)(conv)\n",
    "    convs_2.append(pool)\n",
    "\n",
    "# merge again \n",
    "word_level_features = tf.keras.layers.concatenate(convs_2, axis=1)\n",
    "\n",
    "# now flatten them and add a dense layer\n",
    "flatten = tf.keras.layers.Flatten()(word_level_features)\n",
    "\n",
    "# add a dense layer\n",
    "clf = tf.keras.layers.Dense(128, activation='relu')(flatten)\n",
    "\n",
    "# add final output\n",
    "clf = tf.keras.layers.Dense(class_len, activation='softmax')(clf)#n_classes\n",
    "# compile the model\n",
    "cnn1_model = tf.keras.models.Model(inputs, clf)\n",
    "cnn1_model.compile(loss='sparse_categorical_crossentropy', optimizer='adam', metrics=['accuracy'])\n",
    "cnn1_model.summary()"
   ]
  },
  {
   "cell_type": "code",
   "execution_count": 160,
   "metadata": {
    "colab": {
     "base_uri": "https://localhost:8080/",
     "height": 953
    },
    "id": "n8AJgpjq4aYc",
    "outputId": "dc7fb20d-f00f-475e-aa42-4a2e98dd2fd7"
   },
   "outputs": [
    {
     "name": "stdout",
     "output_type": "stream",
     "text": [
      "You must install pydot (`pip install pydot`) and install graphviz (see instructions at https://graphviz.gitlab.io/download/) for plot_model/model_to_dot to work.\n"
     ]
    }
   ],
   "source": [
    "plot_model(cnn1_model)"
   ]
  },
  {
   "cell_type": "code",
   "execution_count": 161,
   "metadata": {
    "id": "leXfUSOS45nZ"
   },
   "outputs": [],
   "source": [
    "#early stop to prevent overfitting\n",
    "early_stopping = EarlyStopping(monitor='val_accuracy', mode='max', patience=5, restore_best_weights=True)\n",
    "#save best models in training\n",
    "chkpt = ModelCheckpoint(\"/content/cnn1_model.h5\", monitor='val_accuracy',verbose=1, save_best_only=True, save_weights_only=True, mode='max')\n",
    "#reduce learing rate each 5 epoch\n",
    "ReduceLR = ReduceLROnPlateau(monitor='val_accuracy', factor=0.2,patience=10, min_lr=0.001)\n",
    "#combine all callbacks\n",
    "callbacks = [early_stopping, ReduceLR]"
   ]
  },
  {
   "cell_type": "code",
   "execution_count": 162,
   "metadata": {
    "colab": {
     "base_uri": "https://localhost:8080/"
    },
    "id": "DwPKbjnU482J",
    "outputId": "f5538964-c9a9-4db3-f1bb-3e9457769fb3"
   },
   "outputs": [
    {
     "name": "stdout",
     "output_type": "stream",
     "text": [
      "Epoch 1/30\n",
      "9/9 [==============================] - 5s 255ms/step - loss: 396.7303 - accuracy: 0.3041 - val_loss: 300.2878 - val_accuracy: 0.3813 - lr: 0.0010\n",
      "Epoch 2/30\n",
      "9/9 [==============================] - 1s 72ms/step - loss: 202.5614 - accuracy: 0.3477 - val_loss: 94.7932 - val_accuracy: 0.2493 - lr: 0.0010\n",
      "Epoch 3/30\n",
      "9/9 [==============================] - 1s 73ms/step - loss: 56.7378 - accuracy: 0.3114 - val_loss: 40.1809 - val_accuracy: 0.2573 - lr: 0.0010\n",
      "Epoch 4/30\n",
      "9/9 [==============================] - 1s 72ms/step - loss: 30.6521 - accuracy: 0.2937 - val_loss: 18.1033 - val_accuracy: 0.3456 - lr: 0.0010\n",
      "Epoch 5/30\n",
      "9/9 [==============================] - 1s 73ms/step - loss: 18.6117 - accuracy: 0.3531 - val_loss: 16.3603 - val_accuracy: 0.3008 - lr: 0.0010\n",
      "Epoch 6/30\n",
      "9/9 [==============================] - 1s 78ms/step - loss: 12.6573 - accuracy: 0.3279 - val_loss: 10.9059 - val_accuracy: 0.3140 - lr: 0.0010\n"
     ]
    }
   ],
   "source": [
    "cnn1_history = cnn1_model.fit(matrix_data, df.Label,validation_split=.15,epochs=n_epoch,batch_size=batch_size,verbose=1,callbacks=callbacks)"
   ]
  },
  {
   "cell_type": "markdown",
   "metadata": {
    "id": "5k_Vcfvo_SSz"
   },
   "source": [
    "# **Performance evaluation**"
   ]
  },
  {
   "cell_type": "code",
   "execution_count": 136,
   "metadata": {
    "colab": {
     "base_uri": "https://localhost:8080/"
    },
    "id": "__WROM6365Sb",
    "outputId": "b906e559-2b6f-4b4e-9051-fe36a748b8b8"
   },
   "outputs": [
    {
     "name": "stdout",
     "output_type": "stream",
     "text": [
      "16/16 [==============================] - 0s 25ms/step - loss: 1.4538 - accuracy: 0.7070\n",
      "Accuracy: 70.703661\n"
     ]
    }
   ],
   "source": [
    "loss, accuracy = cnn1_model.evaluate(x_validate,y_validate,batch_size=512)\n",
    "print('Accuracy: %f' % (accuracy*100))"
   ]
  },
  {
   "cell_type": "code",
   "execution_count": null,
   "metadata": {},
   "outputs": [],
   "source": [
    "out = cnn1_model.predict(x_validate)\n",
    "cnn1_model_y_pred = np.argmax(out,axis=1)"
   ]
  },
  {
   "cell_type": "code",
   "execution_count": 137,
   "metadata": {
    "colab": {
     "base_uri": "https://localhost:8080/",
     "height": 645
    },
    "id": "UGlC_dcq65P_",
    "outputId": "83376963-1559-4f29-e15c-1e1dc05840de"
   },
   "outputs": [
    {
     "name": "stdout",
     "output_type": "stream",
     "text": [
      "              precision    recall  f1-score   support\n",
      "\n",
      "           0       0.00      0.00      0.00       230\n",
      "           1       0.00      0.00      0.00       197\n",
      "           2       0.00      0.00      0.00       436\n",
      "           3       0.00      0.00      0.00      1481\n",
      "           4       0.71      1.00      0.83      5657\n",
      "\n",
      "    accuracy                           0.71      8001\n",
      "   macro avg       0.14      0.20      0.17      8001\n",
      "weighted avg       0.50      0.71      0.59      8001\n",
      "\n"
     ]
    },
    {
     "name": "stderr",
     "output_type": "stream",
     "text": [
      "/usr/local/lib/python3.7/dist-packages/sklearn/metrics/_classification.py:1318: UndefinedMetricWarning: Precision and F-score are ill-defined and being set to 0.0 in labels with no predicted samples. Use `zero_division` parameter to control this behavior.\n",
      "  _warn_prf(average, modifier, msg_start, len(result))\n",
      "/usr/local/lib/python3.7/dist-packages/sklearn/metrics/_classification.py:1318: UndefinedMetricWarning: Precision and F-score are ill-defined and being set to 0.0 in labels with no predicted samples. Use `zero_division` parameter to control this behavior.\n",
      "  _warn_prf(average, modifier, msg_start, len(result))\n",
      "/usr/local/lib/python3.7/dist-packages/sklearn/metrics/_classification.py:1318: UndefinedMetricWarning: Precision and F-score are ill-defined and being set to 0.0 in labels with no predicted samples. Use `zero_division` parameter to control this behavior.\n",
      "  _warn_prf(average, modifier, msg_start, len(result))\n"
     ]
    },
    {
     "data": {
      "text/plain": [
       "Text(0.5, 1.0, 'Confusion Matrix')"
      ]
     },
     "execution_count": 137,
     "metadata": {},
     "output_type": "execute_result"
    },
    {
     "data": {
      "image/png": "[encoded data removed]",
      "text/plain": [
       "<Figure size 432x288 with 2 Axes>"
      ]
     },
     "metadata": {
      "needs_background": "light"
     },
     "output_type": "display_data"
    }
   ],
   "source": [
    "show_report_con(cnn1_model_y_pred)"
   ]
  },
  {
   "cell_type": "code",
   "execution_count": 138,
   "metadata": {
    "colab": {
     "base_uri": "https://localhost:8080/",
     "height": 295
    },
    "id": "T0mr5Zz265NH",
    "outputId": "aabd98f7-f054-4a0c-d722-66cae3fdc532"
   },
   "outputs": [
    {
     "data": {
      "image/png": "[encoded data removed]",
      "text/plain": [
       "<Figure size 432x288 with 1 Axes>"
      ]
     },
     "metadata": {
      "needs_background": "light"
     },
     "output_type": "display_data"
    }
   ],
   "source": [
    "plot_acc(cnn1_history)"
   ]
  },
  {
   "cell_type": "code",
   "execution_count": 139,
   "metadata": {
    "colab": {
     "base_uri": "https://localhost:8080/",
     "height": 295
    },
    "id": "domSIiKR65J-",
    "outputId": "7a17bda5-a1b3-40f2-fbfc-34fafc87e509"
   },
   "outputs": [
    {
     "data": {
      "image/png": "[encoded data removed]",
      "text/plain": [
       "<Figure size 432x288 with 1 Axes>"
      ]
     },
     "metadata": {
      "needs_background": "light"
     },
     "output_type": "display_data"
    }
   ],
   "source": [
    "plot_loss(cnn1_history)"
   ]
  },
  {
   "cell_type": "code",
   "execution_count": 140,
   "metadata": {
    "colab": {
     "base_uri": "https://localhost:8080/"
    },
    "id": "4ibPJNT47Aks",
    "outputId": "fd26e4d9-2619-447f-b47d-cb608976e228"
   },
   "outputs": [
    {
     "name": "stdout",
     "output_type": "stream",
     "text": [
      "0.7070366204224472\n",
      "0.141425\n",
      "0.2\n",
      "0.1656879256059164\n"
     ]
    },
    {
     "name": "stderr",
     "output_type": "stream",
     "text": [
      "/usr/local/lib/python3.7/dist-packages/sklearn/metrics/_classification.py:1318: UndefinedMetricWarning: Precision is ill-defined and being set to 0.0 in labels with no predicted samples. Use `zero_division` parameter to control this behavior.\n",
      "  _warn_prf(average, modifier, msg_start, len(result))\n"
     ]
    }
   ],
   "source": [
    "print_acc_pre_rec_f1(cnn1_model_y_pred)"
   ]
  },
  {
   "cell_type": "markdown",
   "metadata": {},
   "source": [
    "# GRU"
   ]
  },
  {
   "cell_type": "code",
   "execution_count": 175,
   "metadata": {
    "colab": {
     "base_uri": "https://localhost:8080/"
    },
    "id": "LCvc450SNsao",
    "outputId": "43bf6ab3-4d79-4260-d484-cd74ce04f8e8"
   },
   "outputs": [
    {
     "name": "stdout",
     "output_type": "stream",
     "text": [
      "Model: \"sequential_8\"\n",
      "_________________________________________________________________\n",
      " Layer (type)                Output Shape              Param #   \n",
      "=================================================================\n",
      " embedding_8 (Embedding)     (None, 150, 256)          2386944   \n",
      "                                                                 \n",
      " dropout_14 (Dropout)        (None, 150, 256)          0         \n",
      "                                                                 \n",
      " gru_4 (GRU)                 (None, 8)                 6384      \n",
      "                                                                 \n",
      " batch_normalization_6 (Batc  (None, 8)                32        \n",
      " hNormalization)                                                 \n",
      "                                                                 \n",
      " dropout_15 (Dropout)        (None, 8)                 0         \n",
      "                                                                 \n",
      " dense_14 (Dense)            (None, 4)                 36        \n",
      "                                                                 \n",
      "=================================================================\n",
      "Total params: 2,393,396\n",
      "Trainable params: 2,393,380\n",
      "Non-trainable params: 16\n",
      "_________________________________________________________________\n"
     ]
    }
   ],
   "source": [
    "lstm_model =  Sequential()\n",
    "#shape of embedding layer == np.zeros((n_symbols,input_length,vocab_dim)).shape (20, 350, 256)\n",
    "lstm_model.add(Embedding(input_dim=n_symbols,input_length=input_length,\n",
    "                         mask_zero=True,weights=[embedding_weights],output_dim=vocab_dim))\n",
    "lstm_model.add(Dropout(0.5))\n",
    "lstm_model.add(GRU(8))\n",
    "lstm_model.add(BatchNormalization())\n",
    "lstm_model.add(Dropout(0.5))\n",
    "lstm_model.add(Dense(class_len,activation='softmax'))\n",
    "lstm_model.compile(optimizer='adam',loss='sparse_categorical_crossentropy',metrics=['accuracy'])\n",
    "lstm_model.summary()"
   ]
  },
  {
   "cell_type": "code",
   "execution_count": 176,
   "metadata": {
    "id": "5AaoJjm7ze-k"
   },
   "outputs": [],
   "source": [
    "#early stop to prevent overfitting\n",
    "early_stopping = EarlyStopping(monitor='val_accuracy', mode='max', patience=8, restore_best_weights=True)\n",
    "#save best models in training\n",
    "chkpt = ModelCheckpoint(\"./Dense.h5\", monitor='val_accuracy',verbose=1, save_best_only=True, save_weights_only=True, mode='max')\n",
    "#reduce learing rate each 5 epoch\n",
    "ReduceLR = ReduceLROnPlateau(monitor='val_accuracy', factor=0.2,patience=10, min_lr=0.01)\n",
    "#combine all callbacks\n",
    "callbacks = [early_stopping, ReduceLR]"
   ]
  },
  {
   "cell_type": "code",
   "execution_count": 177,
   "metadata": {
    "colab": {
     "base_uri": "https://localhost:8080/"
    },
    "id": "VFty_1H3PUI0",
    "outputId": "523ee190-ad19-4d07-c66d-40cfb43ad9d4"
   },
   "outputs": [
    {
     "name": "stdout",
     "output_type": "stream",
     "text": [
      "Epoch 1/30\n",
      "9/9 [==============================] - 9s 343ms/step - loss: 1.9301 - accuracy: 0.2646 - val_loss: 1.3648 - val_accuracy: 0.3127 - lr: 0.0010\n",
      "Epoch 2/30\n",
      "9/9 [==============================] - 1s 83ms/step - loss: 1.6480 - accuracy: 0.3547 - val_loss: 1.2823 - val_accuracy: 0.4578 - lr: 0.0010\n",
      "Epoch 3/30\n",
      "9/9 [==============================] - 1s 78ms/step - loss: 1.4743 - accuracy: 0.4073 - val_loss: 1.2283 - val_accuracy: 0.5396 - lr: 0.0010\n",
      "Epoch 4/30\n",
      "9/9 [==============================] - 1s 75ms/step - loss: 1.3928 - accuracy: 0.4523 - val_loss: 1.1907 - val_accuracy: 0.5686 - lr: 0.0010\n",
      "Epoch 5/30\n",
      "9/9 [==============================] - 1s 75ms/step - loss: 1.3291 - accuracy: 0.4860 - val_loss: 1.1628 - val_accuracy: 0.5844 - lr: 0.0010\n",
      "Epoch 6/30\n",
      "9/9 [==============================] - 1s 77ms/step - loss: 1.2569 - accuracy: 0.5037 - val_loss: 1.1386 - val_accuracy: 0.6042 - lr: 0.0010\n",
      "Epoch 7/30\n",
      "9/9 [==============================] - 1s 77ms/step - loss: 1.2023 - accuracy: 0.5347 - val_loss: 1.1186 - val_accuracy: 0.6174 - lr: 0.0010\n",
      "Epoch 8/30\n",
      "9/9 [==============================] - 1s 76ms/step - loss: 1.1395 - accuracy: 0.5582 - val_loss: 1.1020 - val_accuracy: 0.6161 - lr: 0.0010\n",
      "Epoch 9/30\n",
      "9/9 [==============================] - 1s 75ms/step - loss: 1.1044 - accuracy: 0.5657 - val_loss: 1.0873 - val_accuracy: 0.6201 - lr: 0.0010\n",
      "Epoch 10/30\n",
      "9/9 [==============================] - 1s 74ms/step - loss: 1.0576 - accuracy: 0.5971 - val_loss: 1.0734 - val_accuracy: 0.6293 - lr: 0.0010\n",
      "Epoch 11/30\n",
      "9/9 [==============================] - 1s 75ms/step - loss: 1.0211 - accuracy: 0.6132 - val_loss: 1.0593 - val_accuracy: 0.6319 - lr: 0.0010\n",
      "Epoch 12/30\n",
      "9/9 [==============================] - 1s 75ms/step - loss: 0.9631 - accuracy: 0.6374 - val_loss: 1.0458 - val_accuracy: 0.6293 - lr: 0.0010\n",
      "Epoch 13/30\n",
      "9/9 [==============================] - 1s 77ms/step - loss: 0.9271 - accuracy: 0.6581 - val_loss: 1.0358 - val_accuracy: 0.6346 - lr: 0.0010\n",
      "Epoch 14/30\n",
      "9/9 [==============================] - 1s 78ms/step - loss: 0.8830 - accuracy: 0.6777 - val_loss: 1.0273 - val_accuracy: 0.6412 - lr: 0.0010\n",
      "Epoch 15/30\n",
      "9/9 [==============================] - 1s 77ms/step - loss: 0.8467 - accuracy: 0.6837 - val_loss: 1.0199 - val_accuracy: 0.6451 - lr: 0.0010\n",
      "Epoch 16/30\n",
      "9/9 [==============================] - 1s 77ms/step - loss: 0.7994 - accuracy: 0.7075 - val_loss: 1.0135 - val_accuracy: 0.6491 - lr: 0.0010\n",
      "Epoch 17/30\n",
      "9/9 [==============================] - 1s 77ms/step - loss: 0.7384 - accuracy: 0.7303 - val_loss: 1.0087 - val_accuracy: 0.6557 - lr: 0.0010\n",
      "Epoch 18/30\n",
      "9/9 [==============================] - 1s 71ms/step - loss: 0.7020 - accuracy: 0.7508 - val_loss: 1.0044 - val_accuracy: 0.6517 - lr: 0.0010\n",
      "Epoch 19/30\n",
      "9/9 [==============================] - 1s 78ms/step - loss: 0.6558 - accuracy: 0.7660 - val_loss: 1.0034 - val_accuracy: 0.6530 - lr: 0.0010\n",
      "Epoch 20/30\n",
      "9/9 [==============================] - 1s 86ms/step - loss: 0.6124 - accuracy: 0.7909 - val_loss: 1.0019 - val_accuracy: 0.6596 - lr: 0.0010\n",
      "Epoch 21/30\n",
      "9/9 [==============================] - 1s 75ms/step - loss: 0.5880 - accuracy: 0.7948 - val_loss: 1.0015 - val_accuracy: 0.6662 - lr: 0.0010\n",
      "Epoch 22/30\n",
      "9/9 [==============================] - 1s 73ms/step - loss: 0.5509 - accuracy: 0.8186 - val_loss: 1.0011 - val_accuracy: 0.6649 - lr: 0.0010\n",
      "Epoch 23/30\n",
      "9/9 [==============================] - 1s 78ms/step - loss: 0.5305 - accuracy: 0.8195 - val_loss: 0.9995 - val_accuracy: 0.6649 - lr: 0.0010\n",
      "Epoch 24/30\n",
      "9/9 [==============================] - 1s 75ms/step - loss: 0.4981 - accuracy: 0.8358 - val_loss: 0.9954 - val_accuracy: 0.6623 - lr: 0.0010\n",
      "Epoch 25/30\n",
      "9/9 [==============================] - 1s 77ms/step - loss: 0.4856 - accuracy: 0.8391 - val_loss: 0.9908 - val_accuracy: 0.6741 - lr: 0.0010\n",
      "Epoch 26/30\n",
      "9/9 [==============================] - 1s 79ms/step - loss: 0.4664 - accuracy: 0.8423 - val_loss: 0.9880 - val_accuracy: 0.6715 - lr: 0.0010\n",
      "Epoch 27/30\n",
      "9/9 [==============================] - 1s 77ms/step - loss: 0.4553 - accuracy: 0.8505 - val_loss: 0.9834 - val_accuracy: 0.6715 - lr: 0.0010\n",
      "Epoch 28/30\n",
      "9/9 [==============================] - 1s 74ms/step - loss: 0.4300 - accuracy: 0.8561 - val_loss: 0.9788 - val_accuracy: 0.6741 - lr: 0.0010\n",
      "Epoch 29/30\n",
      "9/9 [==============================] - 1s 74ms/step - loss: 0.4225 - accuracy: 0.8668 - val_loss: 0.9734 - val_accuracy: 0.6728 - lr: 0.0010\n",
      "Epoch 30/30\n",
      "9/9 [==============================] - 1s 79ms/step - loss: 0.4037 - accuracy: 0.8675 - val_loss: 0.9673 - val_accuracy: 0.6755 - lr: 0.0010\n"
     ]
    }
   ],
   "source": [
    "lstm_history = lstm_model.fit(matrix_data, df.Label,validation_split=.15,epochs=n_epoch,batch_size=batch_size,verbose=1,callbacks=callbacks)"
   ]
  },
  {
   "cell_type": "markdown",
   "metadata": {
    "id": "2S9A5Rj2_W_j"
   },
   "source": [
    "# **Performance evaluation**"
   ]
  },
  {
   "cell_type": "code",
   "execution_count": 144,
   "metadata": {
    "colab": {
     "base_uri": "https://localhost:8080/"
    },
    "id": "kw2w08O0Kz5K",
    "outputId": "5c09e8fb-e3f4-4d79-f5b7-3d56f5779991"
   },
   "outputs": [
    {
     "name": "stdout",
     "output_type": "stream",
     "text": [
      "16/16 [==============================] - 0s 25ms/step - loss: 0.6679 - accuracy: 0.7518\n"
     ]
    },
    {
     "data": {
      "text/plain": [
       "[0.6679186820983887, 0.7517810463905334]"
      ]
     },
     "execution_count": 144,
     "metadata": {},
     "output_type": "execute_result"
    }
   ],
   "source": [
    "lstm_model.evaluate(x_validate,y_validate,batch_size=512)"
   ]
  },
  {
   "cell_type": "code",
   "execution_count": null,
   "metadata": {},
   "outputs": [],
   "source": [
    "out = lstm_model.predict(x_validate)\n",
    "lstm_model_y_pred = np.argmax(out,axis=1)"
   ]
  },
  {
   "cell_type": "code",
   "execution_count": 145,
   "metadata": {
    "colab": {
     "base_uri": "https://localhost:8080/",
     "height": 521
    },
    "id": "xMmwH4jTQC7n",
    "outputId": "25af7028-d44d-4df9-8690-b1ac4cf20869"
   },
   "outputs": [
    {
     "name": "stdout",
     "output_type": "stream",
     "text": [
      "              precision    recall  f1-score   support\n",
      "\n",
      "           0       0.50      0.40      0.44       230\n",
      "           1       0.21      0.02      0.04       197\n",
      "           2       0.30      0.23      0.26       436\n",
      "           3       0.51      0.22      0.31      1481\n",
      "           4       0.81      0.97      0.88      5657\n",
      "\n",
      "    accuracy                           0.75      8001\n",
      "   macro avg       0.46      0.37      0.38      8001\n",
      "weighted avg       0.70      0.75      0.71      8001\n",
      "\n"
     ]
    },
    {
     "data": {
      "text/plain": [
       "Text(0.5, 1.0, 'Confusion Matrix')"
      ]
     },
     "execution_count": 145,
     "metadata": {},
     "output_type": "execute_result"
    },
    {
     "data": {
      "image/png": "[encoded data removed]",
      "text/plain": [
       "<Figure size 432x288 with 2 Axes>"
      ]
     },
     "metadata": {
      "needs_background": "light"
     },
     "output_type": "display_data"
    }
   ],
   "source": [
    "show_report_con(lstm_model_y_pred)"
   ]
  },
  {
   "cell_type": "code",
   "execution_count": 149,
   "metadata": {
    "colab": {
     "base_uri": "https://localhost:8080/",
     "height": 295
    },
    "id": "i9UX2PkH8rd9",
    "outputId": "3757627b-82bb-43bf-c479-ca9e6ccb4cde"
   },
   "outputs": [
    {
     "data": {
      "image/png": "[encoded data removed]",
      "text/plain": [
       "<Figure size 432x288 with 1 Axes>"
      ]
     },
     "metadata": {
      "needs_background": "light"
     },
     "output_type": "display_data"
    }
   ],
   "source": [
    "plot_acc(lstm_history)"
   ]
  },
  {
   "cell_type": "code",
   "execution_count": 150,
   "metadata": {
    "colab": {
     "base_uri": "https://localhost:8080/",
     "height": 295
    },
    "id": "qSEppf8-8rd-",
    "outputId": "1f35c611-f9a3-4094-d74d-306902cf92f9"
   },
   "outputs": [
    {
     "data": {
      "image/png": "[encoded data removed]",
      "text/plain": [
       "<Figure size 432x288 with 1 Axes>"
      ]
     },
     "metadata": {
      "needs_background": "light"
     },
     "output_type": "display_data"
    }
   ],
   "source": [
    "plot_loss(lstm_history)"
   ]
  },
  {
   "cell_type": "code",
   "execution_count": 151,
   "metadata": {
    "colab": {
     "base_uri": "https://localhost:8080/",
     "height": 281
    },
    "id": "g7PukDyI8rd-",
    "outputId": "c4141940-d740-4c04-d506-7dd63b91c4c6"
   },
   "outputs": [
    {
     "data": {
      "image/png": "[encoded data removed]",
      "text/plain": [
       "<Figure size 432x288 with 2 Axes>"
      ]
     },
     "metadata": {
      "needs_background": "light"
     },
     "output_type": "display_data"
    }
   ],
   "source": [
    "plt.subplot(121)\n",
    "plt.title('Loss')\n",
    "plt.plot(lstm_history.history['loss'], label='train')\n",
    "plt.plot(lstm_history.history['val_loss'], label='test')\n",
    "plt.legend()\n",
    "# plot accuracy during training\n",
    "plt.subplot(122)\n",
    "plt.title('Accuracy')\n",
    "plt.plot(lstm_history.history['accuracy'], label='train')\n",
    "plt.plot(lstm_history.history['val_accuracy'], label='test')\n",
    "plt.legend()\n",
    "plt.show()"
   ]
  },
  {
   "cell_type": "markdown",
   "metadata": {
    "id": "Od434U2aIOny"
   },
   "source": [
    "# compare between cnn and lstm algorthim"
   ]
  },
  {
   "cell_type": "code",
   "execution_count": 152,
   "metadata": {
    "colab": {
     "base_uri": "https://localhost:8080/",
     "height": 621
    },
    "id": "mLA3W0xoIMvj",
    "outputId": "a7d73f57-41fa-4cc6-c787-8d6663c1f9bb"
   },
   "outputs": [
    {
     "data": {
      "image/png": "[encoded data removed]",
      "text/plain": [
       "<Figure size 720x720 with 4 Axes>"
      ]
     },
     "metadata": {
      "needs_background": "light"
     },
     "output_type": "display_data"
    }
   ],
   "source": [
    "fig, axs = plt.subplots(2, 2,figsize=(10,10))\n",
    "axs[0, 0].plot(lstm_history.history['accuracy'], label='train')\n",
    "axs[0, 0].plot(lstm_history.history['val_accuracy'], label='test')\n",
    "axs[0, 0].set_title('Accuracy_LSTM')\n",
    "\n",
    "axs[0, 1].plot(lstm_history.history['loss'], label='train')\n",
    "axs[0, 1].plot(lstm_history.history['val_loss'], label='test')\n",
    "axs[0, 1].set_title('loss_LSTM')\n",
    "\n",
    "axs[1, 0].plot(cnn_history.history['accuracy'], label='train')\n",
    "axs[1, 0].plot(cnn_history.history['val_accuracy'], label='test')\n",
    "axs[1, 0].set_title('Accuracy_cnn')\n",
    "axs[1, 1].plot(cnn_history.history['loss'], label='train')\n",
    "axs[1, 1].plot(cnn_history.history['val_loss'], label='test')\n",
    "axs[1, 1].set_title('loss_cnn')\n",
    "\n",
    "for ax in axs.flat:\n",
    "    ax.set(xlabel='x-label', ylabel='y-label')\n",
    "\n",
    "# Hide x labels and tick labels for top plots and y ticks for right plots.\n",
    "for ax in axs.flat:\n",
    "    ax.label_outer()"
   ]
  },
  {
   "cell_type": "code",
   "execution_count": 153,
   "metadata": {
    "colab": {
     "base_uri": "https://localhost:8080/",
     "height": 309
    },
    "id": "NLfIjZlzIMsr",
    "outputId": "92217693-463b-427e-ac8d-2007969c2a4e"
   },
   "outputs": [
    {
     "data": {
      "image/png": "[encoded data removed]",
      "text/plain": [
       "<Figure size 432x288 with 2 Axes>"
      ]
     },
     "metadata": {
      "needs_background": "light"
     },
     "output_type": "display_data"
    },
    {
     "data": {
      "image/png": "[encoded data removed]",
      "text/plain": [
       "<Figure size 432x288 with 2 Axes>"
      ]
     },
     "metadata": {
      "needs_background": "light"
     },
     "output_type": "display_data"
    }
   ],
   "source": [
    "plt.subplot(221)\n",
    "plt.title('LSTM_Loss')\n",
    "plt.plot(lstm_history.history['loss'], label='train')\n",
    "plt.plot(lstm_history.history['val_loss'], label='test')\n",
    "plt.legend()\n",
    "# plot accuracy during training\n",
    "plt.subplot(222)\n",
    "plt.title('LSTM_Accuracy')\n",
    "plt.plot(lstm_history.history['accuracy'], label='train')\n",
    "plt.plot(lstm_history.history['val_accuracy'], label='test')\n",
    "plt.legend()\n",
    "plt.show()\n",
    "plt.subplot(223)\n",
    "plt.title('cnn1_Loss')\n",
    "plt.plot(cnn1_history.history['loss'], label='train')\n",
    "plt.plot(cnn1_history.history['val_loss'], label='test')\n",
    "plt.legend()\n",
    "# plot accuracy during training\n",
    "plt.subplot(224)\n",
    "plt.title('cnn1_Accuracy')\n",
    "plt.plot(cnn1_history.history['accuracy'], label='train')\n",
    "plt.plot(cnn1_history.history['val_accuracy'], label='test')\n",
    "plt.legend()\n",
    "plt.show()"
   ]
  },
  {
   "cell_type": "markdown",
   "metadata": {
    "id": "hzoJizOdphdM"
   },
   "source": [
    "## Machine Learning Algorthim"
   ]
  },
  {
   "cell_type": "code",
   "execution_count": 154,
   "metadata": {
    "colab": {
     "base_uri": "https://localhost:8080/"
    },
    "id": "AmrTH73hQaW8",
    "outputId": "a5a536ec-08d7-4ebd-ee98-2e672bcdbe02"
   },
   "outputs": [
    {
     "name": "stdout",
     "output_type": "stream",
     "text": [
      "Successfully installed catboost-1.0.4\n"
     ]
    }
   ],
   "source": [
    "!pip install catboost"
   ]
  },
  {
   "cell_type": "code",
   "execution_count": 178,
   "metadata": {
    "id": "9Q6mWgvZ8rd_"
   },
   "outputs": [],
   "source": [
    "# classifiaction.\n",
    "from sklearn.linear_model import LogisticRegression\n",
    "from sklearn.neighbors import KNeighborsClassifier\n",
    "from sklearn.ensemble import RandomForestClassifier\n",
    "# HistGradientBoostingClassifier\n",
    "from xgboost import XGBClassifier\n",
    "from catboost import CatBoostClassifier\n",
    "from lightgbm import LGBMClassifier"
   ]
  },
  {
   "cell_type": "code",
   "execution_count": 179,
   "metadata": {
    "id": "3fCGe6M1Jn8p"
   },
   "outputs": [],
   "source": [
    "label = ['course content', 'structure', 'instructor', 'price', 'speed']"
   ]
  },
  {
   "cell_type": "markdown",
   "metadata": {},
   "source": [
    "# logistic regression"
   ]
  },
  {
   "cell_type": "code",
   "execution_count": 180,
   "metadata": {},
   "outputs": [
    {
     "name": "stderr",
     "output_type": "stream",
     "text": [
      "C:\\Users\\Mahmoud\\anaconda3\\lib\\site-packages\\sklearn\\linear_model\\_logistic.py:814: ConvergenceWarning: lbfgs failed to converge (status=1):\n",
      "STOP: TOTAL NO. of ITERATIONS REACHED LIMIT.\n",
      "\n",
      "Increase the number of iterations (max_iter) or scale the data as shown in:\n",
      "    https://scikit-learn.org/stable/modules/preprocessing.html\n",
      "Please also refer to the documentation for alternative solver options:\n",
      "    https://scikit-learn.org/stable/modules/linear_model.html#logistic-regression\n",
      "  n_iter_i = _check_optimize_result(\n"
     ]
    }
   ],
   "source": [
    "#init logistic regression model\n",
    "LogisticRegression_model = LogisticRegression()\n",
    "#fit it on train data\n",
    "LogisticRegression_model.fit(x_train, y_train)\n",
    "#predict on validation data\n",
    "LogisticRegression_model_y_pred = LogisticRegression_model.predict(x_validate)"
   ]
  },
  {
   "cell_type": "code",
   "execution_count": 182,
   "metadata": {
    "colab": {
     "base_uri": "https://localhost:8080/",
     "height": 677
    },
    "id": "_em7SbyS8reA",
    "outputId": "84e4d7fc-62a8-4a0e-e465-8313346870f4"
   },
   "outputs": [
    {
     "name": "stdout",
     "output_type": "stream",
     "text": [
      "Accuracy: 0.41938674579624136\n"
     ]
    }
   ],
   "source": [
    "\n",
    "print('Accuracy:',accuracy_score(y_validate, LogisticRegression_model_y_pred))\n",
    "# show_report_con(LogisticRegression_model_y_pred)"
   ]
  },
  {
   "cell_type": "code",
   "execution_count": 38,
   "metadata": {
    "colab": {
     "base_uri": "https://localhost:8080/"
    },
    "id": "uWUOlnkwOQ1k",
    "outputId": "215190a0-360c-47d2-bfc1-b67ce332c2d7"
   },
   "outputs": [
    {
     "name": "stdout",
     "output_type": "stream",
     "text": [
      "0.7010373703287089\n",
      "0.21632736682329762\n",
      "0.20523607466267735\n",
      "0.17862497396188076\n"
     ]
    }
   ],
   "source": [
    "print_acc_pre_rec_f1(LogisticRegression_model_y_pred)"
   ]
  },
  {
   "cell_type": "markdown",
   "metadata": {},
   "source": [
    "# **another models**"
   ]
  },
  {
   "cell_type": "markdown",
   "metadata": {},
   "source": [
    "# KNN"
   ]
  },
  {
   "cell_type": "code",
   "execution_count": 183,
   "metadata": {},
   "outputs": [],
   "source": [
    "KNeighborsClassifier_model = KNeighborsClassifier()\n",
    "KNeighborsClassifier_model.fit(x_train, y_train)\n",
    "KNeighborsClassifier_model_y_pred = KNeighborsClassifier_model.predict(x_validate)"
   ]
  },
  {
   "cell_type": "code",
   "execution_count": 184,
   "metadata": {
    "colab": {
     "base_uri": "https://localhost:8080/",
     "height": 538
    },
    "id": "1-DYE0K78reC",
    "outputId": "19d386d8-bb42-453b-8468-5cc89af57d18"
   },
   "outputs": [
    {
     "name": "stdout",
     "output_type": "stream",
     "text": [
      "Accuracy: 0.37190900098911966\n"
     ]
    }
   ],
   "source": [
    "print('Accuracy:',accuracy_score(y_validate, KNeighborsClassifier_model_y_pred))\n",
    "# show_report_con(KNeighborsClassifier_model_y_pred)"
   ]
  },
  {
   "cell_type": "code",
   "execution_count": 41,
   "metadata": {
    "colab": {
     "base_uri": "https://localhost:8080/"
    },
    "id": "SZf86ZuXOw-R",
    "outputId": "6fd8f15a-d2be-446f-8450-b45f5df91b1d"
   },
   "outputs": [
    {
     "name": "stdout",
     "output_type": "stream",
     "text": [
      "0.6440444944381952\n",
      "0.25483691191959157\n",
      "0.22244509815028227\n",
      "0.2238802548178611\n"
     ]
    }
   ],
   "source": [
    "print_acc_pre_rec_f1(KNeighborsClassifier_model_y_pred)"
   ]
  },
  {
   "cell_type": "markdown",
   "metadata": {},
   "source": [
    "# RandomForestClassifier"
   ]
  },
  {
   "cell_type": "code",
   "execution_count": 185,
   "metadata": {},
   "outputs": [],
   "source": [
    "RandomForestClassifier_model = RandomForestClassifier()\n",
    "RandomForestClassifier_model.fit(x_train, y_train)\n",
    "RandomForestClassifier_model_y_pred = RandomForestClassifier_model.predict(x_validate)"
   ]
  },
  {
   "cell_type": "code",
   "execution_count": 186,
   "metadata": {
    "colab": {
     "base_uri": "https://localhost:8080/",
     "height": 538
    },
    "id": "2p3Y3CU68reD",
    "outputId": "640edac7-5d3b-4cbd-84b5-83ebca7e7a4c"
   },
   "outputs": [
    {
     "name": "stdout",
     "output_type": "stream",
     "text": [
      "Accuracy: 0.44906033630069236\n"
     ]
    }
   ],
   "source": [
    "\n",
    "print('Accuracy:',accuracy_score(y_validate, RandomForestClassifier_model_y_pred))\n",
    "# show_report_con(RandomForestClassifier_model_y_pred)"
   ]
  },
  {
   "cell_type": "code",
   "execution_count": 50,
   "metadata": {
    "colab": {
     "base_uri": "https://localhost:8080/"
    },
    "id": "LL8zF5YsOxks",
    "outputId": "9ca4afb3-578a-4409-9883-ee512b201e62"
   },
   "outputs": [
    {
     "name": "stdout",
     "output_type": "stream",
     "text": [
      "0.6440444944381952\n",
      "0.3298155921054399\n",
      "0.2108040159598396\n",
      "0.19149349403789875\n"
     ]
    }
   ],
   "source": [
    "print_acc_pre_rec_f1(RandomForestClassifier_model_y_pred)"
   ]
  },
  {
   "cell_type": "markdown",
   "metadata": {},
   "source": [
    "# CatBoostClassifier"
   ]
  },
  {
   "cell_type": "code",
   "execution_count": 187,
   "metadata": {},
   "outputs": [],
   "source": [
    "CatBoostClassifier_model = CatBoostClassifier(learning_rate= 0.05, depth= 8, l2_leaf_reg = 21, verbose=0)\n",
    "CatBoostClassifier_model.fit(x_train, y_train)\n",
    "CatBoostClassifier_model_y_pred = CatBoostClassifier_model.predict(x_validate)"
   ]
  },
  {
   "cell_type": "code",
   "execution_count": 188,
   "metadata": {
    "colab": {
     "base_uri": "https://localhost:8080/",
     "height": 538
    },
    "id": "cYeeCh-z8reG",
    "outputId": "b0d9edbf-7bcd-4a35-83a5-3753ce01e0e7"
   },
   "outputs": [
    {
     "name": "stdout",
     "output_type": "stream",
     "text": [
      "Accuracy: 0.4411473788328388\n"
     ]
    }
   ],
   "source": [
    "print('Accuracy:',accuracy_score(y_validate, CatBoostClassifier_model_y_pred))\n",
    "# show_report_con(CatBoostClassifier_model_y_pred)"
   ]
  },
  {
   "cell_type": "code",
   "execution_count": 45,
   "metadata": {
    "colab": {
     "base_uri": "https://localhost:8080/"
    },
    "id": "Ip_KeFBiO2-q",
    "outputId": "8b92be83-6c5f-4dee-b090-72104e6e90e5"
   },
   "outputs": [
    {
     "name": "stdout",
     "output_type": "stream",
     "text": [
      "0.707286589176353\n",
      "0.2827775672603259\n",
      "0.20372082788064683\n",
      "0.1747598634505329\n"
     ]
    }
   ],
   "source": [
    "print_acc_pre_rec_f1(CatBoostClassifier_model_y_pred)"
   ]
  },
  {
   "cell_type": "code",
   "execution_count": 189,
   "metadata": {},
   "outputs": [],
   "source": [
    "LGBMClassifier_model = LGBMClassifier()\n",
    "LGBMClassifier_model.fit(x_train, y_train)\n",
    "LGBMClassifier_model_y_pred = LGBMClassifier_model.predict(x_validate)"
   ]
  },
  {
   "cell_type": "code",
   "execution_count": 190,
   "metadata": {
    "colab": {
     "base_uri": "https://localhost:8080/",
     "height": 538
    },
    "id": "RaWV-Oeg8reK",
    "outputId": "e03667e2-06cc-487b-8048-3beed2750387"
   },
   "outputs": [
    {
     "name": "stdout",
     "output_type": "stream",
     "text": [
      "Accuracy: 0.4619188921859545\n"
     ]
    }
   ],
   "source": [
    "print('Accuracy:',accuracy_score(y_validate, LGBMClassifier_model_y_pred))\n",
    "# show_report_con(LGBMClassifier_model_y_pred)"
   ]
  },
  {
   "cell_type": "code",
   "execution_count": 47,
   "metadata": {
    "colab": {
     "base_uri": "https://localhost:8080/"
    },
    "id": "qp_RhS3tO3wJ",
    "outputId": "7e10c979-354b-441f-b02e-b506986b8540"
   },
   "outputs": [
    {
     "name": "stdout",
     "output_type": "stream",
     "text": [
      "0.7085364329458818\n",
      "0.32258657926083945\n",
      "0.21403499756411892\n",
      "0.19619757288670675\n"
     ]
    }
   ],
   "source": [
    "print_acc_pre_rec_f1(LGBMClassifier_model_y_pred)"
   ]
  },
  {
   "cell_type": "code",
   "execution_count": null,
   "metadata": {},
   "outputs": [],
   "source": [
    "# define the model\n",
    "XGBClassifier_model = XGBClassifier()\n",
    "# fit the model on the training set\n",
    "XGBClassifier_model.fit(x_train, y_train)\n",
    "# make predictions on the test set\n",
    "XGBClassifier_model_y_pred = XGBClassifier_model.predict(x_validate)"
   ]
  },
  {
   "cell_type": "code",
   "execution_count": 48,
   "metadata": {
    "colab": {
     "base_uri": "https://localhost:8080/",
     "height": 538
    },
    "id": "dxG6A7mA-NcB",
    "outputId": "805efa37-751b-47cc-f59d-36ae1ad8a06b"
   },
   "outputs": [
    {
     "name": "stdout",
     "output_type": "stream",
     "text": [
      "Accuracy: 0.7065366829146357\n",
      "              precision    recall  f1-score   support\n",
      "\n",
      "           0       0.07      0.00      0.01       230\n",
      "           1       0.33      0.01      0.01       197\n",
      "           2       0.00      0.00      0.00       436\n",
      "           3       0.32      0.01      0.02      1481\n",
      "           4       0.71      1.00      0.83      5657\n",
      "\n",
      "    accuracy                           0.71      8001\n",
      "   macro avg       0.29      0.20      0.17      8001\n",
      "weighted avg       0.57      0.71      0.59      8001\n",
      "\n"
     ]
    },
    {
     "data": {
      "text/plain": [
       "Text(0.5, 1.0, 'Confusion Matrix')"
      ]
     },
     "execution_count": 48,
     "metadata": {},
     "output_type": "execute_result"
    },
    {
     "data": {
      "image/png": "[encoded data removed]",
      "text/plain": [
       "<Figure size 432x288 with 2 Axes>"
      ]
     },
     "metadata": {
      "needs_background": "light"
     },
     "output_type": "display_data"
    }
   ],
   "source": [
    "# calculate classification accuracy\n",
    "print('Accuracy:',accuracy_score(y_validate, XGBClassifier_model_y_pred))\n",
    "show_report_con(XGBClassifier_model_y_pred)"
   ]
  },
  {
   "cell_type": "code",
   "execution_count": 49,
   "metadata": {
    "colab": {
     "base_uri": "https://localhost:8080/"
    },
    "id": "OnKGeePpO4op",
    "outputId": "0d8beda2-fe84-47e1-f3d5-cf43f2ce6c41"
   },
   "outputs": [
    {
     "name": "stdout",
     "output_type": "stream",
     "text": [
      "0.7065366829146357\n",
      "0.2863697998899788\n",
      "0.20336738791400655\n",
      "0.17401543470383488\n"
     ]
    }
   ],
   "source": [
    "print_acc_pre_rec_f1(XGBClassifier_model_y_pred)"
   ]
  }
 ],
 "metadata": {
  "accelerator": "GPU",
  "colab": {
   "collapsed_sections": [],
   "name": "Aspects_category_and_sentiment_towards_those_aspects.ipynb",
   "provenance": []
  },
  "kernelspec": {
   "display_name": "Python 3 (ipykernel)",
   "language": "python",
   "name": "python3"
  },
  "language_info": {
   "codemirror_mode": {
    "name": "ipython",
    "version": 3
   },
   "file_extension": ".py",
   "mimetype": "text/x-python",
   "name": "python",
   "nbconvert_exporter": "python",
   "pygments_lexer": "ipython3",
   "version": "3.9.7"
  }
 },
 "nbformat": 4,
 "nbformat_minor": 1
}
